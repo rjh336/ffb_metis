{
 "cells": [
  {
   "cell_type": "code",
   "execution_count": 1,
   "metadata": {
    "ExecuteTime": {
     "end_time": "2017-12-04T12:02:45.987613Z",
     "start_time": "2017-12-04T12:02:45.144648Z"
    },
    "collapsed": true
   },
   "outputs": [],
   "source": [
    "import pandas as pd\n",
    "import pickle\n",
    "import os\n",
    "import re\n",
    "import numpy as np\n",
    "import matplotlib.pyplot as plt\n",
    "%matplotlib inline"
   ]
  },
  {
   "cell_type": "markdown",
   "metadata": {},
   "source": [
    "## load in data"
   ]
  },
  {
   "cell_type": "code",
   "execution_count": 2,
   "metadata": {
    "ExecuteTime": {
     "end_time": "2017-12-04T12:02:46.766308Z",
     "start_time": "2017-12-04T12:02:45.992210Z"
    },
    "collapsed": true
   },
   "outputs": [],
   "source": [
    "path = './data/weighted/'\n",
    "files = os.listdir(path)\n",
    "player_stats_files = sorted([(int(re.sub('[^0-9]', '', f)), path + f)\n",
    "                             for f in files if \"player\" in f], key=lambda x: x[0])\n",
    "opp_stats_files = sorted([(int(re.sub('[^0-9]', '', f)), path + f)\n",
    "                          for f in files if \"opp\" in f], key=lambda x: x[0])\n",
    "\n",
    "historical_dfs = []\n",
    "player_stats_2017 = None\n",
    "for year, fn in player_stats_files:\n",
    "    if year == 2017:\n",
    "        player_stats_2017 = pd.read_csv(fn, index_col=0)\n",
    "    else:\n",
    "        historical_dfs.append(pd.read_csv(fn, index_col=0))\n",
    "player_stats_hist = pd.concat(historical_dfs)\n",
    "\n",
    "historical_dfs = []\n",
    "opp_stats_2017 = None\n",
    "for year, fn in opp_stats_files:\n",
    "    if year == 2017:\n",
    "        opp_stats_2017 = pd.read_csv(fn, index_col=0)\n",
    "    else:\n",
    "        historical_dfs.append(pd.read_csv(fn, index_col=0))\n",
    "opp_stats_hist = pd.concat(historical_dfs)\n",
    "\n",
    "new_opp_cols = ['offense', 'defense', 'opp_first_downs', 'opp_points',\n",
    "       'opp_passing_yds', 'opp_penalty_cnt', 'opp_penalty_yds', 'opp_pos_time',\n",
    "       'opp_punt_avg', 'opp_punt_cnt', 'opp_punt_yds', 'opp_rushing_yds',\n",
    "       'opp_total_yds', 'opp_turnovers', 'week']\n",
    "opp_stats_hist.columns = new_opp_cols\n",
    "opp_stats_2017.columns = new_opp_cols"
   ]
  },
  {
   "cell_type": "markdown",
   "metadata": {},
   "source": [
    "## clean data and create target variable"
   ]
  },
  {
   "cell_type": "code",
   "execution_count": 3,
   "metadata": {
    "ExecuteTime": {
     "end_time": "2017-12-04T12:02:47.112313Z",
     "start_time": "2017-12-04T12:02:46.773680Z"
    },
    "collapsed": true
   },
   "outputs": [],
   "source": [
    "def clean(player_stats):\n",
    "    player_stats['fantasy_points'] = (player_stats['passing_tds'] * 4) +\\\n",
    "    (player_stats['passing_yds'] * 0.04) +\\\n",
    "    (player_stats['passing_twoptm'] * 2) +\\\n",
    "    (player_stats['passing_ints'] * -2) +\\\n",
    "    (player_stats['rushing_tds'] * 6) +\\\n",
    "    (player_stats['rushing_yds'] * 0.1) +\\\n",
    "    (player_stats['rushing_twoptm'] * 2) +\\\n",
    "    (player_stats['receiving_tds'] * 6) +\\\n",
    "    (player_stats['receiving_yds'] * 0.1) +\\\n",
    "    (player_stats['receiving_twoptm'] * 2) +\\\n",
    "    (player_stats['kickret_tds'] * 6) +\\\n",
    "    (player_stats['puntret_tds'] * 6)\n",
    "    \n",
    "    include_positions = ['QB', 'TE', 'WR', 'RB']\n",
    "    player_stats['position'] = player_stats['position'].str.replace('FB','RB')\n",
    "    player_stats['team'] = player_stats['team'].str.replace('SD','LAC')\n",
    "    player_stats['team'] = player_stats['team'].str.replace('JAC','JAX')\n",
    "    player_stats = player_stats[player_stats['position'].isin(include_positions)]\n",
    "    return player_stats\n",
    "\n",
    "player_stats_2017 = clean(player_stats_2017)\n",
    "player_stats_hist = clean(player_stats_hist)"
   ]
  },
  {
   "cell_type": "markdown",
   "metadata": {},
   "source": [
    "## feature engineering"
   ]
  },
  {
   "cell_type": "code",
   "execution_count": 4,
   "metadata": {
    "ExecuteTime": {
     "end_time": "2017-12-04T12:02:47.123686Z",
     "start_time": "2017-12-04T12:02:47.113676Z"
    },
    "collapsed": true
   },
   "outputs": [],
   "source": [
    "kick_stats = ['kicking_fga', 'kicking_fgm',\n",
    "       'kicking_fgyds', 'kicking_totpfg', 'kicking_xpa', 'kicking_xpb',\n",
    "       'kicking_xpmade', 'kicking_xpmissed', 'kicking_xptot', 'kickret_avg',\n",
    "       'kickret_lng', 'kickret_lngtd', 'kickret_ret', 'kickret_tds',\n",
    "       'punting_avg', 'punting_i20', 'punting_lng', 'punting_pts',\n",
    "       'punting_yds', 'puntret_avg', 'puntret_lng', 'puntret_lngtd',\n",
    "       'puntret_ret', 'puntret_tds',]\n",
    "\n",
    "stat_cols = ['fumbles_lost', 'fumbles_rcv', 'fumbles_tot','fumbles_trcv', 'fumbles_yds', \n",
    "       'passing_att', 'passing_cmp', 'passing_ints', 'passing_tds',\n",
    "       'passing_twopta', 'passing_twoptm', 'passing_yds','receiving_lng', 'receiving_lngtd',\n",
    "       'receiving_rec', 'receiving_tds', 'receiving_twopta',\n",
    "       'receiving_twoptm', 'receiving_yds', 'rushing_att', 'rushing_lng',\n",
    "       'rushing_lngtd', 'rushing_tds', 'rushing_twopta', 'rushing_twoptm',\n",
    "       'rushing_yds','fantasy_points']"
   ]
  },
  {
   "cell_type": "markdown",
   "metadata": {},
   "source": [
    "### Historical player stats"
   ]
  },
  {
   "cell_type": "code",
   "execution_count": 5,
   "metadata": {
    "ExecuteTime": {
     "end_time": "2017-12-04T12:02:47.216109Z",
     "start_time": "2017-12-04T12:02:47.125652Z"
    },
    "collapsed": true
   },
   "outputs": [],
   "source": [
    "# compute historical player stats\n",
    "player_stats_hist = player_stats_hist\n",
    "hist_stats = player_stats_hist.groupby('id')[stat_cols].agg(['mean','count']).reset_index()\n",
    "hist_stats.columns = hist_stats.columns.map('_hist'.join)\n",
    "hist_stats = hist_stats.rename(columns={'id_hist':'id'})"
   ]
  },
  {
   "cell_type": "markdown",
   "metadata": {},
   "source": [
    "### Intra-season player stats"
   ]
  },
  {
   "cell_type": "code",
   "execution_count": 6,
   "metadata": {
    "ExecuteTime": {
     "end_time": "2017-12-04T12:02:47.264123Z",
     "start_time": "2017-12-04T12:02:47.217632Z"
    },
    "collapsed": true
   },
   "outputs": [],
   "source": [
    "# compute intra-season player stats\n",
    "player_stats_2017.sort_values(['id','week'], inplace=True)\n",
    "player_stats = player_stats_2017[stat_cols+['id','week','team','position','full_name']]"
   ]
  },
  {
   "cell_type": "code",
   "execution_count": 7,
   "metadata": {
    "ExecuteTime": {
     "end_time": "2017-12-04T12:02:47.457137Z",
     "start_time": "2017-12-04T12:02:47.266129Z"
    },
    "collapsed": true
   },
   "outputs": [],
   "source": [
    "def get_trend(df):\n",
    "    # compute 3-week and 2-week points trends\n",
    "    deltas = df.groupby(['id']).pct_change()\n",
    "    deltas = deltas.add_prefix('chg_')\n",
    "    deltas = pd.concat([df, deltas], axis=1)\n",
    "    deltas2 = deltas.groupby(['id'])[deltas.columns].shift(1).fillna(0)\n",
    "    deltas3 = deltas.groupby(['id'])[deltas.columns].shift(2).fillna(0)\n",
    "    deltas2 = deltas2.add_prefix('per2_')\n",
    "    deltas3 = deltas3.add_prefix('per3_')\n",
    "    trend_df = pd.concat([deltas, deltas2, deltas3], axis=1)\n",
    "    # average prior three deltas to get trend\n",
    "    for col in stat_cols:\n",
    "        name = 'trend_'+col\n",
    "        trend_df[name] = trend_df[['chg_'+col,'per2_chg_'+col,'per3_chg_'+col]].mean(axis=1).fillna(0)\n",
    "    return trend_df\n",
    "\n",
    "def get_cumul_mean_stats(df, weeks):\n",
    "    weeks_stats_mean = []\n",
    "    for week in weeks:\n",
    "        tmp = df[df.week <= week]\n",
    "        tmp = tmp.groupby(['id'])[stat_cols].mean().reset_index()\n",
    "        tmp = tmp.add_suffix('_mean')\n",
    "        tmp['week'] = week\n",
    "        weeks_stats_mean.append(tmp)\n",
    "    cumavg_stats = pd.concat(weeks_stats_mean)\n",
    "    cumavg_stats = cumavg_stats.rename(columns={'id_mean':'id'})\n",
    "    return cumavg_stats\n",
    "\n",
    "def get_cumul_stats_time_weighted(df, weeks):\n",
    "    weeks_stats_mean_wgt = []\n",
    "    for week in weeks:\n",
    "        tmp1 = df[df.week <= week]\n",
    "        mult = lambda x: np.asarray(x) * np.asarray(tmp1.week)\n",
    "        tmp = tmp1[['id']+stat_cols].set_index('id').apply(mult).reset_index()\n",
    "        tmp = tmp.groupby(['id'])[stat_cols].mean().reset_index()\n",
    "        tmp = tmp.add_suffix('_wgtmean')\n",
    "        tmp['week'] = week\n",
    "        weeks_stats_mean_wgt.append(tmp)\n",
    "    cumavg_stats_wgt = pd.concat(weeks_stats_mean_wgt)\n",
    "    cumavg_stats_wgt = cumavg_stats_wgt.rename(columns={'id_wgtmean':'id'})\n",
    "    return cumavg_stats_wgt\n",
    "\n",
    "def defensive_ptsallow(matchups, weeks):\n",
    "    # compute weekly cumulative mean points allowed by each defense\n",
    "    defense_ranks_dfs = []\n",
    "    for week in weeks:\n",
    "        matchweek = matchups[matchups.week <= week]\n",
    "        # weekly sum of pts allowed by a given defense to each position\n",
    "        weekly_sums = matchweek.groupby(['week','defense','position'])['fantasy_points'].sum().reset_index()\n",
    "        # STD mean of weekly sums for each position\n",
    "        defense_pts_allowed = weekly_sums.groupby(['defense','position'])['fantasy_points'].mean().reset_index()\n",
    "        defense_pts_allowed = defense_pts_allowed.rename(columns={'fantasy_points':'defensive_matchup_allowed'})\n",
    "        defense_pts_allowed['week'] = week\n",
    "        defense_ranks_dfs.append(defense_pts_allowed)\n",
    "    defense_ranks = pd.concat(defense_ranks_dfs)\n",
    "    return defense_ranks"
   ]
  },
  {
   "cell_type": "code",
   "execution_count": 9,
   "metadata": {
    "ExecuteTime": {
     "end_time": "2017-12-04T12:03:26.269799Z",
     "start_time": "2017-12-04T12:03:18.970591Z"
    }
   },
   "outputs": [],
   "source": [
    "weeks = sorted(player_stats.week.unique().tolist())\n",
    "\n",
    "# offensive player stats\n",
    "trend_df         = get_trend(player_stats)\n",
    "cumavg_stats     = get_cumul_mean_stats(player_stats, weeks)\n",
    "cumavg_stats_wgt = get_cumul_stats_time_weighted(player_stats, weeks)\n",
    "\n",
    "# defensive opponent stats\n",
    "sched             = opp_stats_2017[['offense','defense','week']]\n",
    "matchups          = player_stats.merge(sched,how='left',left_on=['week','team'],right_on=['week','offense'])\n",
    "defense_ranks     = defensive_ptsallow(matchups, weeks)"
   ]
  },
  {
   "cell_type": "code",
   "execution_count": 40,
   "metadata": {
    "ExecuteTime": {
     "end_time": "2017-12-04T12:27:06.681759Z",
     "start_time": "2017-12-04T12:27:06.647583Z"
    }
   },
   "outputs": [
    {
     "data": {
      "text/html": [
       "<div>\n",
       "<style>\n",
       "    .dataframe thead tr:only-child th {\n",
       "        text-align: right;\n",
       "    }\n",
       "\n",
       "    .dataframe thead th {\n",
       "        text-align: left;\n",
       "    }\n",
       "\n",
       "    .dataframe tbody tr th {\n",
       "        vertical-align: top;\n",
       "    }\n",
       "</style>\n",
       "<table border=\"1\" class=\"dataframe\">\n",
       "  <thead>\n",
       "    <tr style=\"text-align: right;\">\n",
       "      <th></th>\n",
       "      <th>defense</th>\n",
       "      <th>position</th>\n",
       "      <th>defensive_matchup_allowed</th>\n",
       "      <th>week</th>\n",
       "    </tr>\n",
       "  </thead>\n",
       "  <tbody>\n",
       "    <tr>\n",
       "      <th>0</th>\n",
       "      <td>ARI</td>\n",
       "      <td>QB</td>\n",
       "      <td>27.080000</td>\n",
       "      <td>1</td>\n",
       "    </tr>\n",
       "    <tr>\n",
       "      <th>1</th>\n",
       "      <td>ARI</td>\n",
       "      <td>RB</td>\n",
       "      <td>14.900000</td>\n",
       "      <td>1</td>\n",
       "    </tr>\n",
       "    <tr>\n",
       "      <th>2</th>\n",
       "      <td>ARI</td>\n",
       "      <td>TE</td>\n",
       "      <td>0.900000</td>\n",
       "      <td>1</td>\n",
       "    </tr>\n",
       "    <tr>\n",
       "      <th>3</th>\n",
       "      <td>ARI</td>\n",
       "      <td>WR</td>\n",
       "      <td>43.200000</td>\n",
       "      <td>1</td>\n",
       "    </tr>\n",
       "    <tr>\n",
       "      <th>4</th>\n",
       "      <td>ATL</td>\n",
       "      <td>QB</td>\n",
       "      <td>12.520000</td>\n",
       "      <td>1</td>\n",
       "    </tr>\n",
       "    <tr>\n",
       "      <th>5</th>\n",
       "      <td>ATL</td>\n",
       "      <td>RB</td>\n",
       "      <td>30.600000</td>\n",
       "      <td>1</td>\n",
       "    </tr>\n",
       "    <tr>\n",
       "      <th>6</th>\n",
       "      <td>ATL</td>\n",
       "      <td>TE</td>\n",
       "      <td>7.000000</td>\n",
       "      <td>1</td>\n",
       "    </tr>\n",
       "    <tr>\n",
       "      <th>7</th>\n",
       "      <td>ATL</td>\n",
       "      <td>WR</td>\n",
       "      <td>6.700000</td>\n",
       "      <td>1</td>\n",
       "    </tr>\n",
       "    <tr>\n",
       "      <th>8</th>\n",
       "      <td>BAL</td>\n",
       "      <td>QB</td>\n",
       "      <td>-1.000000</td>\n",
       "      <td>1</td>\n",
       "    </tr>\n",
       "    <tr>\n",
       "      <th>9</th>\n",
       "      <td>BAL</td>\n",
       "      <td>RB</td>\n",
       "      <td>12.700000</td>\n",
       "      <td>1</td>\n",
       "    </tr>\n",
       "    <tr>\n",
       "      <th>10</th>\n",
       "      <td>BAL</td>\n",
       "      <td>TE</td>\n",
       "      <td>0.900000</td>\n",
       "      <td>1</td>\n",
       "    </tr>\n",
       "    <tr>\n",
       "      <th>11</th>\n",
       "      <td>BAL</td>\n",
       "      <td>WR</td>\n",
       "      <td>10.900000</td>\n",
       "      <td>1</td>\n",
       "    </tr>\n",
       "    <tr>\n",
       "      <th>12</th>\n",
       "      <td>BUF</td>\n",
       "      <td>QB</td>\n",
       "      <td>9.480000</td>\n",
       "      <td>1</td>\n",
       "    </tr>\n",
       "    <tr>\n",
       "      <th>13</th>\n",
       "      <td>BUF</td>\n",
       "      <td>RB</td>\n",
       "      <td>7.500000</td>\n",
       "      <td>1</td>\n",
       "    </tr>\n",
       "    <tr>\n",
       "      <th>14</th>\n",
       "      <td>BUF</td>\n",
       "      <td>TE</td>\n",
       "      <td>2.500000</td>\n",
       "      <td>1</td>\n",
       "    </tr>\n",
       "    <tr>\n",
       "      <th>15</th>\n",
       "      <td>BUF</td>\n",
       "      <td>WR</td>\n",
       "      <td>9.100000</td>\n",
       "      <td>1</td>\n",
       "    </tr>\n",
       "    <tr>\n",
       "      <th>16</th>\n",
       "      <td>CAR</td>\n",
       "      <td>RB</td>\n",
       "      <td>10.500000</td>\n",
       "      <td>1</td>\n",
       "    </tr>\n",
       "    <tr>\n",
       "      <th>17</th>\n",
       "      <td>CAR</td>\n",
       "      <td>TE</td>\n",
       "      <td>2.700000</td>\n",
       "      <td>1</td>\n",
       "    </tr>\n",
       "    <tr>\n",
       "      <th>18</th>\n",
       "      <td>CAR</td>\n",
       "      <td>WR</td>\n",
       "      <td>11.700000</td>\n",
       "      <td>1</td>\n",
       "    </tr>\n",
       "    <tr>\n",
       "      <th>19</th>\n",
       "      <td>CHI</td>\n",
       "      <td>QB</td>\n",
       "      <td>17.940000</td>\n",
       "      <td>1</td>\n",
       "    </tr>\n",
       "    <tr>\n",
       "      <th>20</th>\n",
       "      <td>CHI</td>\n",
       "      <td>RB</td>\n",
       "      <td>15.700000</td>\n",
       "      <td>1</td>\n",
       "    </tr>\n",
       "    <tr>\n",
       "      <th>21</th>\n",
       "      <td>CHI</td>\n",
       "      <td>TE</td>\n",
       "      <td>18.800000</td>\n",
       "      <td>1</td>\n",
       "    </tr>\n",
       "    <tr>\n",
       "      <th>22</th>\n",
       "      <td>CHI</td>\n",
       "      <td>WR</td>\n",
       "      <td>14.900000</td>\n",
       "      <td>1</td>\n",
       "    </tr>\n",
       "    <tr>\n",
       "      <th>23</th>\n",
       "      <td>CIN</td>\n",
       "      <td>QB</td>\n",
       "      <td>6.840000</td>\n",
       "      <td>1</td>\n",
       "    </tr>\n",
       "    <tr>\n",
       "      <th>24</th>\n",
       "      <td>CIN</td>\n",
       "      <td>RB</td>\n",
       "      <td>24.800000</td>\n",
       "      <td>1</td>\n",
       "    </tr>\n",
       "    <tr>\n",
       "      <th>25</th>\n",
       "      <td>CIN</td>\n",
       "      <td>TE</td>\n",
       "      <td>1.900000</td>\n",
       "      <td>1</td>\n",
       "    </tr>\n",
       "    <tr>\n",
       "      <th>26</th>\n",
       "      <td>CIN</td>\n",
       "      <td>WR</td>\n",
       "      <td>13.100000</td>\n",
       "      <td>1</td>\n",
       "    </tr>\n",
       "    <tr>\n",
       "      <th>27</th>\n",
       "      <td>CLE</td>\n",
       "      <td>QB</td>\n",
       "      <td>15.720000</td>\n",
       "      <td>1</td>\n",
       "    </tr>\n",
       "    <tr>\n",
       "      <th>28</th>\n",
       "      <td>CLE</td>\n",
       "      <td>RB</td>\n",
       "      <td>5.800000</td>\n",
       "      <td>1</td>\n",
       "    </tr>\n",
       "    <tr>\n",
       "      <th>29</th>\n",
       "      <td>CLE</td>\n",
       "      <td>TE</td>\n",
       "      <td>16.100000</td>\n",
       "      <td>1</td>\n",
       "    </tr>\n",
       "    <tr>\n",
       "      <th>...</th>\n",
       "      <td>...</td>\n",
       "      <td>...</td>\n",
       "      <td>...</td>\n",
       "      <td>...</td>\n",
       "    </tr>\n",
       "    <tr>\n",
       "      <th>98</th>\n",
       "      <td>OAK</td>\n",
       "      <td>TE</td>\n",
       "      <td>8.480000</td>\n",
       "      <td>12</td>\n",
       "    </tr>\n",
       "    <tr>\n",
       "      <th>99</th>\n",
       "      <td>OAK</td>\n",
       "      <td>WR</td>\n",
       "      <td>22.509091</td>\n",
       "      <td>12</td>\n",
       "    </tr>\n",
       "    <tr>\n",
       "      <th>100</th>\n",
       "      <td>PHI</td>\n",
       "      <td>QB</td>\n",
       "      <td>14.396364</td>\n",
       "      <td>12</td>\n",
       "    </tr>\n",
       "    <tr>\n",
       "      <th>101</th>\n",
       "      <td>PHI</td>\n",
       "      <td>RB</td>\n",
       "      <td>11.400000</td>\n",
       "      <td>12</td>\n",
       "    </tr>\n",
       "    <tr>\n",
       "      <th>102</th>\n",
       "      <td>PHI</td>\n",
       "      <td>TE</td>\n",
       "      <td>6.954545</td>\n",
       "      <td>12</td>\n",
       "    </tr>\n",
       "    <tr>\n",
       "      <th>103</th>\n",
       "      <td>PHI</td>\n",
       "      <td>WR</td>\n",
       "      <td>18.372727</td>\n",
       "      <td>12</td>\n",
       "    </tr>\n",
       "    <tr>\n",
       "      <th>104</th>\n",
       "      <td>PIT</td>\n",
       "      <td>QB</td>\n",
       "      <td>12.734545</td>\n",
       "      <td>12</td>\n",
       "    </tr>\n",
       "    <tr>\n",
       "      <th>105</th>\n",
       "      <td>PIT</td>\n",
       "      <td>RB</td>\n",
       "      <td>17.081818</td>\n",
       "      <td>12</td>\n",
       "    </tr>\n",
       "    <tr>\n",
       "      <th>106</th>\n",
       "      <td>PIT</td>\n",
       "      <td>TE</td>\n",
       "      <td>5.472727</td>\n",
       "      <td>12</td>\n",
       "    </tr>\n",
       "    <tr>\n",
       "      <th>107</th>\n",
       "      <td>PIT</td>\n",
       "      <td>WR</td>\n",
       "      <td>17.772727</td>\n",
       "      <td>12</td>\n",
       "    </tr>\n",
       "    <tr>\n",
       "      <th>108</th>\n",
       "      <td>SEA</td>\n",
       "      <td>QB</td>\n",
       "      <td>15.524000</td>\n",
       "      <td>12</td>\n",
       "    </tr>\n",
       "    <tr>\n",
       "      <th>109</th>\n",
       "      <td>SEA</td>\n",
       "      <td>RB</td>\n",
       "      <td>14.563636</td>\n",
       "      <td>12</td>\n",
       "    </tr>\n",
       "    <tr>\n",
       "      <th>110</th>\n",
       "      <td>SEA</td>\n",
       "      <td>TE</td>\n",
       "      <td>6.981818</td>\n",
       "      <td>12</td>\n",
       "    </tr>\n",
       "    <tr>\n",
       "      <th>111</th>\n",
       "      <td>SEA</td>\n",
       "      <td>WR</td>\n",
       "      <td>20.336364</td>\n",
       "      <td>12</td>\n",
       "    </tr>\n",
       "    <tr>\n",
       "      <th>112</th>\n",
       "      <td>SF</td>\n",
       "      <td>QB</td>\n",
       "      <td>19.930909</td>\n",
       "      <td>12</td>\n",
       "    </tr>\n",
       "    <tr>\n",
       "      <th>113</th>\n",
       "      <td>SF</td>\n",
       "      <td>RB</td>\n",
       "      <td>21.536364</td>\n",
       "      <td>12</td>\n",
       "    </tr>\n",
       "    <tr>\n",
       "      <th>114</th>\n",
       "      <td>SF</td>\n",
       "      <td>TE</td>\n",
       "      <td>7.554545</td>\n",
       "      <td>12</td>\n",
       "    </tr>\n",
       "    <tr>\n",
       "      <th>115</th>\n",
       "      <td>SF</td>\n",
       "      <td>WR</td>\n",
       "      <td>21.036364</td>\n",
       "      <td>12</td>\n",
       "    </tr>\n",
       "    <tr>\n",
       "      <th>116</th>\n",
       "      <td>TB</td>\n",
       "      <td>QB</td>\n",
       "      <td>20.294545</td>\n",
       "      <td>12</td>\n",
       "    </tr>\n",
       "    <tr>\n",
       "      <th>117</th>\n",
       "      <td>TB</td>\n",
       "      <td>RB</td>\n",
       "      <td>20.018182</td>\n",
       "      <td>12</td>\n",
       "    </tr>\n",
       "    <tr>\n",
       "      <th>118</th>\n",
       "      <td>TB</td>\n",
       "      <td>TE</td>\n",
       "      <td>6.263636</td>\n",
       "      <td>12</td>\n",
       "    </tr>\n",
       "    <tr>\n",
       "      <th>119</th>\n",
       "      <td>TB</td>\n",
       "      <td>WR</td>\n",
       "      <td>27.758182</td>\n",
       "      <td>12</td>\n",
       "    </tr>\n",
       "    <tr>\n",
       "      <th>120</th>\n",
       "      <td>TEN</td>\n",
       "      <td>QB</td>\n",
       "      <td>17.576364</td>\n",
       "      <td>12</td>\n",
       "    </tr>\n",
       "    <tr>\n",
       "      <th>121</th>\n",
       "      <td>TEN</td>\n",
       "      <td>RB</td>\n",
       "      <td>16.654545</td>\n",
       "      <td>12</td>\n",
       "    </tr>\n",
       "    <tr>\n",
       "      <th>122</th>\n",
       "      <td>TEN</td>\n",
       "      <td>TE</td>\n",
       "      <td>7.410000</td>\n",
       "      <td>12</td>\n",
       "    </tr>\n",
       "    <tr>\n",
       "      <th>123</th>\n",
       "      <td>TEN</td>\n",
       "      <td>WR</td>\n",
       "      <td>22.872727</td>\n",
       "      <td>12</td>\n",
       "    </tr>\n",
       "    <tr>\n",
       "      <th>124</th>\n",
       "      <td>WAS</td>\n",
       "      <td>QB</td>\n",
       "      <td>17.061818</td>\n",
       "      <td>12</td>\n",
       "    </tr>\n",
       "    <tr>\n",
       "      <th>125</th>\n",
       "      <td>WAS</td>\n",
       "      <td>RB</td>\n",
       "      <td>20.045455</td>\n",
       "      <td>12</td>\n",
       "    </tr>\n",
       "    <tr>\n",
       "      <th>126</th>\n",
       "      <td>WAS</td>\n",
       "      <td>TE</td>\n",
       "      <td>10.463636</td>\n",
       "      <td>12</td>\n",
       "    </tr>\n",
       "    <tr>\n",
       "      <th>127</th>\n",
       "      <td>WAS</td>\n",
       "      <td>WR</td>\n",
       "      <td>18.245455</td>\n",
       "      <td>12</td>\n",
       "    </tr>\n",
       "  </tbody>\n",
       "</table>\n",
       "<p>1527 rows × 4 columns</p>\n",
       "</div>"
      ],
      "text/plain": [
       "    defense position  defensive_matchup_allowed  week\n",
       "0       ARI       QB                  27.080000     1\n",
       "1       ARI       RB                  14.900000     1\n",
       "2       ARI       TE                   0.900000     1\n",
       "3       ARI       WR                  43.200000     1\n",
       "4       ATL       QB                  12.520000     1\n",
       "5       ATL       RB                  30.600000     1\n",
       "6       ATL       TE                   7.000000     1\n",
       "7       ATL       WR                   6.700000     1\n",
       "8       BAL       QB                  -1.000000     1\n",
       "9       BAL       RB                  12.700000     1\n",
       "10      BAL       TE                   0.900000     1\n",
       "11      BAL       WR                  10.900000     1\n",
       "12      BUF       QB                   9.480000     1\n",
       "13      BUF       RB                   7.500000     1\n",
       "14      BUF       TE                   2.500000     1\n",
       "15      BUF       WR                   9.100000     1\n",
       "16      CAR       RB                  10.500000     1\n",
       "17      CAR       TE                   2.700000     1\n",
       "18      CAR       WR                  11.700000     1\n",
       "19      CHI       QB                  17.940000     1\n",
       "20      CHI       RB                  15.700000     1\n",
       "21      CHI       TE                  18.800000     1\n",
       "22      CHI       WR                  14.900000     1\n",
       "23      CIN       QB                   6.840000     1\n",
       "24      CIN       RB                  24.800000     1\n",
       "25      CIN       TE                   1.900000     1\n",
       "26      CIN       WR                  13.100000     1\n",
       "27      CLE       QB                  15.720000     1\n",
       "28      CLE       RB                   5.800000     1\n",
       "29      CLE       TE                  16.100000     1\n",
       "..      ...      ...                        ...   ...\n",
       "98      OAK       TE                   8.480000    12\n",
       "99      OAK       WR                  22.509091    12\n",
       "100     PHI       QB                  14.396364    12\n",
       "101     PHI       RB                  11.400000    12\n",
       "102     PHI       TE                   6.954545    12\n",
       "103     PHI       WR                  18.372727    12\n",
       "104     PIT       QB                  12.734545    12\n",
       "105     PIT       RB                  17.081818    12\n",
       "106     PIT       TE                   5.472727    12\n",
       "107     PIT       WR                  17.772727    12\n",
       "108     SEA       QB                  15.524000    12\n",
       "109     SEA       RB                  14.563636    12\n",
       "110     SEA       TE                   6.981818    12\n",
       "111     SEA       WR                  20.336364    12\n",
       "112      SF       QB                  19.930909    12\n",
       "113      SF       RB                  21.536364    12\n",
       "114      SF       TE                   7.554545    12\n",
       "115      SF       WR                  21.036364    12\n",
       "116      TB       QB                  20.294545    12\n",
       "117      TB       RB                  20.018182    12\n",
       "118      TB       TE                   6.263636    12\n",
       "119      TB       WR                  27.758182    12\n",
       "120     TEN       QB                  17.576364    12\n",
       "121     TEN       RB                  16.654545    12\n",
       "122     TEN       TE                   7.410000    12\n",
       "123     TEN       WR                  22.872727    12\n",
       "124     WAS       QB                  17.061818    12\n",
       "125     WAS       RB                  20.045455    12\n",
       "126     WAS       TE                  10.463636    12\n",
       "127     WAS       WR                  18.245455    12\n",
       "\n",
       "[1527 rows x 4 columns]"
      ]
     },
     "execution_count": 40,
     "metadata": {},
     "output_type": "execute_result"
    }
   ],
   "source": [
    "defense_ranks"
   ]
  },
  {
   "cell_type": "code",
   "execution_count": 59,
   "metadata": {
    "ExecuteTime": {
     "end_time": "2017-12-04T12:35:46.069863Z",
     "start_time": "2017-12-04T12:35:46.033320Z"
    },
    "collapsed": true
   },
   "outputs": [],
   "source": [
    "def defensive_ptsallow_wgt(matchups, weeks):\n",
    "    # Calculate season-to-date (STD) weekly fantasy points rankings by position \n",
    "    player_weights = []\n",
    "    for week in weeks:\n",
    "        mask = (matchups.week <= week)\n",
    "        # each player's mean fantasy points STD\n",
    "        std_mean = matchups[mask][['id','team','position','fantasy_points','defense']]\n",
    "        std_mean = std_mean.groupby(['position','id'], as_index=False).mean()\n",
    "\n",
    "        # each player's weight in a given week with respect to their position\n",
    "        week_max_position = std_mean.groupby('position', as_index=False).max()\n",
    "        week_max_position = week_max_position[['position','fantasy_points']]\n",
    "        week_max_position.columns = ['position','fp_max']\n",
    "        weekly_weights = std_mean.merge(week_max_position,how='left',on='position')\n",
    "        weekly_weights['player_weight'] = weekly_weights['fantasy_points'] / weekly_weights['fp_max']\n",
    "        weekly_weights['week'] = week\n",
    "        player_weights.append(weekly_weights)\n",
    "    player_weights = pd.concat(player_weights)\n",
    "    defense_matchups = matchups[['id','week','defense']]\n",
    "    defense_ranks_wgt = weekly_weights.merge(defense_matchups, how=\"inner\", on=['id', 'week'])\n",
    "    return player_weights"
   ]
  },
  {
   "cell_type": "code",
   "execution_count": 60,
   "metadata": {
    "ExecuteTime": {
     "end_time": "2017-12-04T12:35:48.338050Z",
     "start_time": "2017-12-04T12:35:48.052542Z"
    }
   },
   "outputs": [],
   "source": [
    "defense_ranks_wgt = defensive_ptsallow_wgt(matchups, weeks)"
   ]
  },
  {
   "cell_type": "code",
   "execution_count": 61,
   "metadata": {
    "ExecuteTime": {
     "end_time": "2017-12-04T12:35:50.841255Z",
     "start_time": "2017-12-04T12:35:50.826531Z"
    }
   },
   "outputs": [
    {
     "data": {
      "text/html": [
       "<div>\n",
       "<style>\n",
       "    .dataframe thead tr:only-child th {\n",
       "        text-align: right;\n",
       "    }\n",
       "\n",
       "    .dataframe thead th {\n",
       "        text-align: left;\n",
       "    }\n",
       "\n",
       "    .dataframe tbody tr th {\n",
       "        vertical-align: top;\n",
       "    }\n",
       "</style>\n",
       "<table border=\"1\" class=\"dataframe\">\n",
       "  <thead>\n",
       "    <tr style=\"text-align: right;\">\n",
       "      <th></th>\n",
       "      <th>id</th>\n",
       "      <th>week</th>\n",
       "      <th>defense</th>\n",
       "    </tr>\n",
       "  </thead>\n",
       "  <tbody>\n",
       "    <tr>\n",
       "      <th>0</th>\n",
       "      <td>00-0019596</td>\n",
       "      <td>1</td>\n",
       "      <td>KC</td>\n",
       "    </tr>\n",
       "    <tr>\n",
       "      <th>1</th>\n",
       "      <td>00-0019596</td>\n",
       "      <td>2</td>\n",
       "      <td>NO</td>\n",
       "    </tr>\n",
       "    <tr>\n",
       "      <th>2</th>\n",
       "      <td>00-0019596</td>\n",
       "      <td>3</td>\n",
       "      <td>HOU</td>\n",
       "    </tr>\n",
       "    <tr>\n",
       "      <th>3</th>\n",
       "      <td>00-0019596</td>\n",
       "      <td>4</td>\n",
       "      <td>CAR</td>\n",
       "    </tr>\n",
       "    <tr>\n",
       "      <th>4</th>\n",
       "      <td>00-0019596</td>\n",
       "      <td>5</td>\n",
       "      <td>TB</td>\n",
       "    </tr>\n",
       "    <tr>\n",
       "      <th>5</th>\n",
       "      <td>00-0019596</td>\n",
       "      <td>6</td>\n",
       "      <td>NYJ</td>\n",
       "    </tr>\n",
       "    <tr>\n",
       "      <th>6</th>\n",
       "      <td>00-0019596</td>\n",
       "      <td>7</td>\n",
       "      <td>ATL</td>\n",
       "    </tr>\n",
       "    <tr>\n",
       "      <th>7</th>\n",
       "      <td>00-0019596</td>\n",
       "      <td>8</td>\n",
       "      <td>LAC</td>\n",
       "    </tr>\n",
       "    <tr>\n",
       "      <th>8</th>\n",
       "      <td>00-0019596</td>\n",
       "      <td>10</td>\n",
       "      <td>DEN</td>\n",
       "    </tr>\n",
       "    <tr>\n",
       "      <th>9</th>\n",
       "      <td>00-0019596</td>\n",
       "      <td>11</td>\n",
       "      <td>OAK</td>\n",
       "    </tr>\n",
       "    <tr>\n",
       "      <th>10</th>\n",
       "      <td>00-0019596</td>\n",
       "      <td>12</td>\n",
       "      <td>MIA</td>\n",
       "    </tr>\n",
       "  </tbody>\n",
       "</table>\n",
       "</div>"
      ],
      "text/plain": [
       "            id  week defense\n",
       "0   00-0019596     1      KC\n",
       "1   00-0019596     2      NO\n",
       "2   00-0019596     3     HOU\n",
       "3   00-0019596     4     CAR\n",
       "4   00-0019596     5      TB\n",
       "5   00-0019596     6     NYJ\n",
       "6   00-0019596     7     ATL\n",
       "7   00-0019596     8     LAC\n",
       "8   00-0019596    10     DEN\n",
       "9   00-0019596    11     OAK\n",
       "10  00-0019596    12     MIA"
      ]
     },
     "execution_count": 61,
     "metadata": {},
     "output_type": "execute_result"
    }
   ],
   "source": [
    "tmp = matchups[['id','week','defense']]\n",
    "tmp[tmp.id=='00-0019596']"
   ]
  },
  {
   "cell_type": "code",
   "execution_count": 62,
   "metadata": {
    "ExecuteTime": {
     "end_time": "2017-12-04T12:35:53.857115Z",
     "start_time": "2017-12-04T12:35:53.835024Z"
    }
   },
   "outputs": [
    {
     "data": {
      "text/html": [
       "<div>\n",
       "<style>\n",
       "    .dataframe thead tr:only-child th {\n",
       "        text-align: right;\n",
       "    }\n",
       "\n",
       "    .dataframe thead th {\n",
       "        text-align: left;\n",
       "    }\n",
       "\n",
       "    .dataframe tbody tr th {\n",
       "        vertical-align: top;\n",
       "    }\n",
       "</style>\n",
       "<table border=\"1\" class=\"dataframe\">\n",
       "  <thead>\n",
       "    <tr style=\"text-align: right;\">\n",
       "      <th></th>\n",
       "      <th>position</th>\n",
       "      <th>id</th>\n",
       "      <th>fantasy_points</th>\n",
       "      <th>fp_max</th>\n",
       "      <th>player_weight</th>\n",
       "      <th>week</th>\n",
       "    </tr>\n",
       "  </thead>\n",
       "  <tbody>\n",
       "    <tr>\n",
       "      <th>0</th>\n",
       "      <td>QB</td>\n",
       "      <td>00-0019596</td>\n",
       "      <td>10.680000</td>\n",
       "      <td>31.020000</td>\n",
       "      <td>0.344294</td>\n",
       "      <td>1</td>\n",
       "    </tr>\n",
       "    <tr>\n",
       "      <th>0</th>\n",
       "      <td>QB</td>\n",
       "      <td>00-0019596</td>\n",
       "      <td>20.730000</td>\n",
       "      <td>25.540000</td>\n",
       "      <td>0.811668</td>\n",
       "      <td>2</td>\n",
       "    </tr>\n",
       "    <tr>\n",
       "      <th>0</th>\n",
       "      <td>QB</td>\n",
       "      <td>00-0019596</td>\n",
       "      <td>26.393333</td>\n",
       "      <td>26.393333</td>\n",
       "      <td>1.000000</td>\n",
       "      <td>3</td>\n",
       "    </tr>\n",
       "    <tr>\n",
       "      <th>0</th>\n",
       "      <td>QB</td>\n",
       "      <td>00-0019596</td>\n",
       "      <td>24.915000</td>\n",
       "      <td>25.540000</td>\n",
       "      <td>0.975529</td>\n",
       "      <td>4</td>\n",
       "    </tr>\n",
       "    <tr>\n",
       "      <th>0</th>\n",
       "      <td>QB</td>\n",
       "      <td>00-0019596</td>\n",
       "      <td>22.856000</td>\n",
       "      <td>23.288000</td>\n",
       "      <td>0.981450</td>\n",
       "      <td>5</td>\n",
       "    </tr>\n",
       "    <tr>\n",
       "      <th>0</th>\n",
       "      <td>QB</td>\n",
       "      <td>00-0019596</td>\n",
       "      <td>21.743333</td>\n",
       "      <td>23.013333</td>\n",
       "      <td>0.944815</td>\n",
       "      <td>6</td>\n",
       "    </tr>\n",
       "    <tr>\n",
       "      <th>0</th>\n",
       "      <td>QB</td>\n",
       "      <td>00-0019596</td>\n",
       "      <td>21.274286</td>\n",
       "      <td>23.040000</td>\n",
       "      <td>0.923363</td>\n",
       "      <td>7</td>\n",
       "    </tr>\n",
       "    <tr>\n",
       "      <th>0</th>\n",
       "      <td>QB</td>\n",
       "      <td>00-0019596</td>\n",
       "      <td>20.805000</td>\n",
       "      <td>24.408571</td>\n",
       "      <td>0.852365</td>\n",
       "      <td>8</td>\n",
       "    </tr>\n",
       "    <tr>\n",
       "      <th>0</th>\n",
       "      <td>QB</td>\n",
       "      <td>00-0019596</td>\n",
       "      <td>20.805000</td>\n",
       "      <td>24.408571</td>\n",
       "      <td>0.852365</td>\n",
       "      <td>9</td>\n",
       "    </tr>\n",
       "    <tr>\n",
       "      <th>0</th>\n",
       "      <td>QB</td>\n",
       "      <td>00-0019596</td>\n",
       "      <td>21.008889</td>\n",
       "      <td>24.408571</td>\n",
       "      <td>0.860718</td>\n",
       "      <td>10</td>\n",
       "    </tr>\n",
       "    <tr>\n",
       "      <th>0</th>\n",
       "      <td>QB</td>\n",
       "      <td>00-0019596</td>\n",
       "      <td>21.464000</td>\n",
       "      <td>24.408571</td>\n",
       "      <td>0.879363</td>\n",
       "      <td>11</td>\n",
       "    </tr>\n",
       "    <tr>\n",
       "      <th>0</th>\n",
       "      <td>QB</td>\n",
       "      <td>00-0019596</td>\n",
       "      <td>21.574545</td>\n",
       "      <td>24.408571</td>\n",
       "      <td>0.883892</td>\n",
       "      <td>12</td>\n",
       "    </tr>\n",
       "  </tbody>\n",
       "</table>\n",
       "</div>"
      ],
      "text/plain": [
       "  position          id  fantasy_points     fp_max  player_weight  week\n",
       "0       QB  00-0019596       10.680000  31.020000       0.344294     1\n",
       "0       QB  00-0019596       20.730000  25.540000       0.811668     2\n",
       "0       QB  00-0019596       26.393333  26.393333       1.000000     3\n",
       "0       QB  00-0019596       24.915000  25.540000       0.975529     4\n",
       "0       QB  00-0019596       22.856000  23.288000       0.981450     5\n",
       "0       QB  00-0019596       21.743333  23.013333       0.944815     6\n",
       "0       QB  00-0019596       21.274286  23.040000       0.923363     7\n",
       "0       QB  00-0019596       20.805000  24.408571       0.852365     8\n",
       "0       QB  00-0019596       20.805000  24.408571       0.852365     9\n",
       "0       QB  00-0019596       21.008889  24.408571       0.860718    10\n",
       "0       QB  00-0019596       21.464000  24.408571       0.879363    11\n",
       "0       QB  00-0019596       21.574545  24.408571       0.883892    12"
      ]
     },
     "execution_count": 62,
     "metadata": {},
     "output_type": "execute_result"
    }
   ],
   "source": [
    "defense_ranks_wgt[defense_ranks_wgt.id =='00-0019596']"
   ]
  },
  {
   "cell_type": "code",
   "execution_count": 64,
   "metadata": {
    "ExecuteTime": {
     "end_time": "2017-12-04T12:36:47.133622Z",
     "start_time": "2017-12-04T12:36:47.105384Z"
    }
   },
   "outputs": [
    {
     "name": "stdout",
     "output_type": "stream",
     "text": [
      "<class 'pandas.core.frame.DataFrame'>\n",
      "Int64Index: 3380 entries, 0 to 3379\n",
      "Data columns (total 7 columns):\n",
      "position          3380 non-null object\n",
      "id                3380 non-null object\n",
      "fantasy_points    3380 non-null float64\n",
      "fp_max            3380 non-null float64\n",
      "player_weight     3380 non-null float64\n",
      "week              3380 non-null int64\n",
      "defense           3378 non-null object\n",
      "dtypes: float64(3), int64(1), object(3)\n",
      "memory usage: 171.6+ KB\n"
     ]
    }
   ],
   "source": [
    "defense_ranks_wgt.merge(tmp, 'inner', ['id','week'])"
   ]
  },
  {
   "cell_type": "code",
   "execution_count": null,
   "metadata": {
    "collapsed": true
   },
   "outputs": [],
   "source": []
  },
  {
   "cell_type": "code",
   "execution_count": null,
   "metadata": {
    "collapsed": true
   },
   "outputs": [],
   "source": [
    "matchups['target_defense'] = matchups.sort_values(['id','week']).groupby('id')['defense'].shift(-1)\n",
    "matchups['target'] = matchups.sort_values(['id','week']).groupby('id')['fantasy_points'].shift(-1)\n",
    "matchups['target_week'] = matchups.sort_values(['id','week']).groupby('id')['week'].shift(-1)"
   ]
  },
  {
   "cell_type": "markdown",
   "metadata": {},
   "source": [
    "## merge features"
   ]
  },
  {
   "cell_type": "code",
   "execution_count": null,
   "metadata": {
    "ExecuteTime": {
     "end_time": "2017-12-03T18:41:25.600219Z",
     "start_time": "2017-12-03T18:41:25.557092Z"
    },
    "collapsed": true,
    "scrolled": false
   },
   "outputs": [],
   "source": [
    "# merge historical player stats\n",
    "matchups = matchups.merge(hist_stats, how='left', on='id')"
   ]
  },
  {
   "cell_type": "code",
   "execution_count": null,
   "metadata": {
    "ExecuteTime": {
     "end_time": "2017-12-03T18:41:25.636575Z",
     "start_time": "2017-12-03T18:41:25.606728Z"
    },
    "collapsed": true
   },
   "outputs": [],
   "source": [
    "# merge current defense rankings to target matchups\n",
    "def_off_merge = matchups.merge(defense_ranks, how='left', left_on=['target_defense','week','position'], \n",
    "                               right_on=['defense','week','position'])"
   ]
  },
  {
   "cell_type": "code",
   "execution_count": null,
   "metadata": {
    "ExecuteTime": {
     "end_time": "2017-12-03T18:41:25.696868Z",
     "start_time": "2017-12-03T18:41:25.638284Z"
    },
    "collapsed": true
   },
   "outputs": [],
   "source": [
    "# merge intraseason average points and weighted points\n",
    "avgs = cumavg_stats.merge(cumavg_stats_wgt,how='inner',on=['id','week'])\n",
    "def_off_merge = def_off_merge.merge(avgs, how='left', on=['id','week'])"
   ]
  },
  {
   "cell_type": "code",
   "execution_count": null,
   "metadata": {
    "ExecuteTime": {
     "end_time": "2017-12-03T18:41:25.986594Z",
     "start_time": "2017-12-03T18:41:25.701247Z"
    },
    "collapsed": true,
    "scrolled": true
   },
   "outputs": [],
   "source": [
    "# create extra player attributes and merge to make model-ready df\n",
    "player_attributes = player_stats_2017[['id','birthdate','years_pro','height','weight','position','profile_url']]\n",
    "player_attributes.drop_duplicates(['id'],inplace=True)\n",
    "from datetime import datetime\n",
    "player_attributes['birthdate'] = pd.to_datetime(player_attributes['birthdate'])\n",
    "player_attributes['age'] = player_attributes['birthdate'].apply(lambda x: (datetime.today() - x).days/365)\n",
    "position_dummies = pd.get_dummies(player_attributes['position'])\n",
    "player_attributes = pd.concat([position_dummies, player_attributes], axis=1).drop(['position'],axis=1)\n",
    "\n",
    "model_df = player_attributes.merge(def_off_merge, how='right',on='id')"
   ]
  },
  {
   "cell_type": "markdown",
   "metadata": {},
   "source": [
    "## clean and merge baseline projections"
   ]
  },
  {
   "cell_type": "code",
   "execution_count": null,
   "metadata": {
    "ExecuteTime": {
     "end_time": "2017-12-03T18:41:26.586841Z",
     "start_time": "2017-12-03T18:41:25.988564Z"
    },
    "collapsed": true
   },
   "outputs": [],
   "source": [
    "# clean Rotowire's weekly projections from ESPN\n",
    "proj = pd.read_json(\"./ffb_proj/ffb_proj/spiders/firstrun.json\")\n",
    "\n",
    "clean_team_pos = proj['team'].str.replace('[^a-zA-Z\\s]', '').str.upper().str.split(expand=True)\n",
    "proj.drop(['team','position'],axis=1,inplace=True)\n",
    "clean_team_pos.columns= ['team', 'position']\n",
    "\n",
    "proj = pd.concat([proj, clean_team_pos], axis=1)\n",
    "\n",
    "proj['team'] = proj['team'].str.replace('LAR','LA')\n",
    "proj['team'] = proj['team'].str.replace('WSH','WAS')\n",
    "\n",
    "proj = proj[['name','position','team','week','proj_pts']]\n",
    "\n",
    "proj.columns = ['full_name','position','team','target_week','proj_pts']\n",
    "proj = proj[proj.proj_pts != '--']\n",
    "proj['proj_pts'] = pd.to_numeric(proj['proj_pts'])\n",
    "proj = proj[~proj.proj_pts.isnull()]\n",
    "proj['full_name'] = proj.full_name.str.replace('Jr.','').str.strip()\n",
    "proj['full_name'] = proj.full_name.str.replace('Sr.','').str.strip()\n",
    "proj['full_name'] = proj.full_name.str.replace('III','').str.strip()\n",
    "proj['full_name'] = proj.full_name.str.replace('II','').str.strip()\n",
    "convert_names = {'Joshua Bellamy':'Josh Bellamy',\n",
    "                 'TJ Jones':'T.J. Jones',\n",
    "                 'Will Fuller V':'Will Fuller',\n",
    "                 'Matthew Dayes':'Matt Dayes'}\n",
    "proj['full_name'] = proj.full_name.replace(convert_names)\n",
    "\n",
    "# merge Rotowire data to model df\n",
    "merge_cols = ['full_name','position','team','target_week']\n",
    "model_df = model_df.merge(proj, how='left', on=merge_cols)\n",
    "\n",
    "model_df.dropna(subset=['defensive_matchup_allowed'], inplace=True)\n",
    "model_df.fillna(0, inplace=True)"
   ]
  },
  {
   "cell_type": "code",
   "execution_count": null,
   "metadata": {
    "ExecuteTime": {
     "end_time": "2017-12-03T18:41:26.608402Z",
     "start_time": "2017-12-03T18:41:26.588311Z"
    },
    "collapsed": true
   },
   "outputs": [],
   "source": [
    "model_df.replace([-np.inf,np.inf], 0, inplace=True)"
   ]
  },
  {
   "cell_type": "code",
   "execution_count": null,
   "metadata": {
    "ExecuteTime": {
     "end_time": "2017-12-03T18:41:26.618130Z",
     "start_time": "2017-12-03T18:41:26.609952Z"
    },
    "collapsed": true
   },
   "outputs": [],
   "source": [
    "model_df = model_df[model_df.fantasy_points_mean != 0]"
   ]
  },
  {
   "cell_type": "code",
   "execution_count": null,
   "metadata": {
    "ExecuteTime": {
     "end_time": "2017-12-03T18:41:26.713949Z",
     "start_time": "2017-12-03T18:41:26.620960Z"
    },
    "collapsed": true
   },
   "outputs": [],
   "source": [
    "model_df.dropna(inplace=True)\n",
    "model_df.shape"
   ]
  },
  {
   "cell_type": "markdown",
   "metadata": {},
   "source": [
    "## merge player status"
   ]
  },
  {
   "cell_type": "code",
   "execution_count": null,
   "metadata": {
    "ExecuteTime": {
     "end_time": "2017-12-03T18:41:27.070600Z",
     "start_time": "2017-12-03T18:41:26.716273Z"
    },
    "collapsed": true
   },
   "outputs": [],
   "source": [
    "injuries = pd.read_csv('injuries_data/injuries_weekly.csv')\n",
    "injuries['full_name'] = injuries['firstName']+' '+injuries['lastName']\n",
    "\n",
    "drops = ['Unnamed: 0','firstName','lastName', 'esbId','injury','player','position']\n",
    "injuries.drop(drops, axis=1, inplace=True)\n",
    "injuries.dropna(inplace=True)\n",
    "\n",
    "practice_status = injuries[['week','full_name','practiceStatus']]\n",
    "game_status = injuries[['week','full_name','gameStatus']]\n",
    "psd = pd.get_dummies(practice_status['practiceStatus'])\n",
    "gsd = pd.get_dummies(game_status['gameStatus'])\n",
    "practice_status = pd.concat([practice_status, psd], axis=1)\n",
    "game_status = pd.concat([game_status, gsd], axis=1).drop('--',axis=1)\n",
    "\n",
    "weeks = sorted(injuries.week.unique())\n",
    "\n",
    "game_status_counts = []\n",
    "for week in weeks:\n",
    "    tmp = game_status[game_status.week <= week]\n",
    "    tmp = tmp.groupby('full_name').sum().reset_index()\n",
    "    tmp['target_week'] = week\n",
    "    game_status_counts.append(tmp)\n",
    "game_status_counts = pd.concat(game_status_counts).drop('week',axis=1)\n",
    "    \n",
    "practice_status_counts = []\n",
    "for week in weeks:\n",
    "    tmp = practice_status[practice_status.week <= week]\n",
    "    tmp = tmp.groupby('full_name').sum().reset_index()\n",
    "    tmp['target_week'] = week\n",
    "    practice_status_counts.append(tmp)\n",
    "practice_status_counts = pd.concat(practice_status_counts).drop('week',axis=1)"
   ]
  },
  {
   "cell_type": "code",
   "execution_count": null,
   "metadata": {
    "ExecuteTime": {
     "end_time": "2017-12-03T18:41:27.085082Z",
     "start_time": "2017-12-03T18:41:27.075912Z"
    },
    "collapsed": true
   },
   "outputs": [],
   "source": [
    "status_cols = list(set(game_status_counts.columns.tolist() + practice_status_counts.columns.tolist()))"
   ]
  },
  {
   "cell_type": "code",
   "execution_count": null,
   "metadata": {
    "ExecuteTime": {
     "end_time": "2017-12-03T18:41:27.181206Z",
     "start_time": "2017-12-03T18:41:27.090241Z"
    },
    "collapsed": true
   },
   "outputs": [],
   "source": [
    "model_df = model_df.merge(practice_status_counts,how='left',on=['full_name', 'target_week'])\n",
    "model_df = model_df.merge(game_status_counts,how='left',on=['full_name', 'target_week'])\n",
    "\n",
    "for col in status_cols:\n",
    "    model_df[col].fillna(0, inplace=True)"
   ]
  },
  {
   "cell_type": "markdown",
   "metadata": {},
   "source": [
    "## explore interactions"
   ]
  },
  {
   "cell_type": "code",
   "execution_count": null,
   "metadata": {
    "ExecuteTime": {
     "end_time": "2017-12-03T18:41:27.488307Z",
     "start_time": "2017-12-03T18:41:27.189443Z"
    },
    "collapsed": true
   },
   "outputs": [],
   "source": [
    "from sklearn.preprocessing import PolynomialFeatures"
   ]
  },
  {
   "cell_type": "code",
   "execution_count": null,
   "metadata": {
    "ExecuteTime": {
     "end_time": "2017-12-03T18:41:28.261948Z",
     "start_time": "2017-12-03T18:41:27.489888Z"
    },
    "collapsed": true
   },
   "outputs": [],
   "source": [
    "numeric_indices = model_df.corr().index.tolist()\n",
    "numeric_df = model_df[numeric_indices]"
   ]
  },
  {
   "cell_type": "code",
   "execution_count": null,
   "metadata": {
    "ExecuteTime": {
     "end_time": "2017-12-03T18:41:28.281550Z",
     "start_time": "2017-12-03T18:41:28.263628Z"
    },
    "collapsed": true
   },
   "outputs": [],
   "source": [
    "inter_feats = ['height', 'weight', 'years_pro', 'age',\n",
    "               'fantasy_points',\n",
    "               'chg_fantasy_points',\n",
    "               'per2_chg_fantasy_points',\n",
    "               'per2_fantasy_points',\n",
    "               'per3_chg_fantasy_points',\n",
    "               'per3_fantasy_points',\n",
    "               'trend_fantasy_points',\n",
    "               'fantasy_points_histmean',\n",
    "               'fantasy_points_histcount',\n",
    "               'fantasy_points_mean',\n",
    "               'fantasy_points_wgtmean',\n",
    "               'defensive_matchup_allowed',\n",
    "               'fumbles_lost_histmean',\n",
    "               'fumbles_rcv_histmean',\n",
    "               'fumbles_tot_histmean',\n",
    "               'fumbles_trcv_histmean',\n",
    "               'fumbles_yds_histmean',\n",
    "               'fumbles_lost_mean',\n",
    "               'fumbles_rcv_mean',\n",
    "               'fumbles_tot_mean',\n",
    "               'fumbles_trcv_mean',\n",
    "               'fumbles_yds_mean',\n",
    "               'fumbles_lost_wgtmean',\n",
    "               'fumbles_rcv_wgtmean',\n",
    "               'fumbles_tot_wgtmean',\n",
    "               'fumbles_trcv_wgtmean',\n",
    "               'fumbles_yds_wgtmean',\n",
    "               'Limited Participation in Practice',\n",
    "               'Questionable',\n",
    "               'Out',\n",
    "               'Did Not Participate In Practice',\n",
    "               'Doubtful',\n",
    "               'Full Participation in Practice',\n",
    "               'target']"
   ]
  },
  {
   "cell_type": "code",
   "execution_count": null,
   "metadata": {
    "ExecuteTime": {
     "end_time": "2017-12-03T18:41:28.864130Z",
     "start_time": "2017-12-03T18:41:28.283835Z"
    },
    "collapsed": true
   },
   "outputs": [],
   "source": [
    "tmp = model_df[inter_feats]\n",
    "\n",
    "poly = PolynomialFeatures(3, interaction_only=False, include_bias=True)\n",
    "interactions_arr = poly.fit_transform(tmp)\n",
    "interactions_names = poly.get_feature_names(tmp.columns)\n",
    "interactions = pd.DataFrame(interactions_arr, columns=interactions_names)"
   ]
  },
  {
   "cell_type": "code",
   "execution_count": null,
   "metadata": {
    "ExecuteTime": {
     "end_time": "2017-12-03T18:41:29.118351Z",
     "start_time": "2017-12-03T18:41:28.867627Z"
    },
    "collapsed": true
   },
   "outputs": [],
   "source": [
    "target_col = interactions.target\n",
    "nontarget_interactions = interactions[[c for c in interactions.columns if \"target\" not in c]]\n",
    "explore = pd.concat([target_col, nontarget_interactions], axis=1)"
   ]
  },
  {
   "cell_type": "code",
   "execution_count": null,
   "metadata": {
    "ExecuteTime": {
     "start_time": "2017-12-03T18:40:20.953Z"
    },
    "collapsed": true
   },
   "outputs": [],
   "source": [
    "corr_interactions = explore.corr()[['target']].sort_values('target',ascending=True).reset_index()"
   ]
  },
  {
   "cell_type": "code",
   "execution_count": null,
   "metadata": {
    "ExecuteTime": {
     "end_time": "2017-12-03T19:42:59.254625Z",
     "start_time": "2017-12-03T19:42:59.225129Z"
    },
    "collapsed": true
   },
   "outputs": [],
   "source": [
    "corr_interactions = pd.read_csv('corr_inters_deg3.csv')"
   ]
  },
  {
   "cell_type": "code",
   "execution_count": null,
   "metadata": {
    "ExecuteTime": {
     "end_time": "2017-12-03T19:45:27.002952Z",
     "start_time": "2017-12-03T19:45:26.989061Z"
    },
    "collapsed": true
   },
   "outputs": [],
   "source": [
    "no_mean = [x for x in corr_interactions['index'].values if 'fantasy_points_mean' not in x]"
   ]
  },
  {
   "cell_type": "code",
   "execution_count": null,
   "metadata": {
    "ExecuteTime": {
     "end_time": "2017-12-03T19:50:12.480571Z",
     "start_time": "2017-12-03T19:50:12.474887Z"
    },
    "collapsed": true
   },
   "outputs": [],
   "source": [
    "def_allow = [x for x in no_mean if 'defensive_matchup_allowed' in x]"
   ]
  },
  {
   "cell_type": "code",
   "execution_count": null,
   "metadata": {
    "ExecuteTime": {
     "end_time": "2017-12-03T19:51:42.039050Z",
     "start_time": "2017-12-03T19:51:42.031385Z"
    },
    "collapsed": true,
    "scrolled": false
   },
   "outputs": [],
   "source": [
    "corr_interactions[corr_interactions['index'].isin(def_allow)].loc[57]['index'] #.head(25) #"
   ]
  },
  {
   "cell_type": "code",
   "execution_count": null,
   "metadata": {
    "ExecuteTime": {
     "end_time": "2017-12-03T18:57:14.148937Z",
     "start_time": "2017-12-03T18:57:14.140644Z"
    },
    "collapsed": true
   },
   "outputs": [],
   "source": [
    "model_df['fumble_yds X fp_mean X fp_histmean'] = model_df[['fantasy_points_histmean',\n",
    "                                                           'fantasy_points_mean', \n",
    "                                                           'fumbles_yds_histmean']].prod(axis=1)"
   ]
  },
  {
   "cell_type": "code",
   "execution_count": null,
   "metadata": {
    "ExecuteTime": {
     "end_time": "2017-12-03T19:54:26.418915Z",
     "start_time": "2017-12-03T19:54:26.411983Z"
    },
    "collapsed": true
   },
   "outputs": [],
   "source": [
    "model_df['def_match X fumble_tot X fp_histmean'] = model_df[['fantasy_points_histmean',\n",
    "                                                           'defensive_matchup_allowed', \n",
    "                                                           'fumbles_tot_histmean']].prod(axis=1)"
   ]
  },
  {
   "cell_type": "markdown",
   "metadata": {},
   "source": [
    "## model"
   ]
  },
  {
   "cell_type": "code",
   "execution_count": null,
   "metadata": {
    "ExecuteTime": {
     "end_time": "2017-12-03T18:57:57.952383Z",
     "start_time": "2017-12-03T18:57:57.888625Z"
    },
    "collapsed": true
   },
   "outputs": [],
   "source": [
    "import sklearn.metrics as metrics\n",
    "from sklearn.linear_model import LinearRegression, RidgeCV, LassoCV, Ridge, Lasso\n",
    "from sklearn.ensemble import RandomForestRegressor, GradientBoostingRegressor\n",
    "from sklearn.svm import SVR\n",
    "from sklearn.model_selection import GridSearchCV, train_test_split\n",
    "from sklearn.preprocessing import StandardScaler\n",
    "from pprint import pprint\n",
    "import math"
   ]
  },
  {
   "cell_type": "code",
   "execution_count": null,
   "metadata": {
    "ExecuteTime": {
     "end_time": "2017-12-03T20:11:40.919080Z",
     "start_time": "2017-12-03T20:11:40.596048Z"
    },
    "collapsed": true
   },
   "outputs": [],
   "source": [
    "def weekly_regression_all(input_df, pos=None):\n",
    "    if pos != None:\n",
    "        input_df = input_df[input_df.position == pos]\n",
    "        \n",
    "    features = input_df.select_dtypes(include=['float32','int32','int64','float64','uint8']).columns.tolist()\n",
    "    features.remove('target')\n",
    "    features.remove('proj_pts')\n",
    "    \n",
    "#     features = ['fantasy_points_mean','fumble_yds X fp_mean X fp_histmean', 'def_match X fumble_tot X fp_histmean']\n",
    "    features = ['height','weight','years_pro','age','target_week',\n",
    "                 'fantasy_points',\n",
    "                 'chg_fantasy_points',\n",
    "                 'trend_fantasy_points',\n",
    "                 'fantasy_points_histmean',\n",
    "                 'fantasy_points_histcount',\n",
    "                 'fantasy_points_mean',\n",
    "                 'fantasy_points_wgtmean',\n",
    "                 'defensive_matchup_allowed',\n",
    "                 'fumble_yds X fp_mean X fp_histmean',\n",
    "                 'def_match X fumble_tot X fp_histmean']\n",
    "\n",
    "#  'fumbles_lost_histmean',\n",
    "#  'fumbles_rcv_histmean',\n",
    "#  'fumbles_tot_histmean',\n",
    "#  'fumbles_trcv_histmean',\n",
    "#  'fumbles_yds_histmean',\n",
    "#  'fumbles_lost_mean',\n",
    "#  'fumbles_rcv_mean',\n",
    "#  'fumbles_tot_mean',\n",
    "#  'fumbles_trcv_mean',\n",
    "#  'fumbles_yds_mean',\n",
    "#  'fumbles_lost_wgtmean',\n",
    "#  'fumbles_rcv_wgtmean',\n",
    "#  'fumbles_tot_wgtmean',\n",
    "#  'fumbles_trcv_wgtmean',\n",
    "#  'fumbles_yds_wgtmean',\n",
    "#  'Limited Participation in Practice',\n",
    "#  'Questionable',\n",
    "#  'Out',\n",
    "#  'Did Not Participate In Practice',\n",
    "#  'Doubtful',\n",
    "#  'Full Participation in Practice']\n",
    "    \n",
    "    train_mse = []\n",
    "    test_mse = []\n",
    "    week_nums = []\n",
    "    y_preds = []\n",
    "    roto_scores = []\n",
    "    ests = []\n",
    "    coefs = []\n",
    "        \n",
    "    weeks = sorted(input_df.target_week.unique().tolist())\n",
    "    weeks.remove(2.0)\n",
    "    for week in weeks:\n",
    "        \n",
    "#         est = GradientBoostingRegressor(n_estimators=15)\n",
    "#         est = RandomForestRegressor()\n",
    "        est = LassoCV()\n",
    "        \n",
    "        df_train = input_df[input_df.target_week < week]\n",
    "        df_test = input_df[input_df.target_week == week]\n",
    "        \n",
    "        X_train = df_train[features]\n",
    "        y_train = df_train['target']\n",
    "        X_test = df_test[features]\n",
    "        y_test = df_test['target']\n",
    "        rotowire_y_test = df_test.proj_pts\n",
    "        \n",
    "#         ss = StandardScaler()\n",
    "#         X_train = ss.fit_transform(X_train)\n",
    "#         X_test = ss.fit_transform(X_test)\n",
    "        \n",
    "        est.fit(X_train,y_train)\n",
    "        \n",
    "        y_pred = est.predict(X_train)\n",
    "        score = (metrics.mean_squared_error(y_train, y_pred))**(0.5)\n",
    "        train_mse.append(score)\n",
    "        \n",
    "        y_pred = est.predict(X_test)\n",
    "        score = (metrics.mean_squared_error(y_test, y_pred))**(0.5)\n",
    "        test_mse.append(score)\n",
    "        y_preds.append(y_pred)\n",
    "        \n",
    "        roto_score = (metrics.mean_squared_error(y_test, rotowire_y_test))**(0.5)\n",
    "        roto_scores.append(roto_score)\n",
    "        week_nums.append(week)\n",
    "        ests.append((week, est))\n",
    "        \n",
    "        if 'sklearn.linear_model' in est.__module__:\n",
    "            coef_ranks = list(zip(abs(est.coef_), est.coef_, features))\n",
    "            coef_ranks = sorted(coef_ranks, key=lambda x: x[0], reverse=True)\n",
    "            coefs.append(coef_ranks)\n",
    "        else:\n",
    "            coef_ranks = list(zip(est.feature_importances_, features))\n",
    "            coef_ranks = sorted(coef_ranks, key=lambda x: x[0], reverse=True)\n",
    "            coefs.append(coef_ranks)\n",
    "        \n",
    "    return week_nums, test_mse, train_mse, y_preds, roto_scores, ests, coefs"
   ]
  },
  {
   "cell_type": "code",
   "execution_count": null,
   "metadata": {
    "ExecuteTime": {
     "end_time": "2017-12-03T20:11:42.203723Z",
     "start_time": "2017-12-03T20:11:40.953278Z"
    },
    "collapsed": true
   },
   "outputs": [],
   "source": [
    "weeks, mses_test, mses_train, y_preds, roto_scores, ests, coefs = weekly_regression_all(model_df, pos=None)\n",
    "plt.figure(figsize=(25,12))\n",
    "plt.plot(weeks, mses_test, label=\"Test Error\")\n",
    "plt.plot(weeks, mses_train, label=\"Train Error\")\n",
    "plt.plot(weeks, roto_scores, label=\"Rotowire Error\", linestyle='--')\n",
    "plt.xticks(weeks)\n",
    "plt.ylabel(\"RMSE\")\n",
    "plt.legend()"
   ]
  },
  {
   "cell_type": "code",
   "execution_count": null,
   "metadata": {
    "ExecuteTime": {
     "end_time": "2017-12-03T20:11:58.435017Z",
     "start_time": "2017-12-03T20:11:58.413886Z"
    },
    "collapsed": true,
    "scrolled": false
   },
   "outputs": [],
   "source": [
    "for week, features, mse in zip(weeks, coefs, mses_test):\n",
    "    print(\"WEEK:\", week, \"ERROR:\", mse)\n",
    "    pprint(features[:4])\n",
    "    print('\\n')"
   ]
  },
  {
   "cell_type": "code",
   "execution_count": null,
   "metadata": {
    "collapsed": true
   },
   "outputs": [],
   "source": [
    "pred"
   ]
  },
  {
   "cell_type": "code",
   "execution_count": null,
   "metadata": {
    "collapsed": true
   },
   "outputs": [],
   "source": []
  },
  {
   "cell_type": "code",
   "execution_count": null,
   "metadata": {
    "collapsed": true
   },
   "outputs": [],
   "source": []
  },
  {
   "cell_type": "code",
   "execution_count": null,
   "metadata": {
    "collapsed": true
   },
   "outputs": [],
   "source": []
  },
  {
   "cell_type": "code",
   "execution_count": null,
   "metadata": {
    "collapsed": true
   },
   "outputs": [],
   "source": []
  },
  {
   "cell_type": "code",
   "execution_count": null,
   "metadata": {
    "collapsed": true
   },
   "outputs": [],
   "source": []
  },
  {
   "cell_type": "code",
   "execution_count": null,
   "metadata": {
    "collapsed": true
   },
   "outputs": [],
   "source": []
  },
  {
   "cell_type": "code",
   "execution_count": null,
   "metadata": {
    "collapsed": true
   },
   "outputs": [],
   "source": []
  },
  {
   "cell_type": "code",
   "execution_count": null,
   "metadata": {
    "collapsed": true
   },
   "outputs": [],
   "source": []
  },
  {
   "cell_type": "code",
   "execution_count": null,
   "metadata": {
    "collapsed": true
   },
   "outputs": [],
   "source": []
  },
  {
   "cell_type": "code",
   "execution_count": null,
   "metadata": {
    "collapsed": true
   },
   "outputs": [],
   "source": []
  },
  {
   "cell_type": "code",
   "execution_count": null,
   "metadata": {
    "ExecuteTime": {
     "end_time": "2017-12-03T17:44:55.923884Z",
     "start_time": "2017-12-03T17:44:50.938291Z"
    },
    "collapsed": true,
    "scrolled": false
   },
   "outputs": [],
   "source": [
    "coefs_all = {}\n",
    "f, (ax1, ax2, ax3, ax4, ax5) = plt.subplots(5,figsize=(12,25), sharex=True)\n",
    "\n",
    "for pos, ax in [(None,ax1),('QB',ax2),('RB',ax3),('WR',ax4),('TE',ax5)]:\n",
    "    weeks, mses_test, mses_train, y_preds, roto_scores, ests, coefs = weekly_regression(model_df, position=pos)\n",
    "    coefs_all[pos] = coefs\n",
    "    ax.plot(weeks, mses_test, label=\"Test Error\")\n",
    "    ax.plot(weeks, mses_train, label=\"Train Error\")\n",
    "    ax.plot(weeks, roto_scores, label=\"Rotowire Error\", linestyle='--')\n",
    "    ax.set_xticks(weeks)\n",
    "    ax.set_ylabel(\"RMSE\")\n",
    "    ax.set_title(pos)\n",
    "    ax.legend()"
   ]
  },
  {
   "cell_type": "code",
   "execution_count": null,
   "metadata": {
    "ExecuteTime": {
     "end_time": "2017-12-03T17:45:16.157857Z",
     "start_time": "2017-12-03T17:45:10.496969Z"
    },
    "collapsed": true,
    "scrolled": false
   },
   "outputs": [],
   "source": [
    "coefs_all = {}\n",
    "f, (ax1, ax2, ax3, ax4, ax5) = plt.subplots(5,figsize=(12,25), sharex=True)\n",
    "\n",
    "for pos, ax in [(None,ax1),('QB',ax2),('RB',ax3),('WR',ax4),('TE',ax5)]:\n",
    "    weeks, mses_test, mses_train, y_preds, roto_scores, ests, coefs = weekly_regression(model_df, position=pos)\n",
    "    coefs_all[pos] = coefs\n",
    "    ax.plot(weeks, mses_test, label=\"Test Error\")\n",
    "    ax.plot(weeks, mses_train, label=\"Train Error\")\n",
    "    ax.plot(weeks, roto_scores, label=\"Rotowire Error\", linestyle='--')\n",
    "    ax.set_xticks(weeks)\n",
    "    ax.set_ylabel(\"RMSE\")\n",
    "    ax.set_title(pos)\n",
    "    ax.legend()"
   ]
  },
  {
   "cell_type": "code",
   "execution_count": null,
   "metadata": {
    "ExecuteTime": {
     "end_time": "2017-12-02T22:37:44.518311Z",
     "start_time": "2017-12-02T22:37:44.490850Z"
    },
    "collapsed": true,
    "scrolled": false
   },
   "outputs": [],
   "source": [
    "pos = None\n",
    "for week, c in zip(weeks, coefs_all[pos]):\n",
    "    print(\"\\nWEEK:\",week)\n",
    "    pprint(c[:4])"
   ]
  },
  {
   "cell_type": "code",
   "execution_count": null,
   "metadata": {
    "ExecuteTime": {
     "end_time": "2017-12-02T00:49:42.828344Z",
     "start_time": "2017-12-02T00:49:42.229856Z"
    },
    "collapsed": true
   },
   "outputs": [],
   "source": [
    "f = open('lasso_coefs.pkl', 'wb')\n",
    "pickle.dump(coefs_all, f)"
   ]
  },
  {
   "cell_type": "markdown",
   "metadata": {
    "collapsed": true
   },
   "source": [
    "## interactions by position"
   ]
  },
  {
   "cell_type": "code",
   "execution_count": null,
   "metadata": {
    "collapsed": true
   },
   "outputs": [],
   "source": [
    "# df for each position\n",
    "df_QB = model_df[model_df.position=='QB']\n",
    "df_RB = model_df[model_df.position=='RB']\n",
    "df_WR = model_df[model_df.position=='WR']\n",
    "df_TE = model_df[model_df.position=='TE']"
   ]
  },
  {
   "cell_type": "code",
   "execution_count": null,
   "metadata": {
    "ExecuteTime": {
     "end_time": "2017-12-02T22:03:27.250178Z",
     "start_time": "2017-12-02T22:03:27.234387Z"
    },
    "collapsed": true
   },
   "outputs": [],
   "source": [
    "def explore_interaction_corrs(pos, interactions):\n",
    "    target_col = interactions.target\n",
    "    nontarget_interactions = interactions[[c for c in interactions.columns if \"target\" not in c]]\n",
    "    explore = pd.concat([target_col, nontarget_interactions], axis=1)\n",
    "    corr_interactions = explore.corr()\n",
    "    return corr_interactions[['target']].sort_values('target',ascending=False).reset_index()"
   ]
  },
  {
   "cell_type": "code",
   "execution_count": null,
   "metadata": {
    "ExecuteTime": {
     "end_time": "2017-12-02T19:25:55.851312Z",
     "start_time": "2017-12-02T19:25:55.794225Z"
    },
    "collapsed": true
   },
   "outputs": [],
   "source": [
    "# QB_inters = explore_interaction_corrs('QB', interactions_positions['QB'])\n",
    "# WR_inters = explore_interaction_corrs('WR', interactions_positions['WR'])\n",
    "# RB_inters = explore_interaction_corrs('RB', interactions_positions['RB'])\n",
    "# TE_inters = explore_interaction_corrs('TE', interactions_positions['TE'])\n",
    "\n",
    "QB_inters = pd.read_csv('interactions_QB.csv')\n",
    "RB_inters = pd.read_csv('interactions_RB.csv')\n",
    "WR_inters = pd.read_csv('interactions_WR.csv')\n",
    "TE_inters = pd.read_csv('interactions_TE.csv')"
   ]
  },
  {
   "cell_type": "code",
   "execution_count": null,
   "metadata": {
    "ExecuteTime": {
     "end_time": "2017-12-02T22:20:11.721640Z",
     "start_time": "2017-12-02T22:20:11.700184Z"
    },
    "collapsed": true
   },
   "outputs": [],
   "source": [
    "# by position\n",
    "\n",
    "# keep = ['target','age','height','weight','years_pro','proj_pts','defensive_matchup_allowed',\n",
    "# 'fantasy_points','fantasy_points_mean','fantasy_points_histcount','fantasy_points_histmean',\n",
    "# 'trend_fantasy_points','fantasy_points_wgtmean']\n",
    "\n",
    "# passing_features = [c for c in numeric_df.columns if \"passing\" in c]\n",
    "# rushing_features = [c for c in numeric_df.columns if \"rushing\" in c]\n",
    "# receiving_features = [c for c in numeric_df.columns if \"receiving\" in c]\n",
    "\n",
    "# QB_features = keep+passing_features+rushing_features\n",
    "# RB_features = keep+rushing_features+receiving_features\n",
    "# WR_features = keep+receiving_features\n",
    "# TE_features = keep+receiving_features\n",
    "\n",
    "# QB_df = model_df[model_df.position=='QB'][QB_features]\n",
    "# RB_df = model_df[model_df.position=='RB'][RB_features]\n",
    "# WR_df = model_df[model_df.position=='WR'][WR_features]\n",
    "# TE_df = model_df[model_df.position=='TE'][TE_features]\n",
    "\n",
    "# create_interactions = [('QB',QB_df), ('RB',RB_df), ('WR',WR_df), ('TE',TE_df)]\n",
    "\n",
    "# interactions_positions = {}\n",
    "# for pos, data in create_interactions:\n",
    "#     poly = PolynomialFeatures(2, interaction_only=True, include_bias=True)\n",
    "#     interactions_arr = poly.fit_transform(data)\n",
    "#     interactions_names = poly.get_feature_names(data.columns)\n",
    "#     interactions = pd.DataFrame(interactions_arr, columns=interactions_names)\n",
    "#     interactions_positions[pos] = interactions"
   ]
  },
  {
   "cell_type": "markdown",
   "metadata": {},
   "source": [
    "### QB"
   ]
  },
  {
   "cell_type": "code",
   "execution_count": null,
   "metadata": {
    "ExecuteTime": {
     "end_time": "2017-12-02T21:24:01.938458Z",
     "start_time": "2017-12-02T21:24:01.892379Z"
    },
    "collapsed": true
   },
   "outputs": [],
   "source": [
    "no_roto = [v for v in QB_inters['index'].values if 'proj_pts' not in v]\n",
    "\n",
    "QB_inters #[QB_inters.target < 0]\n",
    "\n",
    "no_roto_qb = QB_inters[QB_inters['index'].isin(no_roto)].iloc[1:10]\n",
    "no_roto_qb\n",
    "\n",
    "QBIfields = no_roto_qb['index'].iloc[1:10].values.tolist()\n",
    "QB_inters_df = interactions_positions['QB'][QBIfields]\n",
    "\n",
    "model_df_QB = pd.concat([df_QB[keep_model], QB_inters_df],axis=1)\n",
    "\n",
    "df_QB[keep_model].shape\n",
    "\n",
    "QB_inters_df.shape\n",
    "\n",
    "model_df_QB.dropna(inplace=True)"
   ]
  },
  {
   "cell_type": "markdown",
   "metadata": {
    "collapsed": true
   },
   "source": [
    "### RB"
   ]
  },
  {
   "cell_type": "code",
   "execution_count": null,
   "metadata": {
    "ExecuteTime": {
     "end_time": "2017-12-02T21:24:03.659239Z",
     "start_time": "2017-12-02T21:24:03.643700Z"
    },
    "collapsed": true
   },
   "outputs": [],
   "source": [
    "no_roto = [v for v in RB_inters['index'].values if 'proj_pts' not in v]\n",
    "RB_inters[RB_inters.target < 0].tail()"
   ]
  },
  {
   "cell_type": "code",
   "execution_count": null,
   "metadata": {
    "ExecuteTime": {
     "end_time": "2017-12-02T21:24:04.130669Z",
     "start_time": "2017-12-02T21:24:04.083154Z"
    },
    "collapsed": true
   },
   "outputs": [],
   "source": [
    "no_roto_RB = RB_inters[RB_inters['index'].isin(no_roto)].iloc[1:40]\n",
    "no_roto_RB"
   ]
  },
  {
   "cell_type": "code",
   "execution_count": null,
   "metadata": {
    "ExecuteTime": {
     "end_time": "2017-12-02T21:24:16.873108Z",
     "start_time": "2017-12-02T21:24:16.866251Z"
    },
    "collapsed": true
   },
   "outputs": [],
   "source": [
    "RBIfields = no_roto_RB['index'].values.tolist()\n",
    "RB_inters_df = interactions_positions['RB'][RBIfields]"
   ]
  },
  {
   "cell_type": "code",
   "execution_count": null,
   "metadata": {
    "ExecuteTime": {
     "end_time": "2017-12-02T21:24:17.616681Z",
     "start_time": "2017-12-02T21:24:17.603486Z"
    },
    "collapsed": true
   },
   "outputs": [],
   "source": [
    "model_df_RB = pd.concat([df_RB[keep_model], RB_inters_df],axis=1)\n",
    "model_df_RB.shape"
   ]
  },
  {
   "cell_type": "code",
   "execution_count": null,
   "metadata": {
    "ExecuteTime": {
     "end_time": "2017-12-02T21:24:19.885419Z",
     "start_time": "2017-12-02T21:24:19.875309Z"
    },
    "collapsed": true
   },
   "outputs": [],
   "source": [
    "model_df_RB.dropna(inplace=True)"
   ]
  },
  {
   "cell_type": "markdown",
   "metadata": {},
   "source": [
    "### WR"
   ]
  },
  {
   "cell_type": "code",
   "execution_count": null,
   "metadata": {
    "collapsed": true
   },
   "outputs": [],
   "source": []
  },
  {
   "cell_type": "code",
   "execution_count": null,
   "metadata": {
    "collapsed": true
   },
   "outputs": [],
   "source": []
  },
  {
   "cell_type": "markdown",
   "metadata": {},
   "source": [
    "### TE"
   ]
  },
  {
   "cell_type": "code",
   "execution_count": null,
   "metadata": {
    "collapsed": true
   },
   "outputs": [],
   "source": []
  },
  {
   "cell_type": "code",
   "execution_count": null,
   "metadata": {
    "collapsed": true
   },
   "outputs": [],
   "source": []
  }
 ],
 "metadata": {
  "kernelspec": {
   "display_name": "Python [conda env:metis]",
   "language": "python",
   "name": "conda-env-metis-py"
  },
  "language_info": {
   "codemirror_mode": {
    "name": "ipython",
    "version": 3
   },
   "file_extension": ".py",
   "mimetype": "text/x-python",
   "name": "python",
   "nbconvert_exporter": "python",
   "pygments_lexer": "ipython3",
   "version": "3.5.4"
  }
 },
 "nbformat": 4,
 "nbformat_minor": 2
}
