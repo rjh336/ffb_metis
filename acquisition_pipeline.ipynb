{
 "cells": [
  {
   "cell_type": "code",
   "execution_count": 1,
   "metadata": {
    "ExecuteTime": {
     "end_time": "2017-12-09T20:45:40.211418Z",
     "start_time": "2017-12-09T20:45:39.832196Z"
    },
    "collapsed": true
   },
   "outputs": [],
   "source": [
    "import pandas as pd\n",
    "import nflgame\n",
    "from pprint import pprint\n",
    "from collections import defaultdict\n",
    "import pickle"
   ]
  },
  {
   "cell_type": "code",
   "execution_count": 2,
   "metadata": {
    "ExecuteTime": {
     "end_time": "2017-12-09T20:45:40.214814Z",
     "start_time": "2017-12-09T20:45:40.212833Z"
    },
    "collapsed": true
   },
   "outputs": [],
   "source": [
    "CURR_WEEK = 14"
   ]
  },
  {
   "cell_type": "code",
   "execution_count": 3,
   "metadata": {
    "ExecuteTime": {
     "end_time": "2017-12-09T20:45:40.240869Z",
     "start_time": "2017-12-09T20:45:40.238740Z"
    },
    "collapsed": true
   },
   "outputs": [],
   "source": [
    "YEARS = [2013,2014,2015]"
   ]
  },
  {
   "cell_type": "code",
   "execution_count": 36,
   "metadata": {
    "ExecuteTime": {
     "end_time": "2017-12-09T21:24:14.114778Z",
     "start_time": "2017-12-09T21:24:13.989975Z"
    }
   },
   "outputs": [],
   "source": [
    "games = nflgame.games(2013, 1)\n",
    "game_player_stats = nflgame.combine_game_stats(games[:1])\n",
    "playerstats = defaultdict(str)"
   ]
  },
  {
   "cell_type": "code",
   "execution_count": 21,
   "metadata": {
    "ExecuteTime": {
     "end_time": "2017-12-09T21:15:43.182602Z",
     "start_time": "2017-12-09T21:15:43.173544Z"
    }
   },
   "outputs": [],
   "source": [
    "game1 = games[0]"
   ]
  },
  {
   "cell_type": "code",
   "execution_count": 39,
   "metadata": {
    "ExecuteTime": {
     "end_time": "2017-12-09T21:24:54.313719Z",
     "start_time": "2017-12-09T21:24:54.291896Z"
    }
   },
   "outputs": [
    {
     "name": "stdout",
     "output_type": "stream",
     "text": [
      "(u'P.Manning', '')\n",
      "(u'K.Moreno', '')\n",
      "(u'M.Ball', '')\n",
      "(u'R.Hillman', '')\n",
      "(u'W.Welker', '')\n",
      "(u'J.Thomas', u'TE')\n",
      "(u'A.Caldwell', '')\n",
      "(u'D.Thomas', u'WR')\n",
      "(u'E.Decker', u'WR')\n",
      "(u'D.Trevathan', u'ILB')\n",
      "(u'M.Prater', u'K')\n",
      "(u'B.Colquitt', u'P')\n",
      "(u'T.Holliday', '')\n",
      "(u'T.Knighton', '')\n",
      "(u'R.Moore', '')\n",
      "(u'K.Webster', u'CB')\n",
      "(u'D.Wolfe', u'DE')\n",
      "(u'M.Adams', u'SS')\n",
      "(u'P.Lenon', '')\n",
      "(u'S.Phillips', '')\n",
      "(u'C.Harris', u'CB')\n",
      "(u'R.Ayers', u'DE')\n",
      "(u'K.Vickerson', '')\n",
      "(u'D.Ihenacho', '')\n",
      "(u'M.Unrein', u'DE')\n",
      "(u'T.Carter', '')\n",
      "(u'S.Williams', u'NT')\n",
      "(u'W.Woodyard', u'ILB')\n",
      "(u'N.Irving', '')\n",
      "(u'M.Jackson', u'DT')\n",
      "(u'J.Flacco', u'QB')\n",
      "(u'R.Rice', '')\n",
      "(u'B.Pierce', '')\n",
      "(u'J.Jones', '')\n",
      "(u'D.Clark', '')\n",
      "(u'M.Brown', '')\n",
      "(u'E.Dickson', u'TE')\n",
      "(u'T.Smith', u'WR')\n",
      "(u'V.Leach', '')\n",
      "(u'B.Stokley', '')\n",
      "(u'R.Wagner', u'OT')\n",
      "(u'M.Cox', u'LS')\n",
      "(u'J.Tucker', u'K')\n",
      "(u'S.Koch', u'P')\n",
      "(u'L.Webb', u'FS')\n",
      "(u'D.Smith', '')\n",
      "(u'C.Canty', '')\n",
      "(u'H.Ngata', u'DT')\n",
      "(u'E.Dumervil', u'DE')\n",
      "(u'M.Huff', '')\n",
      "(u'C.Graham', u'DB')\n",
      "(u'M.Spears', '')\n",
      "(u'T.Suggs', u'OLB')\n",
      "(u'C.Upshaw', u'DE')\n",
      "(u'J.Smith', u'CB')\n",
      "(u'M.Elam', '')\n",
      "(u'P.McPhee', u'OLB')\n",
      "(u'J.Ihedigbo', '')\n",
      "(u'J.Bynes', u'LB')\n"
     ]
    }
   ],
   "source": [
    "for p in game_player_stats:\n",
    "    print(p.name, p.guess_position)"
   ]
  },
  {
   "cell_type": "code",
   "execution_count": 3,
   "metadata": {
    "ExecuteTime": {
     "end_time": "2017-12-09T20:05:11.606233Z",
     "start_time": "2017-12-09T20:05:11.279056Z"
    },
    "collapsed": true
   },
   "outputs": [],
   "source": [
    "for p in game_player_stats:\n",
    "    info = {}\n",
    "    info.update(p.stats)\n",
    "    try:\n",
    "        info.update(p.player.__dict__)\n",
    "    except AttributeError:\n",
    "        pass\n",
    "    playerstats[p.playerid] = info\n",
    "tmp = pd.DataFrame(playerstats).T.reset_index().rename(columns={\"index\":\"id\"})"
   ]
  },
  {
   "cell_type": "code",
   "execution_count": null,
   "metadata": {
    "collapsed": true
   },
   "outputs": [],
   "source": []
  },
  {
   "cell_type": "code",
   "execution_count": null,
   "metadata": {
    "collapsed": true
   },
   "outputs": [],
   "source": []
  },
  {
   "cell_type": "code",
   "execution_count": 29,
   "metadata": {
    "ExecuteTime": {
     "end_time": "2017-12-09T21:21:53.404080Z",
     "start_time": "2017-12-09T21:21:53.365136Z"
    },
    "collapsed": true
   },
   "outputs": [],
   "source": [
    "def get_year(year, weeks):\n",
    "    \"\"\" Get all games and players involved for a given season\"\"\"\n",
    "    week_data = []\n",
    "    for week in weeks:\n",
    "        games = nflgame.games(year, week)\n",
    "        game_player_stats = nflgame.combine_game_stats(games)\n",
    "        df = get_week(game_player_stats, week)\n",
    "        df['week'] = week\n",
    "        week_data.append(df)\n",
    "    return pd.concat(week_data)\n",
    "\n",
    "def get_week(players, week):\n",
    "    \"\"\" Get stats for each player in each game\"\"\"\n",
    "    playerstats = defaultdict(str)\n",
    "    for p in players:\n",
    "        info = {}\n",
    "        info.update(p.stats)\n",
    "        try:\n",
    "            info.update(p.player.__dict__)\n",
    "        except AttributeError:\n",
    "            pass\n",
    "        info['team'] = p.team\n",
    "        playerstats[p.playerid] = info\n",
    "    return pd.DataFrame(playerstats).T.reset_index().rename(columns={\"index\":\"id\"})\n",
    "\n",
    "def get_opponent_stats(team_list, year):\n",
    "    \"\"\" For a given team, report opponents' stats in each game to get measures of\n",
    "        the team's defensive stats\"\"\"\n",
    "    dfs = []\n",
    "    for team_to_check in team_list:\n",
    "        print team_to_check\n",
    "        # Get the games the target team played in the season\n",
    "        games = nflgame.games(year, home=team_to_check, away=team_to_check)\n",
    "        rows = []\n",
    "        for g in games:\n",
    "            row = {}\n",
    "            if g.home == team_to_check:\n",
    "                row['week'] = g.schedule['week']\n",
    "                row['TEAM'] = team_to_check\n",
    "                row['OPP'] = g.away\n",
    "                row['opp_points'] = g.score_away\n",
    "                row.update(g.stats_away.__dict__)\n",
    "                row['pos_time'] = row['pos_time'].total_seconds()\n",
    "            else:\n",
    "                row['week'] = g.schedule['week']\n",
    "                row['TEAM'] = team_to_check\n",
    "                row['OPP'] = g.home\n",
    "                row['opp_points'] = g.score_home\n",
    "                row.update(g.stats_home.__dict__)\n",
    "                row['pos_time'] = row['pos_time'].total_seconds()\n",
    "\n",
    "            rows.append(row)\n",
    "        dfs.append(pd.DataFrame(rows))\n",
    "    return pd.concat(dfs)"
   ]
  },
  {
   "cell_type": "code",
   "execution_count": 33,
   "metadata": {
    "ExecuteTime": {
     "end_time": "2017-12-09T21:22:37.012595Z",
     "start_time": "2017-12-09T21:22:37.008891Z"
    },
    "collapsed": true
   },
   "outputs": [],
   "source": [
    "TEAMS = [team[0] for team in nflgame.teams] +['STL']\n",
    "TEAMS.remove('LA')"
   ]
  },
  {
   "cell_type": "code",
   "execution_count": 34,
   "metadata": {
    "ExecuteTime": {
     "end_time": "2017-12-09T21:22:37.414286Z",
     "start_time": "2017-12-09T21:22:37.411558Z"
    },
    "collapsed": true
   },
   "outputs": [],
   "source": [
    "weeks = list(range(1,18))"
   ]
  },
  {
   "cell_type": "code",
   "execution_count": 35,
   "metadata": {
    "ExecuteTime": {
     "end_time": "2017-12-09T21:23:13.205314Z",
     "start_time": "2017-12-09T21:22:37.881897Z"
    },
    "scrolled": true
   },
   "outputs": [
    {
     "name": "stdout",
     "output_type": "stream",
     "text": [
      "Creating Players Stats 2013\n",
      "Creating Opponents Stats 2013\n",
      "ARI\n",
      "ATL\n",
      "BAL\n",
      "BUF\n",
      "CAR\n",
      "CHI\n",
      "CIN\n",
      "CLE\n",
      "DAL\n",
      "DEN\n",
      "DET\n",
      "GB\n",
      "HOU\n",
      "IND\n",
      "JAC\n",
      "KC\n",
      "MIA\n",
      "MIN\n",
      "NE\n",
      "NO\n",
      "NYG\n",
      "NYJ\n",
      "OAK\n",
      "PHI\n",
      "PIT\n",
      "SD\n",
      "SEA\n",
      "SF\n",
      "STL\n",
      "TB\n",
      "TEN\n",
      "WAS\n",
      "STL\n",
      "Saving to File 2013\n",
      "Creating Players Stats 2014\n",
      "Creating Opponents Stats 2014\n",
      "ARI\n",
      "ATL\n",
      "BAL\n",
      "BUF\n",
      "CAR\n",
      "CHI\n",
      "CIN\n",
      "CLE\n",
      "DAL\n",
      "DEN\n",
      "DET\n",
      "GB\n",
      "HOU\n",
      "IND\n",
      "JAC\n",
      "KC\n",
      "MIA\n",
      "MIN\n",
      "NE\n",
      "NO\n",
      "NYG\n",
      "NYJ\n",
      "OAK\n",
      "PHI\n",
      "PIT\n",
      "SD\n",
      "SEA\n",
      "SF\n",
      "STL\n",
      "TB\n",
      "TEN\n",
      "WAS\n",
      "STL\n",
      "Saving to File 2014\n",
      "Creating Players Stats 2015\n",
      "Creating Opponents Stats 2015\n",
      "ARI\n",
      "ATL\n",
      "BAL\n",
      "BUF\n",
      "CAR\n",
      "CHI\n",
      "CIN\n",
      "CLE\n",
      "DAL\n",
      "DEN\n",
      "DET\n",
      "GB\n",
      "HOU\n",
      "IND\n",
      "JAC\n",
      "KC\n",
      "MIA\n",
      "MIN\n",
      "NE\n",
      "NO\n",
      "NYG\n",
      "NYJ\n",
      "OAK\n",
      "PHI\n",
      "PIT\n",
      "SD\n",
      "SEA\n",
      "SF\n",
      "STL\n",
      "TB\n",
      "TEN\n",
      "WAS\n",
      "STL\n",
      "Saving to File 2015\n"
     ]
    }
   ],
   "source": [
    "ps = []\n",
    "for year in YEARS:\n",
    "    print \"Creating Players Stats \"+str(year)\n",
    "    player_stats = get_year(year, weeks).fillna(0)\n",
    "    ps.append(player_stats)\n",
    "    print \"Creating Opponents Stats \"+str(year)\n",
    "    opp_stats = get_opponent_stats(TEAMS, year)\n",
    "    opp_stats = opp_stats.add_prefix(\"opp_\")\n",
    "    print \"Saving to File \"+str(year)\n",
    "    opp_stats.to_csv(\"./data/opp_stats_\"+str(year)+\".csv\")\n",
    "    player_stats.to_csv(\"./data/player_stats_\"+str(year)+\".csv\")"
   ]
  },
  {
   "cell_type": "code",
   "execution_count": 40,
   "metadata": {
    "ExecuteTime": {
     "end_time": "2017-12-09T21:37:38.660207Z",
     "start_time": "2017-12-09T21:37:28.272913Z"
    },
    "scrolled": true
   },
   "outputs": [
    {
     "name": "stdout",
     "output_type": "stream",
     "text": [
      "Creating Players Stats 2016\n",
      "Creating Opponents Stats 2016\n",
      "ARI\n",
      "ATL\n",
      "BAL\n",
      "BUF\n",
      "CAR\n",
      "CHI\n",
      "CIN\n",
      "CLE\n",
      "DAL\n",
      "DEN\n",
      "DET\n",
      "GB\n",
      "HOU\n",
      "IND\n",
      "KC\n",
      "LA\n",
      "MIA\n",
      "MIN\n",
      "NE\n",
      "NO\n",
      "NYG\n",
      "NYJ\n",
      "OAK\n",
      "PHI\n",
      "PIT\n",
      "SD\n",
      "SEA\n",
      "SF\n",
      "TB\n",
      "TEN\n",
      "WAS\n",
      "JAX\n"
     ]
    }
   ],
   "source": [
    "TEAMS_2016 = [team[0] for team in nflgame.teams]\n",
    "TEAMS_2016.remove('JAC')\n",
    "TEAMS_2016.append('JAX')\n",
    "TEAMS_2016.remove('STL')\n",
    "\n",
    "year = 2016\n",
    "print \"Creating Players Stats \"+str(year)\n",
    "player_stats = get_year(year, weeks).fillna(0)\n",
    "print \"Creating Opponents Stats \"+str(year)\n",
    "opp_stats = get_opponent_stats(TEAMS_2016, year)\n",
    "opp_stats = opp_stats.add_prefix(\"opp_\")\n",
    "opp_stats.to_csv(\"./data/opp_stats_\"+str(year)+\".csv\")\n",
    "player_stats.to_csv(\"./data/player_stats_\"+str(year)+\".csv\")"
   ]
  },
  {
   "cell_type": "code",
   "execution_count": 41,
   "metadata": {
    "ExecuteTime": {
     "end_time": "2017-12-09T21:38:14.392885Z",
     "start_time": "2017-12-09T21:37:38.661741Z"
    },
    "scrolled": true
   },
   "outputs": [
    {
     "name": "stdout",
     "output_type": "stream",
     "text": [
      "Creating Players Stats 2017\n",
      "Creating Opponents Stats 2017\n",
      "ARI\n",
      "ATL\n",
      "BAL\n",
      "BUF\n",
      "CAR\n",
      "CHI\n",
      "CIN\n",
      "CLE\n",
      "DAL\n",
      "DEN\n",
      "DET\n",
      "GB\n",
      "HOU\n",
      "IND\n",
      "KC\n",
      "LA\n",
      "MIA\n",
      "MIN\n",
      "NE\n",
      "NO\n",
      "NYG\n",
      "NYJ\n",
      "OAK\n",
      "PHI\n",
      "PIT\n",
      "SEA\n",
      "SF\n",
      "TB\n",
      "TEN\n",
      "WAS\n",
      "JAX\n",
      "LAC\n"
     ]
    }
   ],
   "source": [
    "TEAMS_2017 = [team[0] for team in nflgame.teams]\n",
    "TEAMS_2017.remove('JAC')\n",
    "TEAMS_2017.append('JAX')\n",
    "TEAMS_2017.remove('STL')\n",
    "TEAMS_2017.append('LAC')\n",
    "TEAMS_2017.remove('SD')\n",
    "\n",
    "weeks = list(range(1,CURR_WEEK))\n",
    "year = 2017\n",
    "print \"Creating Players Stats \"+str(year)\n",
    "player_stats = get_year(year, weeks).fillna(0)\n",
    "print \"Creating Opponents Stats \"+str(year)\n",
    "opp_stats = get_opponent_stats(TEAMS_2017, year)\n",
    "opp_stats = opp_stats.add_prefix(\"opp_\")\n",
    "opp_stats.to_csv(\"./data/opp_stats_\"+str(year)+\".csv\")\n",
    "player_stats.to_csv(\"./data/player_stats_\"+str(year)+\".csv\")"
   ]
  },
  {
   "cell_type": "code",
   "execution_count": null,
   "metadata": {
    "collapsed": true
   },
   "outputs": [],
   "source": []
  }
 ],
 "metadata": {
  "kernelspec": {
   "display_name": "Python [conda env:nfl]",
   "language": "python",
   "name": "conda-env-nfl-py"
  },
  "language_info": {
   "codemirror_mode": {
    "name": "ipython",
    "version": 2
   },
   "file_extension": ".py",
   "mimetype": "text/x-python",
   "name": "python",
   "nbconvert_exporter": "python",
   "pygments_lexer": "ipython2",
   "version": "2.7.13"
  }
 },
 "nbformat": 4,
 "nbformat_minor": 2
}
