{
 "cells": [
  {
   "cell_type": "code",
   "execution_count": 1,
   "metadata": {
    "ExecuteTime": {
     "end_time": "2017-12-10T07:41:58.000570Z",
     "start_time": "2017-12-10T07:41:57.430687Z"
    },
    "collapsed": true
   },
   "outputs": [],
   "source": [
    "import pandas as pd\n",
    "import pickle\n",
    "import os\n",
    "import re\n",
    "import numpy as np\n",
    "import matplotlib.pyplot as plt\n",
    "import gc\n",
    "%matplotlib inline"
   ]
  },
  {
   "cell_type": "markdown",
   "metadata": {},
   "source": [
    "## load in data"
   ]
  },
  {
   "cell_type": "code",
   "execution_count": 2,
   "metadata": {
    "ExecuteTime": {
     "end_time": "2017-12-10T07:41:58.955096Z",
     "start_time": "2017-12-10T07:41:58.003525Z"
    },
    "collapsed": true
   },
   "outputs": [],
   "source": [
    "path = './data/'\n",
    "files = os.listdir(path)\n",
    "player_stats_files = sorted([(int(re.sub('[^0-9]', '', f)), path + f)\n",
    "                             for f in files if \"player\" in f], key=lambda x: x[0])\n",
    "opp_stats_files = sorted([(int(re.sub('[^0-9]', '', f)), path + f)\n",
    "                          for f in files if \"opp\" in f], key=lambda x: x[0])\n",
    "\n",
    "player_dfs = {}\n",
    "for year, fn in player_stats_files:\n",
    "    df = pd.read_csv(fn, index_col=0)\n",
    "    df['team'] = df['team'].str.replace('JAX','JAC')\n",
    "    df['team'] = df['team'].str.replace('LAC','SD')\n",
    "    df['year'] = year\n",
    "    player_dfs[year] = df\n",
    "\n",
    "opp_dfs = {}\n",
    "for year, fn in opp_stats_files:\n",
    "    df = pd.read_csv(fn, index_col=0)\n",
    "    df['year'] = year\n",
    "    df['opp_TEAM'] = df['opp_TEAM'].str.replace('JAX','JAC')\n",
    "    df['opp_OPP'] = df['opp_OPP'].str.replace('JAX','JAC')\n",
    "    df['opp_TEAM'] = df['opp_TEAM'].str.replace('LAC','SD')\n",
    "    df['opp_OPP'] = df['opp_OPP'].str.replace('LAC','SD')\n",
    "    opp_dfs[year] = df\n",
    "\n",
    "new_opp_cols = ['offense', 'defense', 'opp_first_downs', 'opp_points',\n",
    "       'opp_passing_yds', 'opp_penalty_cnt', 'opp_penalty_yds', 'opp_pos_time',\n",
    "       'opp_punt_avg', 'opp_punt_cnt', 'opp_punt_yds', 'opp_rushing_yds',\n",
    "       'opp_total_yds', 'opp_turnovers', 'week', 'year']\n",
    "\n",
    "for year, df in opp_dfs.items():\n",
    "    df.columns = new_opp_cols\n",
    "    opp_dfs[year] = df"
   ]
  },
  {
   "cell_type": "code",
   "execution_count": 3,
   "metadata": {
    "ExecuteTime": {
     "end_time": "2017-12-10T07:41:58.961205Z",
     "start_time": "2017-12-10T07:41:58.956582Z"
    }
   },
   "outputs": [
    {
     "name": "stdout",
     "output_type": "stream",
     "text": [
      "(13827, 80)\n",
      "(14124, 80)\n",
      "(14151, 80)\n",
      "(14149, 80)\n",
      "(10592, 80)\n"
     ]
    }
   ],
   "source": [
    "for year in range(2013,2018):\n",
    "    print(player_dfs[year].shape)"
   ]
  },
  {
   "cell_type": "code",
   "execution_count": 4,
   "metadata": {
    "ExecuteTime": {
     "end_time": "2017-12-10T07:41:58.973745Z",
     "start_time": "2017-12-10T07:41:58.965275Z"
    }
   },
   "outputs": [],
   "source": [
    "## missing positions\n",
    "# data = pd.concat(player_dfs.values())\n",
    "# missing_positions = data[data.position.isnull()]\n",
    "# means = missing_positions.groupby('profile_url', as_index=False).mean()\n",
    "# means = means[['profile_url','passing_att', 'rushing_att', 'receiving_rec']]\n",
    "# means.columns = ['profile_url','QB','RB','WRTE']\n",
    "# means = means[(means.QB != 0) | (means.RB != 0) | (means.WRTE != 0)]\n",
    "# missing_positions_urls = means.profile_url.unique().tolist()\n",
    "# with open('data/missing_positions_urls.pkl', 'wb') as f:\n",
    "#     pickle.dump(missing_positions_urls, f)"
   ]
  },
  {
   "cell_type": "markdown",
   "metadata": {},
   "source": [
    "## clean data and create target variable"
   ]
  },
  {
   "cell_type": "code",
   "execution_count": 5,
   "metadata": {
    "ExecuteTime": {
     "end_time": "2017-12-10T07:41:59.289029Z",
     "start_time": "2017-12-10T07:41:58.976834Z"
    },
    "collapsed": true
   },
   "outputs": [],
   "source": [
    "def clean(player_stats, year):\n",
    "    player_stats['fantasy_points'] = (player_stats['passing_tds'] * 4) +\\\n",
    "    (player_stats['passing_yds'] * 0.04) +\\\n",
    "    (player_stats['passing_twoptm'] * 2) +\\\n",
    "    (player_stats['passing_ints'] * -2) +\\\n",
    "    (player_stats['rushing_tds'] * 6) +\\\n",
    "    (player_stats['rushing_yds'] * 0.1) +\\\n",
    "    (player_stats['rushing_twoptm'] * 2) +\\\n",
    "    (player_stats['receiving_tds'] * 6) +\\\n",
    "    (player_stats['receiving_yds'] * 0.1) +\\\n",
    "    (player_stats['receiving_twoptm'] * 2) +\\\n",
    "    (player_stats['kickret_tds'] * 6) +\\\n",
    "    (player_stats['puntret_tds'] * 6) +\\\n",
    "    (player_stats['fumbles_lost'] * -2)\n",
    "    \n",
    "    player_stats['passer_ratio'] = player_stats['passing_cmp']/player_stats['passing_att']\n",
    "    player_stats['PassRushRatio_Att'] = player_stats['passing_att'] / player_stats['rushing_att']\n",
    "    player_stats['PassRushRatio_Yds'] = player_stats['passing_yds'] / player_stats['rushing_yds']\n",
    "    player_stats['PassRushRatio_Tds'] = player_stats['passing_tds'] / player_stats['rushing_tds']\n",
    "    player_stats['RushRecRatio_AttRec'] = player_stats['rushing_att'] / player_stats['receiving_rec']\n",
    "    player_stats['RushRecRatio_Tds'] = player_stats['rushing_tds'] / player_stats['receiving_tds']\n",
    "    player_stats['RushRecRatio_Yds'] = player_stats['rushing_yds'] / player_stats['receiving_yds']\n",
    " \n",
    "    include_positions = ['QB', 'TE', 'WR', 'RB']\n",
    "    player_stats['position'] = player_stats['position'].str.replace('FB','RB')\n",
    "    player_stats = player_stats[player_stats['position'].isin(include_positions)]\n",
    "    return player_stats\n",
    "\n",
    "player_dfs = {year:clean(df, year) for year, df in player_dfs.items()}"
   ]
  },
  {
   "cell_type": "markdown",
   "metadata": {},
   "source": [
    "## feature engineering"
   ]
  },
  {
   "cell_type": "code",
   "execution_count": 6,
   "metadata": {
    "ExecuteTime": {
     "end_time": "2017-12-10T07:41:59.299022Z",
     "start_time": "2017-12-10T07:41:59.290359Z"
    },
    "collapsed": true
   },
   "outputs": [],
   "source": [
    "kick_stats = ['kicking_fga', 'kicking_fgm',\n",
    "       'kicking_fgyds', 'kicking_totpfg', 'kicking_xpa', 'kicking_xpb',\n",
    "       'kicking_xpmade', 'kicking_xpmissed', 'kicking_xptot', 'kickret_avg',\n",
    "       'kickret_lng', 'kickret_lngtd', 'kickret_ret', 'kickret_tds',\n",
    "       'punting_avg', 'punting_i20', 'punting_lng', 'punting_pts',\n",
    "       'punting_yds']\n",
    "\n",
    "stat_cols = ['fumbles_lost', 'fumbles_rcv', 'fumbles_tot','fumbles_trcv', 'fumbles_yds', \n",
    "       'passing_att', 'passing_cmp', 'passing_ints', 'passing_tds', 'passer_ratio',\n",
    "       'passing_twopta', 'passing_twoptm', 'passing_yds',\n",
    "       'puntret_tds','puntret_avg', 'puntret_lng', 'puntret_lngtd', 'puntret_ret',\n",
    "       'receiving_lng', 'receiving_lngtd','receiving_rec', 'receiving_tds', 'receiving_twopta',\n",
    "       'receiving_twoptm', 'receiving_yds', 'rushing_att', 'rushing_lng',\n",
    "       'rushing_lngtd', 'rushing_tds', 'rushing_twopta', 'rushing_twoptm',\n",
    "       'rushing_yds','fantasy_points',\n",
    "        'PassRushRatio_Att','PassRushRatio_Yds','PassRushRatio_Tds','RushRecRatio_AttRec',\n",
    "        'RushRecRatio_Tds','RushRecRatio_Yds']"
   ]
  },
  {
   "cell_type": "markdown",
   "metadata": {},
   "source": [
    "### Intra-season player stats"
   ]
  },
  {
   "cell_type": "code",
   "execution_count": 7,
   "metadata": {
    "ExecuteTime": {
     "end_time": "2017-12-10T07:42:00.437427Z",
     "start_time": "2017-12-10T07:41:59.302177Z"
    },
    "collapsed": true
   },
   "outputs": [],
   "source": [
    "def trim_sort(df):\n",
    "    df = df.sort_values(['id','week'])\n",
    "    df = df[stat_cols+['id','week','team','position','full_name']]\n",
    "    return df\n",
    "\n",
    "def get_trend(df):\n",
    "    # compute 3-week and 2-week points deltas\n",
    "    deltas = df.groupby(['id']).pct_change()\n",
    "    deltas = deltas.add_prefix('chg_')\n",
    "    deltas = pd.concat([df, deltas], axis=1)\n",
    "    deltas2 = deltas.groupby(['id'])[deltas.columns].shift(1).fillna(0)\n",
    "    deltas3 = deltas.groupby(['id'])[deltas.columns].shift(2).fillna(0)\n",
    "    deltas2 = deltas2.add_prefix('per2_')\n",
    "    deltas3 = deltas3.add_prefix('per3_')\n",
    "    trend_df = pd.concat([deltas, deltas2, deltas3], axis=1)\n",
    "    # average prior three deltas to get trend\n",
    "    for col in stat_cols:\n",
    "        name = 'trend_'+col\n",
    "        trend_df[name] = trend_df[['chg_'+col,'per2_chg_'+col,'per3_chg_'+col]].mean(axis=1).fillna(0)\n",
    "    return trend_df\n",
    "\n",
    "def get_cumul_mean_stats(df, weeks):\n",
    "    weeks_stats_mean = []\n",
    "    for week in weeks:\n",
    "        tmp = df[df.week <= week]\n",
    "        tmp = tmp.groupby(['id'])[stat_cols].mean().reset_index()\n",
    "        tmp = tmp.add_suffix('_mean')\n",
    "        tmp['week'] = week\n",
    "        weeks_stats_mean.append(tmp)\n",
    "    cumavg_stats = pd.concat(weeks_stats_mean)\n",
    "    cumavg_stats = cumavg_stats.rename(columns={'id_mean':'id'})\n",
    "    return cumavg_stats\n",
    "\n",
    "def get_cumul_stats_time_weighted(df, weeks):\n",
    "    weeks_stats_mean_wgt = []\n",
    "    for week in weeks:\n",
    "        tmp1 = df[df.week <= week]\n",
    "        mult = lambda x: np.asarray(x) * np.asarray(tmp1.week)\n",
    "        tmp = tmp1[['id']+stat_cols].set_index('id').apply(mult).reset_index()\n",
    "        tmp = tmp.groupby(['id'])[stat_cols].mean().reset_index()\n",
    "        tmp = tmp.add_suffix('_wgtmean')\n",
    "        tmp['week'] = week\n",
    "        weeks_stats_mean_wgt.append(tmp)\n",
    "    cumavg_stats_wgt = pd.concat(weeks_stats_mean_wgt)\n",
    "    cumavg_stats_wgt = cumavg_stats_wgt.rename(columns={'id_wgtmean':'id'})\n",
    "    return cumavg_stats_wgt\n",
    "\n",
    "def defensive_ptsallow(matchups, weeks, weighted=False):\n",
    "    agg_col = 'fantasy_points'\n",
    "    output_name = 'defensive_matchup_allowed'\n",
    "    if weighted:\n",
    "        agg_col = 'weighted_fantasy_points'\n",
    "        output_name = 'defensive_matchup_allowed_wgt'\n",
    "    # compute weekly cumulative mean points allowed by each defense\n",
    "    defense_ranks_dfs = []\n",
    "    for week in weeks:\n",
    "        matchweek = matchups[matchups.week <= week]\n",
    "        # weekly sum of pts allowed by a given defense to each position\n",
    "        weekly_sums = matchweek.groupby(['week','defense','position'])[agg_col].sum().reset_index()\n",
    "        # STD mean of weekly sums for each position\n",
    "        defense_pts_allowed = weekly_sums.groupby(['defense','position'])[agg_col].mean().reset_index()\n",
    "        defense_pts_allowed = defense_pts_allowed.rename(columns={agg_col:output_name})\n",
    "        defense_pts_allowed['week'] = week\n",
    "        defense_ranks_dfs.append(defense_pts_allowed)\n",
    "    defense_ranks = pd.concat(defense_ranks_dfs)\n",
    "    return defense_ranks\n",
    "\n",
    "def weekly_player_weights(matchups, weeks):\n",
    "    # Calculate season-to-date (STD) weekly fantasy points rankings by position \n",
    "    player_weights = []\n",
    "    for week in weeks:\n",
    "        mask = (matchups.week <= week)\n",
    "        # each player's mean fantasy points STD\n",
    "        std_mean = matchups[mask][['id','team','position','fantasy_points','defense']]\n",
    "        std_mean = std_mean.groupby(['position','id'], as_index=False).mean()\n",
    "\n",
    "        # each player's weight in a given week with respect to their position\n",
    "        week_max_position = std_mean.groupby('position', as_index=False).max()\n",
    "        week_max_position = week_max_position[['position','fantasy_points']]\n",
    "        week_max_position.columns = ['position','fp_max']\n",
    "        weekly_weights = std_mean.merge(week_max_position,how='left',on='position')\n",
    "        weekly_weights['player_weight'] = weekly_weights['fantasy_points'] / weekly_weights['fp_max']\n",
    "        weekly_weights['week'] = week\n",
    "        player_weights.append(weekly_weights)\n",
    "    player_weights = pd.concat(player_weights)\n",
    "    return player_weights[['id','week','position','player_weight']]\n",
    "\n",
    "def create_nfl_features(player_stats_orig, opp_stats_orig):\n",
    "    player_stats_trimmed = trim_sort(player_stats_orig)\n",
    "    weeks = sorted(player_stats_trimmed.week.unique().tolist())\n",
    "\n",
    "    # offensive player stats\n",
    "    trend_df         = get_trend(player_stats_trimmed)\n",
    "    cumavg_stats     = get_cumul_mean_stats(player_stats_trimmed, weeks)\n",
    "    cumavg_stats_wgt = get_cumul_stats_time_weighted(player_stats_trimmed, weeks)\n",
    "\n",
    "    # defensive opponent stats\n",
    "    matchup_cols = ['id', 'week', 'team','position', 'full_name', 'offense', 'defense','fantasy_points']\n",
    "    sched             = opp_stats_orig[['offense','defense','week']]\n",
    "    matchups          = player_stats_trimmed.merge(sched,how='left',\n",
    "                                           left_on=['week','team'],\n",
    "                                           right_on=['week','offense'])[matchup_cols]\n",
    "    defense_ranks     = defensive_ptsallow(matchups, weeks)\n",
    "    player_weights    = weekly_player_weights(matchups, weeks)\n",
    "    player_weights['inverse'] = 1/player_weights.player_weight\n",
    "    matchups_wgts     = matchups.merge(player_weights, how='left', on=['id','week','position'])\n",
    "    matchups_wgts['weighted_fantasy_points'] = matchups_wgts['fantasy_points'] * matchups_wgts['inverse']\n",
    "    defense_ranks_wgt = defensive_ptsallow(matchups_wgts, weeks, weighted=True)\n",
    "    \n",
    "    ## merge features\n",
    "\n",
    "    # shift target, week, and defensive opponent\n",
    "    matchups['target_defense'] = matchups.sort_values(['id','week']).groupby('id')['defense'].shift(-1)\n",
    "    matchups['target'] = matchups.sort_values(['id','week']).groupby('id')['fantasy_points'].shift(-1)\n",
    "    matchups['target_week'] = matchups.sort_values(['id','week']).groupby('id')['week'].shift(-1)\n",
    "\n",
    "    # drop week 1 and current week\n",
    "    matchups.dropna(inplace=True)\n",
    "\n",
    "   # fill in zeros for players with missing historical stats\n",
    "    matchups.fillna(0, inplace=True)\n",
    "\n",
    "    # merge player weights to player stats\n",
    "    matchups = matchups.merge(player_weights, on=['id','week','position'])\n",
    "\n",
    "    # merge defense rankings to player stats\n",
    "    defense_ranks_all = defense_ranks.merge(defense_ranks_wgt, on=['defense', 'position', 'week'])\n",
    "    defense_ranks_all = defense_ranks_all.rename(columns={'defense':'target_defense'})\n",
    "    matchups = matchups.merge(defense_ranks_all, how='left', on=['target_defense','position','week']).dropna()\n",
    "\n",
    "    # merge intraseason trend, average, and weighted avg points\n",
    "    avgs = cumavg_stats.merge(cumavg_stats_wgt,how='inner',on=['id','week'])\n",
    "    matchups = matchups.merge(avgs, how='left', on=['id','week'])\n",
    "    trend_cols = ['id','week']+[col for col in trend_df if col not in matchups.columns]\n",
    "    td = trend_df[trend_cols]\n",
    "    matchups = matchups.merge(td, how='inner', on=['id','week'])\n",
    "    for col in trend_df.columns:\n",
    "        matchups[col].fillna(0, inplace=True)\n",
    "\n",
    "    # create extra player attributes and merge to make model-ready df\n",
    "    attribs = ['id','birthdate','years_pro','height','weight','position','profile_url','last_name','number']\n",
    "    player_attributes = player_stats_orig[attribs]\n",
    "    player_attributes.drop_duplicates(['id'],inplace=True)\n",
    "    from datetime import datetime\n",
    "    player_attributes['birthdate'] = pd.to_datetime(player_attributes['birthdate'])\n",
    "    player_attributes['age'] = player_attributes['birthdate'].apply(lambda x: (datetime.today() - x).days/365)\n",
    "    position_dummies = pd.get_dummies(player_attributes['position'])\n",
    "    player_attributes = pd.concat([position_dummies, player_attributes], axis=1).drop(['position'],axis=1)\n",
    "\n",
    "    # final cleaning\n",
    "    model_df = player_attributes.merge(matchups, how='right',on='id')\n",
    "    model_df.replace([-np.inf,np.inf], 0, inplace=True)\n",
    "    return model_df"
   ]
  },
  {
   "cell_type": "code",
   "execution_count": 8,
   "metadata": {
    "ExecuteTime": {
     "end_time": "2017-12-10T07:42:50.760438Z",
     "start_time": "2017-12-10T07:42:00.438911Z"
    }
   },
   "outputs": [
    {
     "name": "stderr",
     "output_type": "stream",
     "text": [
      "/home/rjh336/anaconda2/envs/metis/lib/python3.5/site-packages/ipykernel/__main__.py:143: SettingWithCopyWarning: \n",
      "A value is trying to be set on a copy of a slice from a DataFrame\n",
      "\n",
      "See the caveats in the documentation: http://pandas.pydata.org/pandas-docs/stable/indexing.html#indexing-view-versus-copy\n",
      "/home/rjh336/anaconda2/envs/metis/lib/python3.5/site-packages/ipykernel/__main__.py:145: SettingWithCopyWarning: \n",
      "A value is trying to be set on a copy of a slice from a DataFrame.\n",
      "Try using .loc[row_indexer,col_indexer] = value instead\n",
      "\n",
      "See the caveats in the documentation: http://pandas.pydata.org/pandas-docs/stable/indexing.html#indexing-view-versus-copy\n",
      "/home/rjh336/anaconda2/envs/metis/lib/python3.5/site-packages/ipykernel/__main__.py:146: SettingWithCopyWarning: \n",
      "A value is trying to be set on a copy of a slice from a DataFrame.\n",
      "Try using .loc[row_indexer,col_indexer] = value instead\n",
      "\n",
      "See the caveats in the documentation: http://pandas.pydata.org/pandas-docs/stable/indexing.html#indexing-view-versus-copy\n"
     ]
    }
   ],
   "source": [
    "nfl_dfs = {year:create_nfl_features(df, opp_dfs[year]) \n",
    "                         for year, df in player_dfs.items()}"
   ]
  },
  {
   "cell_type": "markdown",
   "metadata": {},
   "source": [
    "## merge DFS salaries"
   ]
  },
  {
   "cell_type": "code",
   "execution_count": 9,
   "metadata": {
    "ExecuteTime": {
     "end_time": "2017-12-10T07:42:50.847045Z",
     "start_time": "2017-12-10T07:42:50.766112Z"
    },
    "collapsed": true
   },
   "outputs": [],
   "source": [
    "path = './data/FanDuel/'\n",
    "files = os.listdir(path)\n",
    "fanduel_dfs = {}\n",
    "for fn in files:\n",
    "    yr = int(re.sub('[^0-9]', '', fn))\n",
    "    fanduel_dfs[yr] = pd.read_csv(path+fn)"
   ]
  },
  {
   "cell_type": "code",
   "execution_count": 10,
   "metadata": {
    "ExecuteTime": {
     "end_time": "2017-12-10T07:42:50.972654Z",
     "start_time": "2017-12-10T07:42:50.854855Z"
    },
    "collapsed": true
   },
   "outputs": [],
   "source": [
    "def clean_salaries(df, service, year):\n",
    "    positions = ['QB', 'RB', 'WR', 'TE']\n",
    "    df['FirstName'] = df['FirstName'].str.strip()\n",
    "    df['LastName'] = df['LastName'].str.strip()\n",
    "    df['full_name'] = df['LastName']+' '+df['FirstName']\n",
    "    df = df[df.Pos.isin(positions)].fillna(0)[['Week','Team','full_name',service+'_points',service+'_salary']]\n",
    "    df.columns = ['week','team','full_name',service+'_points',service+'_salary']\n",
    "    df['team'] = df['team'].str.upper()\n",
    "    df['team'] = df['team'].str.replace('KAN','KC')\n",
    "    df['team'] = df['team'].str.replace('GNB','GB')\n",
    "    df['team'] = df['team'].str.replace('LAR','LA')\n",
    "    df['team'] = df['team'].str.replace('TAM','TB')\n",
    "    df['team'] = df['team'].str.replace('SFO','SF')\n",
    "    df['team'] = df['team'].str.replace('NOR','NO')\n",
    "    df['team'] = df['team'].str.replace('NWE','NE')\n",
    "    df['team'] = df['team'].str.replace('SDG','SD')\n",
    "    df['team'] = df['team'].str.replace('LAC','SD')\n",
    "    return df\n",
    "\n",
    "def merge_salaries(players, salaries):\n",
    "    new_players = {}\n",
    "    for year in players.keys():\n",
    "        players_year = players[year]\n",
    "        salaries_year = clean_salaries(salaries[year], 'fd', year)\n",
    "        players_teams = set(players_year.team)\n",
    "        salaries_teams = set(salaries_year.team)\n",
    "        print(year, salaries_teams ^ players_teams)\n",
    "        salary_merge = players_year.merge(salaries_year,how='left',on=['week','full_name','team'])\n",
    "        new_players[year] = salary_merge.fillna(0)\n",
    "    return new_players"
   ]
  },
  {
   "cell_type": "code",
   "execution_count": 11,
   "metadata": {
    "ExecuteTime": {
     "end_time": "2017-12-10T07:42:51.999773Z",
     "start_time": "2017-12-10T07:42:50.982383Z"
    }
   },
   "outputs": [
    {
     "name": "stdout",
     "output_type": "stream",
     "text": [
      "2016 set()\n",
      "2017 set()\n",
      "2013 set()\n",
      "2014 set()\n",
      "2015 set()\n"
     ]
    }
   ],
   "source": [
    "nfl_fanduel_dfs = merge_salaries(nfl_dfs, fanduel_dfs)"
   ]
  },
  {
   "cell_type": "code",
   "execution_count": 12,
   "metadata": {
    "ExecuteTime": {
     "end_time": "2017-12-10T07:42:52.019808Z",
     "start_time": "2017-12-10T07:42:52.005239Z"
    },
    "collapsed": true
   },
   "outputs": [],
   "source": [
    "def add_year(df, yr):\n",
    "    df['year'] = yr\n",
    "    return df\n",
    "\n",
    "for year in nfl_fanduel_dfs.keys():\n",
    "    df_year = nfl_fanduel_dfs[year]\n",
    "    nfl_fanduel_dfs[year] = add_year(df_year, year)"
   ]
  },
  {
   "cell_type": "markdown",
   "metadata": {},
   "source": [
    "## snap counts"
   ]
  },
  {
   "cell_type": "code",
   "execution_count": 13,
   "metadata": {
    "ExecuteTime": {
     "end_time": "2017-12-10T07:42:52.148353Z",
     "start_time": "2017-12-10T07:42:52.035976Z"
    },
    "collapsed": true
   },
   "outputs": [],
   "source": [
    "def merge_snap_counts(dfs):\n",
    "    path = './data/FO_data/SnapCounts/'\n",
    "    SC_files = os.listdir(path)\n",
    "\n",
    "    SC_dfs = []\n",
    "    for fn in SC_files:\n",
    "        week = int(fn[:2])\n",
    "        year = int(fn[3:7])\n",
    "        df = pd.read_csv(path+fn)\n",
    "        df['week'] = week\n",
    "        df['year'] = year\n",
    "        SC_dfs.append(df)\n",
    "    sc = pd.concat(SC_dfs)\n",
    "\n",
    "    sc['number'] = pd.to_numeric(sc.Player.str.replace('[^0-9]',''))\n",
    "    sc['last_name'] = sc.Player.str.replace('[A-Za-z\\s]+\\.','')\n",
    "    sc['last_name'] = sc.last_name.str.replace('[^A-Za-z\\s]','').str.strip()\n",
    "    sc['started'] = sc['Started'].apply(lambda x: 1 if x=='YES' else 0)\n",
    "    sc['offensive_snap_pct'] = pd.to_numeric(sc['Off Snap Pct'].str.replace('[^0-9]',''), \n",
    "                                             downcast='float')\n",
    "    sc['offensive_snap_tot'] = sc['Off Snaps']\n",
    "    sc['position'] = sc.Position.str.replace('FB','RB').str.strip()\n",
    "    sc['team'] = sc['Team'].str.replace('LARM/STL','LA')\n",
    "    sc['team'] = sc['team'].str.replace('LAR','LA')\n",
    "    sc['team'] = sc['team'].str.replace('LAC','SD').str.strip()\n",
    "\n",
    "    sc = sc[sc.position.isin(['QB','RB','WR','TE'])]\n",
    "    sc = sc[['number','last_name','started','offensive_snap_pct',\n",
    "             'offensive_snap_tot','position','team','week','year']]\n",
    "    new_dfs = {}\n",
    "    for year, df in dfs.items():\n",
    "        merge_df = df.merge(sc, on=['last_name','team','week','year','position'])\n",
    "        new_dfs[year] = merge_df\n",
    "    return new_dfs"
   ]
  },
  {
   "cell_type": "code",
   "execution_count": 14,
   "metadata": {
    "ExecuteTime": {
     "end_time": "2017-12-10T07:42:55.304821Z",
     "start_time": "2017-12-10T07:42:52.150559Z"
    },
    "collapsed": true
   },
   "outputs": [],
   "source": [
    "nfl_fd_sc_dfs = merge_snap_counts(nfl_fanduel_dfs)"
   ]
  },
  {
   "cell_type": "markdown",
   "metadata": {},
   "source": [
    "## gameday weather"
   ]
  },
  {
   "cell_type": "code",
   "execution_count": 15,
   "metadata": {
    "ExecuteTime": {
     "end_time": "2017-12-10T07:42:55.403340Z",
     "start_time": "2017-12-10T07:42:55.306797Z"
    },
    "collapsed": true
   },
   "outputs": [],
   "source": [
    "def merge_weather(dfs):\n",
    "    from data.nfl_teams import team_dict\n",
    "    path = './data/NflWeather/'\n",
    "    weather_files = os.listdir(path)\n",
    "    weather_dfs = []\n",
    "    for fn in weather_files:\n",
    "        week = re.findall('_[0-9]+\\.',fn)\n",
    "        week = re.sub('[^0-9]','',str(week))\n",
    "        year = fn[:4]\n",
    "        df = pd.read_csv(path+fn)\n",
    "        df['week'] = int(week)\n",
    "        df['year'] = int(year)\n",
    "        weather_dfs.append(df)\n",
    "    weather = pd.concat(weather_dfs)\n",
    "\n",
    "    weather['team1'] = weather['team1'].apply(lambda x: team_dict[x])\n",
    "    weather['team2'] = weather['team2'].apply(lambda x: team_dict[x])\n",
    "\n",
    "    weather['wind_conditions'] = pd.to_numeric(weather['wind_conditions'].str.replace('[^0-9]',''))\n",
    "    weather['indoor_outdoor'] = weather['weather_forecast'].apply(lambda x: 1 if 'DOME' in x else 0)\n",
    "\n",
    "    weather1 = weather[['team1','wind_conditions','indoor_outdoor','week','year']]\n",
    "    weather1.columns = ['team','wind_conditions','indoor_outdoor','week','year']\n",
    "    weather2 = weather[['team2','wind_conditions','indoor_outdoor','week','year']]\n",
    "    weather2.columns = ['team','wind_conditions','indoor_outdoor','week','year']\n",
    "    weather = pd.concat([weather1,weather2])\n",
    "    \n",
    "    new_dfs = {}\n",
    "    for year, df in dfs.items():\n",
    "        merge_df = df.merge(weather,on=['team','week','year'])\n",
    "        new_dfs[year] = merge_df\n",
    "    return new_dfs"
   ]
  },
  {
   "cell_type": "code",
   "execution_count": 16,
   "metadata": {
    "ExecuteTime": {
     "end_time": "2017-12-10T07:42:55.719382Z",
     "start_time": "2017-12-10T07:42:55.407826Z"
    },
    "collapsed": true
   },
   "outputs": [],
   "source": [
    "nfl_fd_sc_weather_dfs = merge_weather(nfl_fd_sc_dfs)"
   ]
  },
  {
   "cell_type": "markdown",
   "metadata": {},
   "source": [
    "## holdout and train sets"
   ]
  },
  {
   "cell_type": "code",
   "execution_count": 17,
   "metadata": {
    "ExecuteTime": {
     "end_time": "2017-12-10T07:42:55.745959Z",
     "start_time": "2017-12-10T07:42:55.729401Z"
    }
   },
   "outputs": [
    {
     "name": "stdout",
     "output_type": "stream",
     "text": [
      "(1849, 397)\n",
      "(2607, 397)\n",
      "(3203, 397)\n",
      "(3582, 397)\n",
      "(3145, 397)\n"
     ]
    }
   ],
   "source": [
    "for year in range(2013,2018):\n",
    "    print(nfl_fd_sc_weather_dfs[year].shape)"
   ]
  },
  {
   "cell_type": "code",
   "execution_count": 18,
   "metadata": {
    "ExecuteTime": {
     "end_time": "2017-12-10T07:42:55.871315Z",
     "start_time": "2017-12-10T07:42:55.747968Z"
    },
    "collapsed": true
   },
   "outputs": [],
   "source": [
    "max_year = max(list(nfl_fd_sc_weather_dfs.keys()))\n",
    "holdout = nfl_fd_sc_weather_dfs[2017]\n",
    "model_dfs = [nfl_fd_sc_weather_dfs[yr] for yr in nfl_fd_sc_weather_dfs.keys() if yr != max_year]\n",
    "model_df = pd.concat(model_dfs)"
   ]
  },
  {
   "cell_type": "code",
   "execution_count": 19,
   "metadata": {
    "ExecuteTime": {
     "end_time": "2017-12-10T07:42:55.952530Z",
     "start_time": "2017-12-10T07:42:55.876460Z"
    }
   },
   "outputs": [
    {
     "data": {
      "text/plain": [
       "False"
      ]
     },
     "execution_count": 19,
     "metadata": {},
     "output_type": "execute_result"
    }
   ],
   "source": [
    "model_df.isnull().values.any()"
   ]
  },
  {
   "cell_type": "code",
   "execution_count": 20,
   "metadata": {
    "ExecuteTime": {
     "end_time": "2017-12-10T07:42:55.987653Z",
     "start_time": "2017-12-10T07:42:55.954558Z"
    }
   },
   "outputs": [
    {
     "data": {
      "text/plain": [
       "False"
      ]
     },
     "execution_count": 20,
     "metadata": {},
     "output_type": "execute_result"
    }
   ],
   "source": [
    "holdout.isnull().values.any()"
   ]
  },
  {
   "cell_type": "code",
   "execution_count": 21,
   "metadata": {
    "ExecuteTime": {
     "end_time": "2017-12-10T07:42:56.007365Z",
     "start_time": "2017-12-10T07:42:55.995935Z"
    }
   },
   "outputs": [
    {
     "data": {
      "text/plain": [
       "(11241, 397)"
      ]
     },
     "execution_count": 21,
     "metadata": {},
     "output_type": "execute_result"
    }
   ],
   "source": [
    "model_df.shape"
   ]
  },
  {
   "cell_type": "code",
   "execution_count": 22,
   "metadata": {
    "ExecuteTime": {
     "end_time": "2017-12-10T07:42:56.042049Z",
     "start_time": "2017-12-10T07:42:56.016082Z"
    }
   },
   "outputs": [
    {
     "data": {
      "text/plain": [
       "(3145, 397)"
      ]
     },
     "execution_count": 22,
     "metadata": {},
     "output_type": "execute_result"
    }
   ],
   "source": [
    "holdout.shape"
   ]
  },
  {
   "cell_type": "markdown",
   "metadata": {},
   "source": [
    "## boxcox transform target"
   ]
  },
  {
   "cell_type": "code",
   "execution_count": 98,
   "metadata": {
    "ExecuteTime": {
     "end_time": "2017-12-10T08:04:31.147914Z",
     "start_time": "2017-12-10T08:04:31.084919Z"
    }
   },
   "outputs": [
    {
     "data": {
      "text/plain": [
       "count    11241.000000\n",
       "mean         1.572879\n",
       "std          0.166410\n",
       "min          0.000000\n",
       "25%          1.427460\n",
       "50%          1.564940\n",
       "75%          1.710140\n",
       "max          1.995948\n",
       "Name: target_boxcox, dtype: float64"
      ]
     },
     "execution_count": 98,
     "metadata": {},
     "output_type": "execute_result"
    }
   ],
   "source": [
    "from scipy.stats import boxcox\n",
    "model_df.reset_index(inplace=True, drop=True)\n",
    "model_df['target_transform'] = model_df.target - (model_df.target.min()-1)\n",
    "model_df['target_boxcox'] = pd.Series(boxcox(model_df.target_transform)[0])\n",
    "model_df['target_boxcox'].describe()"
   ]
  },
  {
   "cell_type": "code",
   "execution_count": 99,
   "metadata": {
    "ExecuteTime": {
     "end_time": "2017-12-10T08:04:32.735323Z",
     "start_time": "2017-12-10T08:04:32.394379Z"
    }
   },
   "outputs": [
    {
     "data": {
      "text/plain": [
       "<matplotlib.axes._subplots.AxesSubplot at 0xab29aeec>"
      ]
     },
     "execution_count": 99,
     "metadata": {},
     "output_type": "execute_result"
    },
    {
     "data": {
      "image/png": "[encoded data removed]",
      "text/plain": [
       "<matplotlib.figure.Figure at 0xab775d6c>"
      ]
     },
     "metadata": {},
     "output_type": "display_data"
    }
   ],
   "source": [
    "model_df['target_boxcox'].hist(bins=40)"
   ]
  },
  {
   "cell_type": "code",
   "execution_count": 111,
   "metadata": {
    "ExecuteTime": {
     "end_time": "2017-12-10T08:08:12.034031Z",
     "start_time": "2017-12-10T08:08:12.018495Z"
    }
   },
   "outputs": [
    {
     "data": {
      "text/plain": [
       "(0, 400)"
      ]
     },
     "execution_count": 111,
     "metadata": {},
     "output_type": "execute_result"
    }
   ],
   "source": [
    "model_df[(model_df.target_boxcox == np.inf) | (model_df.target_boxcox == -np.inf)].shape"
   ]
  },
  {
   "cell_type": "markdown",
   "metadata": {},
   "source": [
    "## convert target to target rank"
   ]
  },
  {
   "cell_type": "code",
   "execution_count": 29,
   "metadata": {
    "ExecuteTime": {
     "end_time": "2017-12-10T07:42:57.466491Z",
     "start_time": "2017-12-10T07:42:57.322758Z"
    }
   },
   "outputs": [],
   "source": [
    "model_df.sort_values(['year','position','week','target'], ascending=False, inplace=True)"
   ]
  },
  {
   "cell_type": "code",
   "execution_count": 30,
   "metadata": {
    "ExecuteTime": {
     "end_time": "2017-12-10T07:42:57.597494Z",
     "start_time": "2017-12-10T07:42:57.473544Z"
    }
   },
   "outputs": [],
   "source": [
    "model_df['target_rank'] = model_df.groupby(['year','position','week'])['target'].\\\n",
    "                                    rank(method=\"dense\", ascending=False)"
   ]
  },
  {
   "cell_type": "code",
   "execution_count": 31,
   "metadata": {
    "ExecuteTime": {
     "end_time": "2017-12-10T07:42:58.207295Z",
     "start_time": "2017-12-10T07:42:57.605077Z"
    }
   },
   "outputs": [
    {
     "data": {
      "text/plain": [
       "<matplotlib.axes._subplots.AxesSubplot at 0xac1255ec>"
      ]
     },
     "execution_count": 31,
     "metadata": {},
     "output_type": "execute_result"
    },
    {
     "data": {
      "image/png": "[encoded data removed]",
      "text/plain": [
       "<matplotlib.figure.Figure at 0xac69c0ec>"
      ]
     },
     "metadata": {},
     "output_type": "display_data"
    }
   ],
   "source": [
    "model_df['target_rank'].hist(bins=40)"
   ]
  },
  {
   "cell_type": "markdown",
   "metadata": {},
   "source": [
    "## trim outliers"
   ]
  },
  {
   "cell_type": "code",
   "execution_count": 112,
   "metadata": {
    "ExecuteTime": {
     "end_time": "2017-12-10T08:08:24.446250Z",
     "start_time": "2017-12-10T08:08:24.442350Z"
    }
   },
   "outputs": [
    {
     "data": {
      "text/plain": [
       "(11241, 400)"
      ]
     },
     "execution_count": 112,
     "metadata": {},
     "output_type": "execute_result"
    }
   ],
   "source": [
    "model_df.shape"
   ]
  },
  {
   "cell_type": "code",
   "execution_count": 113,
   "metadata": {
    "ExecuteTime": {
     "end_time": "2017-12-10T08:08:25.605614Z",
     "start_time": "2017-12-10T08:08:25.251686Z"
    }
   },
   "outputs": [
    {
     "name": "stdout",
     "output_type": "stream",
     "text": [
      "(10166, 400)\n"
     ]
    },
    {
     "data": {
      "text/plain": [
       "<matplotlib.axes._subplots.AxesSubplot at 0xab30ba2c>"
      ]
     },
     "execution_count": 113,
     "metadata": {},
     "output_type": "execute_result"
    },
    {
     "data": {
      "image/png": "[encoded data removed]",
      "text/plain": [
       "<matplotlib.figure.Figure at 0xab748aac>"
      ]
     },
     "metadata": {},
     "output_type": "display_data"
    }
   ],
   "source": [
    "thresh = 1\n",
    "tmp = model_df[model_df.fantasy_points_mean > thresh]\n",
    "print(tmp.shape)\n",
    "tmp.target_boxcox.hist(bins=40)"
   ]
  },
  {
   "cell_type": "code",
   "execution_count": 114,
   "metadata": {
    "ExecuteTime": {
     "end_time": "2017-12-10T08:08:30.501797Z",
     "start_time": "2017-12-10T08:08:30.481283Z"
    }
   },
   "outputs": [],
   "source": [
    "model_df_trimmed = model_df[model_df.fantasy_points_mean > thresh]\n",
    "# model_df_trimmed['target_boxcox'] = pd.Series(boxcox(model_df_trimmed.target_transform)[0])"
   ]
  },
  {
   "cell_type": "markdown",
   "metadata": {},
   "source": [
    "## player stat interactions"
   ]
  },
  {
   "cell_type": "code",
   "execution_count": 115,
   "metadata": {
    "ExecuteTime": {
     "end_time": "2017-12-10T08:08:31.633536Z",
     "start_time": "2017-12-10T08:08:31.591827Z"
    },
    "collapsed": true
   },
   "outputs": [],
   "source": [
    "numeric_df_columns = model_df_trimmed.select_dtypes(include=['float32','int32','int64','float64','uint8']).columns\n",
    "fumble_features = [c for c in numeric_df_columns if \"fumble\" in c and \"per\" not in c]\n",
    "\n",
    "passing_features = ['passing_att_mean','passing_cmp_mean','passing_ints_mean','passing_yds_mean',\n",
    "                    'passing_tds_mean','passer_ratio','rushing_yds_mean','rushing_att_mean','rushing_tds_mean',\n",
    "                    'PassRushRatio_Att_mean','PassRushRatio_Yds_mean', 'PassRushRatio_Tds_mean']\n",
    "\n",
    "rushing_features = ['rushing_yds_mean','rushing_att_mean','rushing_tds_mean',\n",
    "                    'RushRecRatio_AttRec_mean','RushRecRatio_Tds_mean','RushRecRatio_Yds_mean']\n",
    "\n",
    "receiving_features = ['receiving_rec_mean','receiving_tds_mean','receiving_yds_mean']\n",
    "\n",
    "sharedfeats = ['years_pro','age','weight','height','player_weight','year','week','team','target','target_rank',\n",
    "               'target_boxcox','fantasy_points_mean','target_week','defensive_matchup_allowed','offensive_snap_pct',\n",
    "               'offensive_snap_tot','fd_salary','started','wind_conditions','indoor_outdoor']+fumble_features\n",
    "\n",
    "QB_features = sharedfeats+passing_features+rushing_features\n",
    "RB_features = sharedfeats+rushing_features+receiving_features\n",
    "WR_features = sharedfeats+receiving_features\n",
    "TE_features = sharedfeats+receiving_features"
   ]
  },
  {
   "cell_type": "code",
   "execution_count": 116,
   "metadata": {
    "ExecuteTime": {
     "end_time": "2017-12-10T08:08:44.353337Z",
     "start_time": "2017-12-10T08:08:44.191349Z"
    },
    "collapsed": true
   },
   "outputs": [],
   "source": [
    "QB_df = model_df_trimmed[model_df_trimmed.position == 'QB'][QB_features].reset_index().drop('index',axis=1)\n",
    "QB_stats = QB_df.groupby(['year','week','team']).mean()[passing_features].reset_index().add_prefix('QBMEAN')\n",
    "QB_stats=QB_stats.rename(columns={'QBMEANyear':'year', 'QBMEANweek':'week', 'QBMEANteam':'team'})\n",
    "QB_merge_stats = ['QBMEANPassRushRatio_Att','QBMEANPassRushRatio_Yds','QBMEANPassRushRatio_Tds']\n",
    "\n",
    "RB_df = model_df_trimmed[model_df_trimmed.position == 'RB'][RB_features].reset_index().drop('index',axis=1)\n",
    "RB_stats = RB_df.groupby(['year','week','team']).mean()[rushing_features].reset_index().add_prefix('RBMEAN')\n",
    "RB_stats=RB_stats.rename(columns={'RBMEANyear':'year', 'RBMEANweek':'week', 'RBMEANteam':'team'})\n",
    "\n",
    "WR_df = model_df_trimmed[model_df_trimmed.position == 'WR'][WR_features].reset_index().drop('index',axis=1)\n",
    "WR_stats = WR_df.groupby(['year','week','team']).mean()[receiving_features].reset_index().add_prefix('WRMEAN')\n",
    "WR_stats=WR_stats.rename(columns={'WRMEANyear':'year', 'WRMEANweek':'week', 'WRMEANteam':'team'})\n",
    "\n",
    "TE_df = model_df_trimmed[model_df_trimmed.position == 'TE'][TE_features].reset_index().drop('index',axis=1)\n",
    "TE_stats = TE_df.groupby(['year','week','team']).mean()[receiving_features].reset_index().add_prefix('TEMEAN')\n",
    "TE_stats=TE_stats.rename(columns={'TEMEANyear':'year', 'TEMEANweek':'week', 'TEMEANteam':'team'})"
   ]
  },
  {
   "cell_type": "code",
   "execution_count": 117,
   "metadata": {
    "ExecuteTime": {
     "end_time": "2017-12-10T08:08:44.619462Z",
     "start_time": "2017-12-10T08:08:44.592997Z"
    }
   },
   "outputs": [
    {
     "name": "stdout",
     "output_type": "stream",
     "text": [
      "QB: (1452, 63)\n",
      "RB: (2910, 54)\n",
      "WR: (4030, 48)\n",
      "TE: (1774, 48)\n"
     ]
    }
   ],
   "source": [
    "print(\"QB:\", QB_df.shape)\n",
    "print(\"RB:\", RB_df.shape)\n",
    "print(\"WR:\", WR_df.shape)\n",
    "print(\"TE:\", TE_df.shape)"
   ]
  },
  {
   "cell_type": "code",
   "execution_count": 118,
   "metadata": {
    "ExecuteTime": {
     "end_time": "2017-12-10T08:08:46.359829Z",
     "start_time": "2017-12-10T08:08:46.282710Z"
    },
    "collapsed": true
   },
   "outputs": [],
   "source": [
    "QB_df = QB_df.merge(RB_stats, how='inner', on=['year','week','team'])\n",
    "\n",
    "RB_df = RB_df.merge(QB_stats, how='inner', on=['year','week','team'])\n",
    "\n",
    "WR_df = WR_df.merge(RB_stats, how='inner', on=['year','week','team'])\n",
    "WR_df = WR_df.merge(QB_stats, how='inner', on=['year','week','team'])\n",
    "\n",
    "TE_df = TE_df.merge(QB_stats, how='inner', on=['year','week','team'])\n",
    "TE_df = TE_df.merge(RB_stats, how='inner', on=['year','week','team'])"
   ]
  },
  {
   "cell_type": "code",
   "execution_count": 119,
   "metadata": {
    "ExecuteTime": {
     "end_time": "2017-12-10T08:08:46.619997Z",
     "start_time": "2017-12-10T08:08:46.600858Z"
    }
   },
   "outputs": [
    {
     "name": "stdout",
     "output_type": "stream",
     "text": [
      "QB: (1321, 69)\n",
      "RB: (2588, 69)\n",
      "WR: (3348, 69)\n",
      "TE: (1453, 69)\n"
     ]
    }
   ],
   "source": [
    "print(\"QB:\", QB_df.shape)\n",
    "print(\"RB:\", RB_df.shape)\n",
    "print(\"WR:\", WR_df.shape)\n",
    "print(\"TE:\", TE_df.shape)"
   ]
  },
  {
   "cell_type": "markdown",
   "metadata": {
    "collapsed": true
   },
   "source": [
    "## interactions by position"
   ]
  },
  {
   "cell_type": "code",
   "execution_count": 150,
   "metadata": {
    "ExecuteTime": {
     "end_time": "2017-12-10T08:20:44.182134Z",
     "start_time": "2017-12-10T08:20:43.502166Z"
    }
   },
   "outputs": [],
   "source": [
    "# from sklearn.preprocessing import PolynomialFeatures\n",
    "# create_interactions = [('QB',QB_df), ('RB',RB_df), ('WR',WR_df), ('TE',TE_df)]\n",
    "# interactions_positions = {}\n",
    "# for pos, data in create_interactions:\n",
    "#     numerics = data.select_dtypes(include=['float32','int32','int64','float64','uint8']).columns.tolist()\n",
    "#     data = data[numerics]\n",
    "#     poly = PolynomialFeatures(2, interaction_only=True, include_bias=True)\n",
    "#     interactions_arr = poly.fit_transform(data)\n",
    "#     interactions_names = poly.get_feature_names(data.columns)\n",
    "#     interactions = pd.DataFrame(interactions_arr, columns=interactions_names)\n",
    "#     interactions_positions[pos] = interactions\n",
    "\n",
    "# def explore_interaction_corrs(pos, interactions):\n",
    "#     target_col = interactions.target_rank\n",
    "#     nontarget_interactions = interactions[[c for c in interactions.columns if \"target\" not in c]]\n",
    "#     explore = pd.concat([target_col, nontarget_interactions], axis=1)\n",
    "#     corr_interactions = explore.corr()\n",
    "#     return corr_interactions[['target_rank']].sort_values('target_rank',ascending=False).reset_index()\n",
    "\n",
    "# QB_inters = explore_interaction_corrs('QB', interactions_positions['QB'])\n",
    "# RB_inters = explore_interaction_corrs('RB', interactions_positions['RB'])\n",
    "# WR_inters = explore_interaction_corrs('WR', interactions_positions['WR'])\n",
    "# TE_inters = explore_interaction_corrs('TE', interactions_positions['TE'])\n",
    "\n",
    "# QB_inters.to_csv('data/interactions_QB.csv')\n",
    "# RB_inters.to_csv('data/interactions_RB.csv')\n",
    "# WR_inters.to_csv('data/interactions_WR.csv')\n",
    "# TE_inters.to_csv('data/interactions_TE.csv')\n",
    "\n",
    "# QB_inters = pd.read_csv('data/interactions_QB.csv')\n",
    "# RB_inters = pd.read_csv('data/interactions_RB.csv')\n",
    "# WR_inters = pd.read_csv('data/interactions_WR.csv')\n",
    "# TE_inters = pd.read_csv('data/interactions_TE.csv')"
   ]
  },
  {
   "cell_type": "markdown",
   "metadata": {},
   "source": [
    "### QB"
   ]
  },
  {
   "cell_type": "code",
   "execution_count": 160,
   "metadata": {
    "ExecuteTime": {
     "end_time": "2017-12-10T08:29:41.365764Z",
     "start_time": "2017-12-10T08:29:41.349791Z"
    },
    "collapsed": true
   },
   "outputs": [
    {
     "data": {
      "text/html": [
       "<div>\n",
       "<style>\n",
       "    .dataframe thead tr:only-child th {\n",
       "        text-align: right;\n",
       "    }\n",
       "\n",
       "    .dataframe thead th {\n",
       "        text-align: left;\n",
       "    }\n",
       "\n",
       "    .dataframe tbody tr th {\n",
       "        vertical-align: top;\n",
       "    }\n",
       "</style>\n",
       "<table border=\"1\" class=\"dataframe\">\n",
       "  <thead>\n",
       "    <tr style=\"text-align: right;\">\n",
       "      <th></th>\n",
       "      <th>index</th>\n",
       "      <th>target_rank</th>\n",
       "    </tr>\n",
       "  </thead>\n",
       "  <tbody>\n",
       "    <tr>\n",
       "      <th>4883</th>\n",
       "      <td>age player_weight</td>\n",
       "      <td>-0.257128</td>\n",
       "    </tr>\n",
       "    <tr>\n",
       "      <th>4882</th>\n",
       "      <td>player_weight</td>\n",
       "      <td>-0.252991</td>\n",
       "    </tr>\n",
       "    <tr>\n",
       "      <th>4881</th>\n",
       "      <td>player_weight year</td>\n",
       "      <td>-0.252731</td>\n",
       "    </tr>\n",
       "    <tr>\n",
       "      <th>4880</th>\n",
       "      <td>age fantasy_points_mean</td>\n",
       "      <td>-0.252125</td>\n",
       "    </tr>\n",
       "    <tr>\n",
       "      <th>4879</th>\n",
       "      <td>weight player_weight</td>\n",
       "      <td>-0.248991</td>\n",
       "    </tr>\n",
       "    <tr>\n",
       "      <th>4878</th>\n",
       "      <td>height player_weight</td>\n",
       "      <td>-0.248006</td>\n",
       "    </tr>\n",
       "    <tr>\n",
       "      <th>4877</th>\n",
       "      <td>player_weight started</td>\n",
       "      <td>-0.246212</td>\n",
       "    </tr>\n",
       "    <tr>\n",
       "      <th>4876</th>\n",
       "      <td>fantasy_points_mean</td>\n",
       "      <td>-0.246201</td>\n",
       "    </tr>\n",
       "    <tr>\n",
       "      <th>4875</th>\n",
       "      <td>year fantasy_points_mean</td>\n",
       "      <td>-0.245895</td>\n",
       "    </tr>\n",
       "    <tr>\n",
       "      <th>4874</th>\n",
       "      <td>weight fantasy_points_mean</td>\n",
       "      <td>-0.241363</td>\n",
       "    </tr>\n",
       "  </tbody>\n",
       "</table>\n",
       "</div>"
      ],
      "text/plain": [
       "                           index  target_rank\n",
       "4883           age player_weight    -0.257128\n",
       "4882               player_weight    -0.252991\n",
       "4881          player_weight year    -0.252731\n",
       "4880     age fantasy_points_mean    -0.252125\n",
       "4879        weight player_weight    -0.248991\n",
       "4878        height player_weight    -0.248006\n",
       "4877       player_weight started    -0.246212\n",
       "4876         fantasy_points_mean    -0.246201\n",
       "4875    year fantasy_points_mean    -0.245895\n",
       "4874  weight fantasy_points_mean    -0.241363"
      ]
     },
     "execution_count": 160,
     "metadata": {},
     "output_type": "execute_result"
    }
   ],
   "source": [
    "QB_inters.sort_values('target_rank',ascending=True).head(10)"
   ]
  },
  {
   "cell_type": "markdown",
   "metadata": {
    "collapsed": true
   },
   "source": [
    "### RB"
   ]
  },
  {
   "cell_type": "code",
   "execution_count": 167,
   "metadata": {
    "ExecuteTime": {
     "end_time": "2017-12-10T08:39:29.834766Z",
     "start_time": "2017-12-10T08:39:29.814784Z"
    },
    "collapsed": true
   },
   "outputs": [
    {
     "data": {
      "text/html": [
       "<div>\n",
       "<style>\n",
       "    .dataframe thead tr:only-child th {\n",
       "        text-align: right;\n",
       "    }\n",
       "\n",
       "    .dataframe thead th {\n",
       "        text-align: left;\n",
       "    }\n",
       "\n",
       "    .dataframe tbody tr th {\n",
       "        vertical-align: top;\n",
       "    }\n",
       "</style>\n",
       "<table border=\"1\" class=\"dataframe\">\n",
       "  <thead>\n",
       "    <tr style=\"text-align: right;\">\n",
       "      <th></th>\n",
       "      <th>index</th>\n",
       "      <th>target_rank</th>\n",
       "    </tr>\n",
       "  </thead>\n",
       "  <tbody>\n",
       "    <tr>\n",
       "      <th>5383</th>\n",
       "      <td>rushing_att_mean</td>\n",
       "      <td>-0.506707</td>\n",
       "    </tr>\n",
       "    <tr>\n",
       "      <th>5382</th>\n",
       "      <td>year rushing_att_mean</td>\n",
       "      <td>-0.506565</td>\n",
       "    </tr>\n",
       "    <tr>\n",
       "      <th>5381</th>\n",
       "      <td>height rushing_att_mean</td>\n",
       "      <td>-0.505651</td>\n",
       "    </tr>\n",
       "    <tr>\n",
       "      <th>5380</th>\n",
       "      <td>age rushing_att_mean</td>\n",
       "      <td>-0.505518</td>\n",
       "    </tr>\n",
       "    <tr>\n",
       "      <th>5379</th>\n",
       "      <td>weight rushing_att_mean</td>\n",
       "      <td>-0.501533</td>\n",
       "    </tr>\n",
       "    <tr>\n",
       "      <th>5378</th>\n",
       "      <td>age rushing_yds_mean</td>\n",
       "      <td>-0.498788</td>\n",
       "    </tr>\n",
       "    <tr>\n",
       "      <th>5377</th>\n",
       "      <td>player_weight</td>\n",
       "      <td>-0.497595</td>\n",
       "    </tr>\n",
       "    <tr>\n",
       "      <th>5376</th>\n",
       "      <td>player_weight year</td>\n",
       "      <td>-0.497454</td>\n",
       "    </tr>\n",
       "    <tr>\n",
       "      <th>5375</th>\n",
       "      <td>rushing_yds_mean</td>\n",
       "      <td>-0.496762</td>\n",
       "    </tr>\n",
       "    <tr>\n",
       "      <th>5374</th>\n",
       "      <td>height rushing_yds_mean</td>\n",
       "      <td>-0.496647</td>\n",
       "    </tr>\n",
       "    <tr>\n",
       "      <th>5373</th>\n",
       "      <td>year rushing_yds_mean</td>\n",
       "      <td>-0.496621</td>\n",
       "    </tr>\n",
       "    <tr>\n",
       "      <th>5372</th>\n",
       "      <td>height player_weight</td>\n",
       "      <td>-0.496484</td>\n",
       "    </tr>\n",
       "    <tr>\n",
       "      <th>5371</th>\n",
       "      <td>age player_weight</td>\n",
       "      <td>-0.495680</td>\n",
       "    </tr>\n",
       "    <tr>\n",
       "      <th>5370</th>\n",
       "      <td>weight player_weight</td>\n",
       "      <td>-0.495427</td>\n",
       "    </tr>\n",
       "    <tr>\n",
       "      <th>5369</th>\n",
       "      <td>weight rushing_yds_mean</td>\n",
       "      <td>-0.493747</td>\n",
       "    </tr>\n",
       "  </tbody>\n",
       "</table>\n",
       "</div>"
      ],
      "text/plain": [
       "                        index  target_rank\n",
       "5383         rushing_att_mean    -0.506707\n",
       "5382    year rushing_att_mean    -0.506565\n",
       "5381  height rushing_att_mean    -0.505651\n",
       "5380     age rushing_att_mean    -0.505518\n",
       "5379  weight rushing_att_mean    -0.501533\n",
       "5378     age rushing_yds_mean    -0.498788\n",
       "5377            player_weight    -0.497595\n",
       "5376       player_weight year    -0.497454\n",
       "5375         rushing_yds_mean    -0.496762\n",
       "5374  height rushing_yds_mean    -0.496647\n",
       "5373    year rushing_yds_mean    -0.496621\n",
       "5372     height player_weight    -0.496484\n",
       "5371        age player_weight    -0.495680\n",
       "5370     weight player_weight    -0.495427\n",
       "5369  weight rushing_yds_mean    -0.493747"
      ]
     },
     "execution_count": 167,
     "metadata": {},
     "output_type": "execute_result"
    }
   ],
   "source": [
    "RB_inters.sort_values('target_rank',ascending=True).head(15)"
   ]
  },
  {
   "cell_type": "markdown",
   "metadata": {},
   "source": [
    "### WR"
   ]
  },
  {
   "cell_type": "code",
   "execution_count": 171,
   "metadata": {
    "ExecuteTime": {
     "end_time": "2017-12-10T08:47:16.128981Z",
     "start_time": "2017-12-10T08:47:16.112975Z"
    },
    "collapsed": true
   },
   "outputs": [
    {
     "data": {
      "text/html": [
       "<div>\n",
       "<style>\n",
       "    .dataframe thead tr:only-child th {\n",
       "        text-align: right;\n",
       "    }\n",
       "\n",
       "    .dataframe thead th {\n",
       "        text-align: left;\n",
       "    }\n",
       "\n",
       "    .dataframe tbody tr th {\n",
       "        vertical-align: top;\n",
       "    }\n",
       "</style>\n",
       "<table border=\"1\" class=\"dataframe\">\n",
       "  <thead>\n",
       "    <tr style=\"text-align: right;\">\n",
       "      <th></th>\n",
       "      <th>index</th>\n",
       "      <th>target_rank</th>\n",
       "    </tr>\n",
       "  </thead>\n",
       "  <tbody>\n",
       "    <tr>\n",
       "      <th>0</th>\n",
       "      <td>target_rank</td>\n",
       "      <td>1.000000</td>\n",
       "    </tr>\n",
       "    <tr>\n",
       "      <th>1</th>\n",
       "      <td>year</td>\n",
       "      <td>0.258507</td>\n",
       "    </tr>\n",
       "    <tr>\n",
       "      <th>2</th>\n",
       "      <td>chg_fumbles_tot receiving_yds_mean</td>\n",
       "      <td>0.097665</td>\n",
       "    </tr>\n",
       "    <tr>\n",
       "      <th>3</th>\n",
       "      <td>fantasy_points_mean chg_fumbles_tot</td>\n",
       "      <td>0.094086</td>\n",
       "    </tr>\n",
       "    <tr>\n",
       "      <th>4</th>\n",
       "      <td>player_weight chg_fumbles_tot</td>\n",
       "      <td>0.093083</td>\n",
       "    </tr>\n",
       "    <tr>\n",
       "      <th>5</th>\n",
       "      <td>chg_fumbles_tot receiving_rec_mean</td>\n",
       "      <td>0.092946</td>\n",
       "    </tr>\n",
       "    <tr>\n",
       "      <th>6</th>\n",
       "      <td>offensive_snap_pct chg_fumbles_tot</td>\n",
       "      <td>0.088527</td>\n",
       "    </tr>\n",
       "    <tr>\n",
       "      <th>15</th>\n",
       "      <td>RBMEANrushing_tds_mean QBMEANrushing_tds_mean</td>\n",
       "      <td>0.084675</td>\n",
       "    </tr>\n",
       "    <tr>\n",
       "      <th>22</th>\n",
       "      <td>RBMEANrushing_tds_mean QBMEANrushing_tds_mean</td>\n",
       "      <td>0.084675</td>\n",
       "    </tr>\n",
       "    <tr>\n",
       "      <th>21</th>\n",
       "      <td>RBMEANrushing_tds_mean QBMEANrushing_tds_mean</td>\n",
       "      <td>0.084675</td>\n",
       "    </tr>\n",
       "    <tr>\n",
       "      <th>20</th>\n",
       "      <td>RBMEANrushing_tds_mean QBMEANrushing_tds_mean</td>\n",
       "      <td>0.084675</td>\n",
       "    </tr>\n",
       "    <tr>\n",
       "      <th>19</th>\n",
       "      <td>RBMEANrushing_tds_mean QBMEANrushing_tds_mean</td>\n",
       "      <td>0.084675</td>\n",
       "    </tr>\n",
       "    <tr>\n",
       "      <th>18</th>\n",
       "      <td>RBMEANrushing_tds_mean QBMEANrushing_tds_mean</td>\n",
       "      <td>0.084675</td>\n",
       "    </tr>\n",
       "    <tr>\n",
       "      <th>17</th>\n",
       "      <td>RBMEANrushing_tds_mean QBMEANrushing_tds_mean</td>\n",
       "      <td>0.084675</td>\n",
       "    </tr>\n",
       "    <tr>\n",
       "      <th>16</th>\n",
       "      <td>RBMEANrushing_tds_mean QBMEANrushing_tds_mean</td>\n",
       "      <td>0.084675</td>\n",
       "    </tr>\n",
       "  </tbody>\n",
       "</table>\n",
       "</div>"
      ],
      "text/plain": [
       "                                            index  target_rank\n",
       "0                                     target_rank     1.000000\n",
       "1                                            year     0.258507\n",
       "2              chg_fumbles_tot receiving_yds_mean     0.097665\n",
       "3             fantasy_points_mean chg_fumbles_tot     0.094086\n",
       "4                   player_weight chg_fumbles_tot     0.093083\n",
       "5              chg_fumbles_tot receiving_rec_mean     0.092946\n",
       "6              offensive_snap_pct chg_fumbles_tot     0.088527\n",
       "15  RBMEANrushing_tds_mean QBMEANrushing_tds_mean     0.084675\n",
       "22  RBMEANrushing_tds_mean QBMEANrushing_tds_mean     0.084675\n",
       "21  RBMEANrushing_tds_mean QBMEANrushing_tds_mean     0.084675\n",
       "20  RBMEANrushing_tds_mean QBMEANrushing_tds_mean     0.084675\n",
       "19  RBMEANrushing_tds_mean QBMEANrushing_tds_mean     0.084675\n",
       "18  RBMEANrushing_tds_mean QBMEANrushing_tds_mean     0.084675\n",
       "17  RBMEANrushing_tds_mean QBMEANrushing_tds_mean     0.084675\n",
       "16  RBMEANrushing_tds_mean QBMEANrushing_tds_mean     0.084675"
      ]
     },
     "execution_count": 171,
     "metadata": {},
     "output_type": "execute_result"
    }
   ],
   "source": [
    "WR_inters.sort_values('target_rank',ascending=False).head(15)"
   ]
  },
  {
   "cell_type": "markdown",
   "metadata": {},
   "source": [
    "### TE"
   ]
  },
  {
   "cell_type": "code",
   "execution_count": 174,
   "metadata": {
    "ExecuteTime": {
     "end_time": "2017-12-10T08:55:15.133479Z",
     "start_time": "2017-12-10T08:55:15.105270Z"
    },
    "collapsed": true
   },
   "outputs": [
    {
     "data": {
      "text/html": [
       "<div>\n",
       "<style>\n",
       "    .dataframe thead tr:only-child th {\n",
       "        text-align: right;\n",
       "    }\n",
       "\n",
       "    .dataframe thead th {\n",
       "        text-align: left;\n",
       "    }\n",
       "\n",
       "    .dataframe tbody tr th {\n",
       "        vertical-align: top;\n",
       "    }\n",
       "</style>\n",
       "<table border=\"1\" class=\"dataframe\">\n",
       "  <thead>\n",
       "    <tr style=\"text-align: right;\">\n",
       "      <th></th>\n",
       "      <th>index</th>\n",
       "      <th>target_rank</th>\n",
       "    </tr>\n",
       "  </thead>\n",
       "  <tbody>\n",
       "    <tr>\n",
       "      <th>5314</th>\n",
       "      <td>age receiving_yds_mean</td>\n",
       "      <td>-0.392824</td>\n",
       "    </tr>\n",
       "    <tr>\n",
       "      <th>5313</th>\n",
       "      <td>height receiving_yds_mean</td>\n",
       "      <td>-0.392418</td>\n",
       "    </tr>\n",
       "    <tr>\n",
       "      <th>5312</th>\n",
       "      <td>receiving_yds_mean</td>\n",
       "      <td>-0.392030</td>\n",
       "    </tr>\n",
       "    <tr>\n",
       "      <th>5311</th>\n",
       "      <td>year receiving_yds_mean</td>\n",
       "      <td>-0.391884</td>\n",
       "    </tr>\n",
       "    <tr>\n",
       "      <th>5310</th>\n",
       "      <td>weight receiving_yds_mean</td>\n",
       "      <td>-0.389847</td>\n",
       "    </tr>\n",
       "    <tr>\n",
       "      <th>5309</th>\n",
       "      <td>offensive_snap_tot receiving_yds_mean</td>\n",
       "      <td>-0.389778</td>\n",
       "    </tr>\n",
       "    <tr>\n",
       "      <th>5308</th>\n",
       "      <td>height receiving_rec_mean</td>\n",
       "      <td>-0.386830</td>\n",
       "    </tr>\n",
       "    <tr>\n",
       "      <th>5307</th>\n",
       "      <td>receiving_rec_mean</td>\n",
       "      <td>-0.386028</td>\n",
       "    </tr>\n",
       "    <tr>\n",
       "      <th>5306</th>\n",
       "      <td>year receiving_rec_mean</td>\n",
       "      <td>-0.385845</td>\n",
       "    </tr>\n",
       "    <tr>\n",
       "      <th>5305</th>\n",
       "      <td>age receiving_rec_mean</td>\n",
       "      <td>-0.384072</td>\n",
       "    </tr>\n",
       "  </tbody>\n",
       "</table>\n",
       "</div>"
      ],
      "text/plain": [
       "                                      index  target_rank\n",
       "5314                 age receiving_yds_mean    -0.392824\n",
       "5313              height receiving_yds_mean    -0.392418\n",
       "5312                     receiving_yds_mean    -0.392030\n",
       "5311                year receiving_yds_mean    -0.391884\n",
       "5310              weight receiving_yds_mean    -0.389847\n",
       "5309  offensive_snap_tot receiving_yds_mean    -0.389778\n",
       "5308              height receiving_rec_mean    -0.386830\n",
       "5307                     receiving_rec_mean    -0.386028\n",
       "5306                year receiving_rec_mean    -0.385845\n",
       "5305                 age receiving_rec_mean    -0.384072"
      ]
     },
     "execution_count": 174,
     "metadata": {},
     "output_type": "execute_result"
    }
   ],
   "source": [
    "TE_inters.sort_values('target_rank',ascending=True).head(10)"
   ]
  },
  {
   "cell_type": "markdown",
   "metadata": {},
   "source": [
    "## compute interactions"
   ]
  },
  {
   "cell_type": "code",
   "execution_count": 177,
   "metadata": {
    "ExecuteTime": {
     "end_time": "2017-12-10T08:59:34.261825Z",
     "start_time": "2017-12-10T08:59:34.257000Z"
    },
    "collapsed": true
   },
   "outputs": [],
   "source": [
    "QB_df.reset_index(inplace=True,drop=True)\n",
    "RB_df.reset_index(inplace=True,drop=True)\n",
    "WR_df.reset_index(inplace=True,drop=True)\n",
    "TE_df.reset_index(inplace=True,drop=True)"
   ]
  },
  {
   "cell_type": "code",
   "execution_count": 180,
   "metadata": {
    "ExecuteTime": {
     "end_time": "2017-12-10T09:00:45.823464Z",
     "start_time": "2017-12-10T09:00:45.790223Z"
    }
   },
   "outputs": [],
   "source": [
    "QB_df['chg_fumbles_yds trend_fumbles_tot'] = QB_df['trend_fumbles_tot']*QB_df['chg_fumbles_yds']\n",
    "QB_df['age player_weight'] = QB_df['age']*QB_df['player_weight']\n",
    "RB_df['player_weight offensive_snap_pct'] = RB_df['player_weight']*RB_df['offensive_snap_pct']\n",
    "RB_df['fantasy_points_mean offensive_snap_tot'] = RB_df['offensive_snap_tot']*RB_df['fantasy_points_mean']\n",
    "RB_df['offensive_snap_tot chg_fumbles_tot'] = RB_df['offensive_snap_tot']*RB_df['chg_fumbles_tot']\n",
    "WR_df['chg_fumbles_tot receiving_yds_mean'] = WR_df['chg_fumbles_tot']*WR_df['receiving_yds_mean']\n",
    "WR_df['age receiving_yds_mean'] = WR_df['age']*WR_df['receiving_yds_mean']\n",
    "# WR_df['QBMEANrushing_tds_mean RBMEANrushing_tds_mean'] = WR_df['QBMEANrushing_tds_mean']*WR_df['RBMEANrushing_tds_mean']\n",
    "TE_df['trend_fumbles_tot RBMEANRushRecRatio_AttRec_mean'] = TE_df['trend_fumbles_tot']*TE_df['RBMEANRushRecRatio_AttRec_mean']\n",
    "TE_df['age receiving_yds_mean'] = TE_df['age']*TE_df['receiving_yds_mean']"
   ]
  },
  {
   "cell_type": "markdown",
   "metadata": {},
   "source": [
    "## memory mgmt"
   ]
  },
  {
   "cell_type": "code",
   "execution_count": 186,
   "metadata": {
    "ExecuteTime": {
     "end_time": "2017-12-10T09:04:08.248953Z",
     "start_time": "2017-12-10T09:04:08.095546Z"
    }
   },
   "outputs": [
    {
     "data": {
      "text/plain": [
       "5836"
      ]
     },
     "execution_count": 186,
     "metadata": {},
     "output_type": "execute_result"
    }
   ],
   "source": [
    "# del player_dfs\n",
    "# del opp_dfs\n",
    "# del nfl_dfs\n",
    "# del fanduel_dfs\n",
    "# del nfl_fanduel_dfs\n",
    "# del nfl_fd_sc_dfs\n",
    "# del nfl_fd_sc_weather_dfs\n",
    "# del QB_inters\n",
    "# del RB_inters\n",
    "# del WR_inters\n",
    "# del TE_inters\n",
    "# del interactions_positions\n",
    "gc.collect()"
   ]
  },
  {
   "cell_type": "markdown",
   "metadata": {},
   "source": [
    "## model"
   ]
  },
  {
   "cell_type": "code",
   "execution_count": 48,
   "metadata": {
    "ExecuteTime": {
     "end_time": "2017-12-10T07:48:11.217099Z",
     "start_time": "2017-12-10T07:48:11.112133Z"
    }
   },
   "outputs": [],
   "source": [
    "import sklearn.metrics as metrics\n",
    "import sklearn.linear_model as lin\n",
    "from sklearn.ensemble import RandomForestRegressor, GradientBoostingRegressor\n",
    "# from xgb import XGBRegressor\n",
    "from sklearn.model_selection import GridSearchCV, train_test_split\n",
    "from sklearn.preprocessing import StandardScaler\n",
    "from sklearn.svm import SVR\n",
    "from pprint import pprint\n",
    "import matplotlib\n",
    "import pickle"
   ]
  },
  {
   "cell_type": "code",
   "execution_count": 187,
   "metadata": {
    "ExecuteTime": {
     "end_time": "2017-12-10T09:04:24.180131Z",
     "start_time": "2017-12-10T09:04:24.169761Z"
    },
    "collapsed": true
   },
   "outputs": [],
   "source": [
    "# weeks = sorted(model_df.target_week.unique().tolist())\n",
    "# weeks.remove(1.0)\n",
    "# weeks.remove(2.0)\n",
    "weeks = list(range(2,14))"
   ]
  },
  {
   "cell_type": "code",
   "execution_count": 191,
   "metadata": {
    "ExecuteTime": {
     "end_time": "2017-12-10T09:05:09.890333Z",
     "start_time": "2017-12-10T09:05:09.750705Z"
    },
    "collapsed": true
   },
   "outputs": [],
   "source": [
    "def regression_tts(input_df, week=13):\n",
    "    input_df.sort_values('week', inplace=True)        \n",
    "    features = input_df.select_dtypes(include=['float32','int32','int64','float64','uint8']).columns.tolist()\n",
    "    features.remove('year')\n",
    "    features.remove('target')\n",
    "    features.remove('target_rank')\n",
    "    features.remove('target_boxcox')\n",
    "\n",
    "#     est = SVR(kernel='linear',C=10)\n",
    "#     est = GradientBoostingRegressor(n_estimators=20, learning_rate=0.1)\n",
    "#     est = RandomForestRegressor(n_estimators=10)\n",
    "    est = lin.LassoCV()\n",
    "\n",
    "    df_train = input_df[input_df.target_week < week]\n",
    "    df_test = input_df[input_df.target_week == week]\n",
    "#     print(\"Train size:\",df_train.shape)\n",
    "#     print(\"Test  size:\",df_test.shape)\n",
    "\n",
    "    X_train = df_train[features]\n",
    "    y_train = df_train['target_rank']\n",
    "    X_test = df_test[features]\n",
    "    y_test = df_test['target_rank']\n",
    "\n",
    "    ss = StandardScaler()\n",
    "    X_train = ss.fit_transform(X_train)\n",
    "    X_test = ss.fit_transform(X_test)\n",
    "\n",
    "    est.fit(X_train,y_train)\n",
    "\n",
    "    y_pred = est.predict(X_train)\n",
    "#     train_mse = (metrics.mean_squared_error(y_train, y_pred))**(0.5)\n",
    "    train_mse = metrics.r2_score(y_train, y_pred)\n",
    "\n",
    "    y_pred = est.predict(X_test)\n",
    "#     test_mse = (metrics.mean_squared_error(y_test, y_pred))**(0.5)\n",
    "    test_mse = metrics.r2_score(y_test, y_pred)\n",
    "    \n",
    "    df_test = df_test.reset_index()[['target_week','target_rank']]\n",
    "    df_test['MODEL_PRED'] = pd.Series(y_pred)\n",
    "    df_test['RESIDUALS'] = df_test['MODEL_PRED'] - df_test['target_rank']\n",
    "    \n",
    "    coefs = None\n",
    "    if 'sklearn.linear_model' in est.__module__:\n",
    "        coef_ranks = list(zip(abs(est.coef_), est.coef_, features))\n",
    "        coefs = sorted(coef_ranks, key=lambda x: x[0], reverse=True)\n",
    "    else:\n",
    "        coef_ranks = list(zip(est.feature_importances_, features))\n",
    "        coefs = sorted(coef_ranks, key=lambda x: x[0], reverse=True)\n",
    "        \n",
    "    return test_mse, train_mse, est, coefs, df_test"
   ]
  },
  {
   "cell_type": "code",
   "execution_count": 192,
   "metadata": {
    "ExecuteTime": {
     "end_time": "2017-12-10T09:05:29.469105Z",
     "start_time": "2017-12-10T09:05:27.468355Z"
    }
   },
   "outputs": [
    {
     "name": "stdout",
     "output_type": "stream",
     "text": [
      "QB\n"
     ]
    },
    {
     "name": "stderr",
     "output_type": "stream",
     "text": [
      "/home/rjh336/anaconda2/envs/metis/lib/python3.5/site-packages/sklearn/linear_model/coordinate_descent.py:491: ConvergenceWarning: Objective did not converge. You might want to increase the number of iterations. Fitting data with very small alpha may cause precision problems.\n",
      "  ConvergenceWarning)\n"
     ]
    },
    {
     "name": "stdout",
     "output_type": "stream",
     "text": [
      "train r2: 0.0971708581343\n",
      "test  r2: 0.143580942448\n",
      "RB\n"
     ]
    },
    {
     "name": "stderr",
     "output_type": "stream",
     "text": [
      "/home/rjh336/anaconda2/envs/metis/lib/python3.5/site-packages/sklearn/linear_model/coordinate_descent.py:491: ConvergenceWarning: Objective did not converge. You might want to increase the number of iterations. Fitting data with very small alpha may cause precision problems.\n",
      "  ConvergenceWarning)\n"
     ]
    },
    {
     "name": "stdout",
     "output_type": "stream",
     "text": [
      "train r2: 0.355036147471\n",
      "test  r2: 0.389097720543\n",
      "WR\n",
      "train r2: 0.214348133224\n",
      "test  r2: 0.253348170373\n",
      "TE\n",
      "train r2: 0.205358698623\n",
      "test  r2: 0.18536498001\n"
     ]
    }
   ],
   "source": [
    "coefs_all = {}\n",
    "ests_positions = {}\n",
    "resids_positions = []\n",
    "\n",
    "for pos, data in [('QB',QB_df),('RB',RB_df),('WR',WR_df),('TE',TE_df)]:\n",
    "    print(pos)\n",
    "    mses_test, mses_train, est, coefs, resids = regression_tts(data)\n",
    "    \n",
    "    print('train r2:',mses_train)\n",
    "    print('test  r2:',mses_test)\n",
    "    coefs_all[pos] = coefs\n",
    "    ests_positions[pos] = est\n",
    "    resids['position'] = pos\n",
    "    resids_positions.append(resids)"
   ]
  },
  {
   "cell_type": "code",
   "execution_count": 189,
   "metadata": {
    "ExecuteTime": {
     "end_time": "2017-12-10T09:04:36.876506Z",
     "start_time": "2017-12-10T09:04:35.912592Z"
    }
   },
   "outputs": [
    {
     "name": "stdout",
     "output_type": "stream",
     "text": [
      "QB\n",
      "train r2: 0.231531602059\n",
      "test  r2: 0.132934113121\n",
      "RB\n",
      "train r2: 0.409902604767\n",
      "test  r2: 0.400502360892\n",
      "WR\n",
      "train r2: 0.293958642448\n",
      "test  r2: 0.273403913732\n",
      "TE\n",
      "train r2: 0.330446910481\n",
      "test  r2: 0.160389746365\n"
     ]
    }
   ],
   "source": [
    "coefs_all = {}\n",
    "ests_positions = {}\n",
    "resids_positions = []\n",
    "\n",
    "for pos, data in [('QB',QB_df),('RB',RB_df),('WR',WR_df),('TE',TE_df)]:\n",
    "    print(pos)\n",
    "    mses_test, mses_train, est, coefs, resids = regression_tts(data)\n",
    "    \n",
    "    print('train r2:',mses_train)\n",
    "    print('test  r2:',mses_test)\n",
    "    coefs_all[pos] = coefs\n",
    "    ests_positions[pos] = est\n",
    "    resids['position'] = pos\n",
    "    resids_positions.append(resids)"
   ]
  },
  {
   "cell_type": "code",
   "execution_count": 190,
   "metadata": {
    "ExecuteTime": {
     "end_time": "2017-12-10T09:04:44.314620Z",
     "start_time": "2017-12-10T09:04:44.301116Z"
    },
    "collapsed": true
   },
   "outputs": [
    {
     "name": "stdout",
     "output_type": "stream",
     "text": [
      "TE\n",
      "[(0.17708757345144749, 'receiving_rec_mean'),\n",
      " (0.13759187196120398, 'offensive_snap_pct'),\n",
      " (0.084217854957700275, 'fd_salary'),\n",
      " (0.05910338644109011, 'player_weight'),\n",
      " (0.049483059571457468, 'fantasy_points_mean')]\n",
      "QB\n",
      "[(0.1379020819590383, 'fd_salary'),\n",
      " (0.077351511896607578, 'offensive_snap_pct'),\n",
      " (0.059525401389651532, 'passing_yds_mean'),\n",
      " (0.050857694469189287, 'passing_att_mean'),\n",
      " (0.048471167969822128, 'player_weight')]\n",
      "RB\n",
      "[(0.18728133799236668, 'rushing_att_mean'),\n",
      " (0.115428806118631, 'rushing_yds_mean'),\n",
      " (0.073955775455365649, 'fd_salary'),\n",
      " (0.044443537908808145, 'receiving_yds_mean'),\n",
      " (0.044105518155740597, 'offensive_snap_tot')]\n",
      "WR\n",
      "[(0.15052512065532103, 'fd_salary'),\n",
      " (0.150194109756568, 'receiving_rec_mean'),\n",
      " (0.12931414321031315, 'offensive_snap_pct'),\n",
      " (0.10924941798172272, 'player_weight'),\n",
      " (0.050238186851404285, 'years_pro')]\n"
     ]
    }
   ],
   "source": [
    "for pos in coefs_all.keys():\n",
    "    print(pos)\n",
    "    pprint(coefs_all[pos][:5])"
   ]
  },
  {
   "cell_type": "code",
   "execution_count": 193,
   "metadata": {
    "ExecuteTime": {
     "end_time": "2017-12-10T09:05:54.441906Z",
     "start_time": "2017-12-10T09:05:54.416954Z"
    },
    "scrolled": true
   },
   "outputs": [
    {
     "name": "stdout",
     "output_type": "stream",
     "text": [
      "TE\n",
      "[(1.6661006588565632, -1.6661006588565632, 'receiving_yds_mean'),\n",
      " (0.84317836253249567, -0.84317836253249567, 'receiving_rec_mean'),\n",
      " (0.62733886791477833, -0.62733886791477833, 'offensive_snap_pct'),\n",
      " (0.61229418012175207, -0.61229418012175207, 'years_pro'),\n",
      " (0.53279759159959694, -0.53279759159959694, 'offensive_snap_tot')]\n",
      "QB\n",
      "[(0.54121803702627458, -0.54121803702627458, 'rushing_tds_mean'),\n",
      " (0.34891104753485958, 0.34891104753485958, 'chg_fumbles_lost'),\n",
      " (0.2970929001222426, -0.2970929001222426, 'years_pro'),\n",
      " (0.29699013683271253, -0.29699013683271253, 'week'),\n",
      " (0.21498515504009871, -0.21498515504009871, 'rushing_att_mean')]\n",
      "RB\n",
      "[(4.6001629680661962, -4.6001629680661962, 'offensive_snap_pct'),\n",
      " (4.2783918416852673, -4.2783918416852673, 'rushing_att_mean'),\n",
      " (1.6991627505538323, -1.6991627505538323, 'receiving_yds_mean'),\n",
      " (1.6515334330191396, -1.6515334330191396, 'player_weight'),\n",
      " (1.4136830481196729, -1.4136830481196729, 'week')]\n",
      "WR\n",
      "[(2.7785500253718811, -2.7785500253718811, 'offensive_snap_pct'),\n",
      " (2.6299204973742869, -2.6299204973742869, 'receiving_rec_mean'),\n",
      " (2.0550690489613892, -2.0550690489613892, 'player_weight'),\n",
      " (1.3457669931079546, -1.3457669931079546, 'years_pro'),\n",
      " (1.1831225909503265, -1.1831225909503265, 'receiving_yds_mean')]\n"
     ]
    }
   ],
   "source": [
    "for pos in coefs_all.keys():\n",
    "    print(pos)\n",
    "    pprint(coefs_all[pos][:5])"
   ]
  },
  {
   "cell_type": "markdown",
   "metadata": {},
   "source": [
    "## model output"
   ]
  },
  {
   "cell_type": "code",
   "execution_count": 138,
   "metadata": {
    "ExecuteTime": {
     "end_time": "2017-12-10T08:16:17.245863Z",
     "start_time": "2017-12-10T08:16:17.216471Z"
    }
   },
   "outputs": [],
   "source": [
    "model_results = pd.concat(resids_positions)\n",
    "model_results = model_results.sort_values('MODEL_PRED').reset_index()\n",
    "\n",
    "model_results_QB = resids_positions[0].sort_values('MODEL_PRED').reset_index()\n",
    "\n",
    "model_results_RB = resids_positions[1].sort_values('MODEL_PRED').reset_index()\n",
    "\n",
    "model_results_WR = resids_positions[2].sort_values('MODEL_PRED').reset_index()\n",
    "\n",
    "model_results_TE = resids_positions[3].sort_values('MODEL_PRED').reset_index()"
   ]
  },
  {
   "cell_type": "code",
   "execution_count": 139,
   "metadata": {
    "ExecuteTime": {
     "end_time": "2017-12-10T08:16:18.108351Z",
     "start_time": "2017-12-10T08:16:17.783589Z"
    }
   },
   "outputs": [
    {
     "data": {
      "text/plain": [
       "<matplotlib.collections.PathCollection at 0xaa74ea4c>"
      ]
     },
     "execution_count": 139,
     "metadata": {},
     "output_type": "execute_result"
    },
    {
     "data": {
      "image/png": "[encoded data removed]",
      "text/plain": [
       "<matplotlib.figure.Figure at 0xaa76240c>"
      ]
     },
     "metadata": {},
     "output_type": "display_data"
    }
   ],
   "source": [
    "plt.figure(figsize=(10,5))\n",
    "plt.scatter(model_results.MODEL_PRED, model_results.RESIDUALS, s=3)"
   ]
  },
  {
   "cell_type": "code",
   "execution_count": 140,
   "metadata": {
    "ExecuteTime": {
     "end_time": "2017-12-10T08:16:22.180120Z",
     "start_time": "2017-12-10T08:16:21.961284Z"
    }
   },
   "outputs": [
    {
     "data": {
      "text/plain": [
       "<matplotlib.collections.PathCollection at 0xaa5c278c>"
      ]
     },
     "execution_count": 140,
     "metadata": {},
     "output_type": "execute_result"
    },
    {
     "data": {
      "image/png": "[encoded data removed]",
      "text/plain": [
       "<matplotlib.figure.Figure at 0xaaa8c86c>"
      ]
     },
     "metadata": {},
     "output_type": "display_data"
    }
   ],
   "source": [
    "plt.figure(figsize=(10,5))\n",
    "plt.scatter(model_results_QB.MODEL_PRED, model_results_QB.RESIDUALS, s=3)"
   ]
  },
  {
   "cell_type": "code",
   "execution_count": 141,
   "metadata": {
    "ExecuteTime": {
     "end_time": "2017-12-10T08:16:23.573754Z",
     "start_time": "2017-12-10T08:16:23.315756Z"
    }
   },
   "outputs": [
    {
     "data": {
      "text/plain": [
       "<matplotlib.collections.PathCollection at 0xaa65ebcc>"
      ]
     },
     "execution_count": 141,
     "metadata": {},
     "output_type": "execute_result"
    },
    {
     "data": {
      "image/png": "[encoded data removed]",
      "text/plain": [
       "<matplotlib.figure.Figure at 0xaa75ad0c>"
      ]
     },
     "metadata": {},
     "output_type": "display_data"
    }
   ],
   "source": [
    "plt.figure(figsize=(10,5))\n",
    "plt.scatter(model_results_RB.MODEL_PRED, model_results_RB.RESIDUALS, s=3)"
   ]
  },
  {
   "cell_type": "code",
   "execution_count": 142,
   "metadata": {
    "ExecuteTime": {
     "end_time": "2017-12-10T08:16:25.487575Z",
     "start_time": "2017-12-10T08:16:25.176956Z"
    }
   },
   "outputs": [
    {
     "data": {
      "text/plain": [
       "<matplotlib.collections.PathCollection at 0xaa5891ac>"
      ]
     },
     "execution_count": 142,
     "metadata": {},
     "output_type": "execute_result"
    },
    {
     "data": {
      "image/png": "[encoded data removed]",
      "text/plain": [
       "<matplotlib.figure.Figure at 0xaa75aa8c>"
      ]
     },
     "metadata": {},
     "output_type": "display_data"
    }
   ],
   "source": [
    "plt.figure(figsize=(10,5))\n",
    "plt.scatter(model_results_WR.MODEL_PRED, model_results_WR.RESIDUALS, s=3)"
   ]
  },
  {
   "cell_type": "code",
   "execution_count": 143,
   "metadata": {
    "ExecuteTime": {
     "end_time": "2017-12-10T08:16:27.865394Z",
     "start_time": "2017-12-10T08:16:27.592993Z"
    }
   },
   "outputs": [
    {
     "data": {
      "text/plain": [
       "<matplotlib.collections.PathCollection at 0xaa941f6c>"
      ]
     },
     "execution_count": 143,
     "metadata": {},
     "output_type": "execute_result"
    },
    {
     "data": {
      "image/png": "[encoded data removed]",
      "text/plain": [
       "<matplotlib.figure.Figure at 0xaa5ad0ec>"
      ]
     },
     "metadata": {},
     "output_type": "display_data"
    }
   ],
   "source": [
    "plt.figure(figsize=(10,5))\n",
    "plt.scatter(model_results_TE.MODEL_PRED, model_results_TE.RESIDUALS, s=3)"
   ]
  },
  {
   "cell_type": "code",
   "execution_count": 144,
   "metadata": {
    "ExecuteTime": {
     "end_time": "2017-12-10T08:16:30.375834Z",
     "start_time": "2017-12-10T08:16:30.049247Z"
    }
   },
   "outputs": [
    {
     "name": "stdout",
     "output_type": "stream",
     "text": [
      "-1.68385729853\n"
     ]
    },
    {
     "data": {
      "image/png": "[encoded data removed]",
      "text/plain": [
       "<matplotlib.figure.Figure at 0xaa92c04c>"
      ]
     },
     "metadata": {},
     "output_type": "display_data"
    }
   ],
   "source": [
    "font = {'size'   : 20}\n",
    "matplotlib.rc('font', **font) \n",
    "model_results.RESIDUALS.hist(bins=50)\n",
    "print(model_results.RESIDUALS.mean())"
   ]
  },
  {
   "cell_type": "code",
   "execution_count": null,
   "metadata": {
    "ExecuteTime": {
     "end_time": "2017-12-08T17:09:37.585047Z",
     "start_time": "2017-12-08T17:09:37.424Z"
    },
    "collapsed": true
   },
   "outputs": [],
   "source": [
    "matplotlib.rc('font', **font) \n",
    "model_results.ESPN_ERROR.hist(bins=50)\n",
    "print(model_results.ESPN_ERROR.mean())"
   ]
  },
  {
   "cell_type": "code",
   "execution_count": null,
   "metadata": {
    "ExecuteTime": {
     "end_time": "2017-12-08T17:09:37.585731Z",
     "start_time": "2017-12-08T17:09:37.427Z"
    },
    "collapsed": true,
    "scrolled": false
   },
   "outputs": [],
   "source": [
    "# view results\n",
    "\n",
    "examine = ['full_name','position','team','target_defense','target_week','years_pro','fantasy_points_histmean',\n",
    "           'fantasy_points_mean','yh_salary','proj_pts','target','LR_PREDICT','LR_ERROR','ESPN_ERROR']\n",
    "\n",
    "model_results[model_results.target_week==13][examine].sort_values('ESPN_ERROR', ascending=True).head()"
   ]
  },
  {
   "cell_type": "code",
   "execution_count": null,
   "metadata": {
    "ExecuteTime": {
     "end_time": "2017-12-08T17:09:37.586460Z",
     "start_time": "2017-12-08T17:09:37.430Z"
    },
    "collapsed": true
   },
   "outputs": [],
   "source": [
    "model_results[model_results.target_week==10][examine].sort_values('LR_ERROR', ascending=False).tail()"
   ]
  },
  {
   "cell_type": "markdown",
   "metadata": {},
   "source": [
    "## holdout test"
   ]
  },
  {
   "cell_type": "code",
   "execution_count": null,
   "metadata": {
    "ExecuteTime": {
     "end_time": "2017-12-10T04:44:26.897802Z",
     "start_time": "2017-12-10T04:44:26.737830Z"
    },
    "collapsed": true
   },
   "outputs": [],
   "source": [
    "def weekly_regression_predict(input_df, weeks, est):\n",
    "        \n",
    "    features = input_df.select_dtypes(include=['float32','int32','int64','float64','uint8']).columns.tolist()\n",
    "    features.remove('target')\n",
    "    features.remove('target_rank')\n",
    "    features.remove('target_boxcox')\n",
    "    features.remove('proj_pts')\n",
    "    \n",
    "    train_mse = []\n",
    "    test_mse = []\n",
    "    week_nums = []\n",
    "    y_preds = []\n",
    "    coefs = []\n",
    "\n",
    "    for week in weeks:\n",
    "       \n",
    "        df_train = input_df[input_df.target_week < week]\n",
    "        df_test = input_df[input_df.target_week == week]\n",
    "#         print(\"Week\",week,\"Train size:\",df_train.shape)\n",
    "#         print(\"Week\",week,\"Test  size:\",df_test.shape)\n",
    "        \n",
    "        X_train = df_train[features]\n",
    "        y_train = df_train['target_rank']\n",
    "        \n",
    "        ss = StandardScaler()\n",
    "        X_train = ss.fit_transform(X_train)\n",
    "        X_test = ss.fit_transform(X_test)\n",
    "\n",
    "        y_pred = est.predict(X_test)\n",
    "#         score = (metrics.mean_squared_error(y_test, y_pred))**(0.5)\n",
    "        score = metrics.r2_score(y_test, y_pred)\n",
    "        test_mse.append(score)\n",
    "        y_preds.append(y_pred)\n",
    "        \n",
    "        if 'sklearn.linear_model' in est.__module__:\n",
    "            coef_ranks = list(zip(abs(est.coef_), est.coef_, features))\n",
    "            coef_ranks = sorted(coef_ranks, key=lambda x: x[0], reverse=True)\n",
    "            coefs.append(coef_ranks)\n",
    "        else:\n",
    "            coef_ranks = list(zip(est.feature_importances_, features))\n",
    "            coef_ranks = sorted(coef_ranks, key=lambda x: x[0], reverse=True)\n",
    "            coefs.append(coef_ranks)\n",
    "        \n",
    "    return week_nums, test_mse, train_mse, y_preds, coefs"
   ]
  },
  {
   "cell_type": "code",
   "execution_count": null,
   "metadata": {
    "collapsed": true
   },
   "outputs": [],
   "source": [
    "font = {'size'   : 13}\n",
    "matplotlib.rc('font', **font) \n",
    "\n",
    "coefs_all = {}\n",
    "mses_all = {}\n",
    "y_preds_all = {}\n",
    "f, (ax2, ax3, ax4, ax5) = plt.subplots(4,figsize=(12,25), sharex=True)\n",
    "\n",
    "for pos, data, ax in [('QB',QB_df,ax2),('RB',RB_df,ax3),('WR',WR_df,ax4),('TE',TE_df,ax5)]:\n",
    "    \n",
    "    weeks, mses_test, mses_train, y_preds, coefs = weekly_regression_all(data, weeks)\n",
    "    print(\"Season-To-Date   MEAN:\",np.mean(mses_test))\n",
    "    print(\"Season-To-Date MEDIAN:\",np.median(mses_test))\n",
    "    mses_all[pos] = (np.mean(mses_test))\n",
    "    coefs_all[pos] = coefs\n",
    "    y_preds_all[pos] = y_preds\n",
    "    \n",
    "    ax.plot(weeks, mses_test, label=\"Test Error\", linewidth=4)\n",
    "    ax.plot(weeks, mses_train, label=\"Train Error\", linewidth=4)\n",
    "    ax.set_xticks(weeks)\n",
    "    ax.set_ylabel(\"RMSE\")\n",
    "    ax.set_title(pos)\n",
    "    ax.legend()"
   ]
  },
  {
   "cell_type": "code",
   "execution_count": null,
   "metadata": {
    "collapsed": true
   },
   "outputs": [],
   "source": []
  },
  {
   "cell_type": "code",
   "execution_count": null,
   "metadata": {
    "collapsed": true
   },
   "outputs": [],
   "source": []
  },
  {
   "cell_type": "code",
   "execution_count": null,
   "metadata": {
    "collapsed": true
   },
   "outputs": [],
   "source": []
  },
  {
   "cell_type": "code",
   "execution_count": null,
   "metadata": {
    "collapsed": true
   },
   "outputs": [],
   "source": []
  },
  {
   "cell_type": "code",
   "execution_count": null,
   "metadata": {
    "collapsed": true
   },
   "outputs": [],
   "source": []
  },
  {
   "cell_type": "code",
   "execution_count": null,
   "metadata": {
    "collapsed": true
   },
   "outputs": [],
   "source": []
  },
  {
   "cell_type": "code",
   "execution_count": null,
   "metadata": {
    "collapsed": true
   },
   "outputs": [],
   "source": []
  },
  {
   "cell_type": "code",
   "execution_count": null,
   "metadata": {
    "collapsed": true
   },
   "outputs": [],
   "source": []
  },
  {
   "cell_type": "code",
   "execution_count": null,
   "metadata": {
    "collapsed": true
   },
   "outputs": [],
   "source": []
  },
  {
   "cell_type": "code",
   "execution_count": null,
   "metadata": {
    "collapsed": true
   },
   "outputs": [],
   "source": []
  },
  {
   "cell_type": "markdown",
   "metadata": {},
   "source": [
    "## weekly regression"
   ]
  },
  {
   "cell_type": "code",
   "execution_count": null,
   "metadata": {
    "ExecuteTime": {
     "end_time": "2017-12-10T04:44:26.897802Z",
     "start_time": "2017-12-10T04:44:26.737830Z"
    },
    "collapsed": true
   },
   "outputs": [],
   "source": [
    "def weekly_regression_all(input_df, weeks):\n",
    "        \n",
    "    features = input_df.select_dtypes(include=['float32','int32','int64','float64','uint8']).columns.tolist()\n",
    "    features.remove('target')\n",
    "#     features = ['QB','WR','RB','TE','years_pro','age','weight','height','player_weight',\n",
    "#                 'fantasy_points_mean','target_week','defensive_matchup_allowed']\n",
    "   \n",
    "    train_mse = []\n",
    "    test_mse = []\n",
    "    week_nums = []\n",
    "    y_preds = []\n",
    "    ests = []\n",
    "    coefs = []\n",
    "\n",
    "    for week in weeks:\n",
    "#         est = SVR(kernel='linear',C=10)\n",
    "#         est = GradientBoostingRegressor(n_estimators=10, learning_rate=0.01)\n",
    "#         est = RandomForestRegressor(n_estimators=10)\n",
    "        est = lin.LassoCV()\n",
    "#         est = XGBRegressor()\n",
    "                \n",
    "        df_train = input_df[input_df.target_week < week]\n",
    "        df_test = input_df[input_df.target_week == week]\n",
    "#         print(\"Week\",week,\"Train size:\",df_train.shape)\n",
    "#         print(\"Week\",week,\"Test  size:\",df_test.shape)\n",
    "        \n",
    "        X_train = df_train[features]\n",
    "        y_train = df_train['target']\n",
    "        X_test = df_test[features]\n",
    "        y_test = df_test['target']\n",
    "        \n",
    "        ss = StandardScaler()\n",
    "        X_train = ss.fit_transform(X_train)\n",
    "        X_test = ss.fit_transform(X_test)\n",
    "        \n",
    "        est.fit(X_train,y_train)\n",
    "        \n",
    "        y_pred = est.predict(X_train)\n",
    "        score = (metrics.mean_squared_error(y_train, y_pred))**(0.5)\n",
    "        train_mse.append(score)\n",
    "        \n",
    "        y_pred = est.predict(X_test)\n",
    "        score = (metrics.mean_squared_error(y_test, y_pred))**(0.5)\n",
    "        test_mse.append(score)\n",
    "        y_preds.append(y_pred)\n",
    "        \n",
    "        week_nums.append(week)\n",
    "        ests.append((week, est))\n",
    "        \n",
    "        if 'sklearn.linear_model' in est.__module__:\n",
    "            coef_ranks = list(zip(abs(est.coef_), est.coef_, features))\n",
    "            coef_ranks = sorted(coef_ranks, key=lambda x: x[0], reverse=True)\n",
    "            coefs.append(coef_ranks)\n",
    "        else:\n",
    "            coef_ranks = list(zip(est.feature_importances_, features))\n",
    "            coef_ranks = sorted(coef_ranks, key=lambda x: x[0], reverse=True)\n",
    "            coefs.append(coef_ranks)\n",
    "        \n",
    "    return week_nums, test_mse, train_mse, y_preds, ests, coefs"
   ]
  },
  {
   "cell_type": "code",
   "execution_count": null,
   "metadata": {
    "ExecuteTime": {
     "end_time": "2017-12-10T04:44:50.146797Z",
     "start_time": "2017-12-10T04:44:26.973497Z"
    },
    "collapsed": true
   },
   "outputs": [],
   "source": [
    "font = {'size'   : 13}\n",
    "matplotlib.rc('font', **font) \n",
    "\n",
    "coefs_all = {}\n",
    "mses_all = {}\n",
    "y_preds_all = {}\n",
    "ests_positions = {}\n",
    "f, (ax2, ax3, ax4, ax5) = plt.subplots(4,figsize=(12,25), sharex=True)\n",
    "\n",
    "for pos, data, ax in [('QB',QB_df,ax2),('RB',RB_df,ax3),('WR',WR_df,ax4),('TE',TE_df,ax5)]:\n",
    "    \n",
    "    weeks, mses_test, mses_train, y_preds, ests, coefs = weekly_regression_all(data, weeks)\n",
    "    print(\"STD MEAN:\",np.mean(mses_test))\n",
    "    print(\"STD MEDIAN:\",np.median(mses_test))\n",
    "    mses_all[pos] = (np.mean(mses_test))\n",
    "    coefs_all[pos] = coefs\n",
    "    y_preds_all[pos] = y_preds\n",
    "    ests_positions[pos] = ests\n",
    "    ax.plot(weeks, mses_test, label=\"Test Error\", linewidth=4)\n",
    "    ax.plot(weeks, mses_train, label=\"Train Error\", linewidth=4)\n",
    "    ax.set_xticks(weeks)\n",
    "    ax.set_ylabel(\"RMSE\")\n",
    "    ax.set_title(pos)\n",
    "    ax.legend()"
   ]
  },
  {
   "cell_type": "code",
   "execution_count": null,
   "metadata": {
    "ExecuteTime": {
     "end_time": "2017-12-09T23:26:51.494926Z",
     "start_time": "2017-12-09T23:26:51.468065Z"
    },
    "scrolled": true
   },
   "outputs": [],
   "source": [
    "pos = 'QB'\n",
    "for week, c in zip(weeks, coefs_all[pos]):\n",
    "    print(\"\\nWEEK:\",week)\n",
    "    pprint(c[:4])"
   ]
  },
  {
   "cell_type": "code",
   "execution_count": null,
   "metadata": {
    "ExecuteTime": {
     "end_time": "2017-12-09T23:22:10.842880Z",
     "start_time": "2017-12-09T23:20:05.232802Z"
    },
    "scrolled": true
   },
   "outputs": [],
   "source": [
    "weeks, mses_test, mses_train, y_preds, roto_scores, ests, coefs = weekly_regression_all(model_df, weeks)\n",
    "\n",
    "print(\"STD MEAN:\",np.mean(mses_test))\n",
    "print(\"STD MEDIAN:\",np.median(mses_test))\n",
    "plt.figure(figsize=(25,12))\n",
    "plt.plot(weeks, mses_test, label=\"Model Test Error\", linewidth=4)\n",
    "plt.plot(weeks, mses_train, label=\"Model Train Error\", linewidth=4)\n",
    "# plt.plot(weeks, roto_scores, label=\"ESPN Error\", linestyle='--', linewidth=4)\n",
    "plt.xticks(weeks)\n",
    "plt.ylabel(\"RMSE\")\n",
    "font = {'size'   : 15}\n",
    "matplotlib.rc('font', **font)    \n",
    "plt.legend()"
   ]
  },
  {
   "cell_type": "code",
   "execution_count": null,
   "metadata": {
    "ExecuteTime": {
     "end_time": "2017-12-09T02:02:29.423485Z",
     "start_time": "2017-12-09T02:02:29.397760Z"
    },
    "collapsed": true,
    "scrolled": true
   },
   "outputs": [],
   "source": [
    "for week, features, mse in zip(weeks, coefs, mses_test):\n",
    "    print(\"WEEK:\", week, \"ERROR:\", mse)\n",
    "    pprint(features[:8])\n",
    "    print('\\n')"
   ]
  },
  {
   "cell_type": "markdown",
   "metadata": {},
   "source": [
    "## model output"
   ]
  },
  {
   "cell_type": "code",
   "execution_count": null,
   "metadata": {
    "ExecuteTime": {
     "end_time": "2017-12-08T17:09:37.575514Z",
     "start_time": "2017-12-08T17:09:37.413Z"
    },
    "collapsed": true,
    "scrolled": false
   },
   "outputs": [],
   "source": [
    "model_examine_dfs = []\n",
    "for check_week in weeks:\n",
    "    model_df_examine = model_df[model_df.target_week == check_week].copy().reset_index()\n",
    "#     model_df_examine = model_df_examine[~model_df.position.isin(['RB','WR','TE'])]\n",
    "    model_df_examine.loc[:,'LR_PREDICT'] = pd.Series(y_preds[int(check_week-3)].tolist())\n",
    "    model_df_examine['LR_ERROR'] = model_df_examine['LR_PREDICT'].sub(model_df_examine['target'], axis=0)\n",
    "    model_df_examine['ESPN_ERROR'] = model_df_examine['proj_pts'].sub(model_df_examine['target'], axis=0)\n",
    "    model_df_examine['LR_ABS_ERROR'] = model_df_examine.LR_ERROR.abs()\n",
    "    model_examine_dfs.append(model_df_examine)\n",
    "model_results = pd.concat(model_examine_dfs)\n",
    "model_results.sort_values(['week','position','fantasy_points_mean'],inplace=True)"
   ]
  },
  {
   "cell_type": "code",
   "execution_count": null,
   "metadata": {
    "ExecuteTime": {
     "end_time": "2017-12-08T17:09:37.576222Z",
     "start_time": "2017-12-08T17:09:37.416Z"
    },
    "collapsed": true
   },
   "outputs": [],
   "source": [
    "liney = np.zeros((250, ))\n",
    "linex = list(range(250))\n",
    "plt.figure(figsize=(15,5))\n",
    "plt.scatter(model_results.index, model_results.LR_ERROR, s=3)\n",
    "# plt.plot(linex, liney, color='r', linestyle='-', linewidth=3)"
   ]
  },
  {
   "cell_type": "code",
   "execution_count": null,
   "metadata": {
    "ExecuteTime": {
     "end_time": "2017-12-08T17:09:37.576869Z",
     "start_time": "2017-12-08T17:09:37.418Z"
    },
    "collapsed": true
   },
   "outputs": [],
   "source": [
    "plt.figure(figsize=(15,5))\n",
    "plt.scatter(model_results.index, model_results.ESPN_ERROR, s=3)\n",
    "# plt.plot(linex, liney, color='r', linestyle='-', linewidth=3)"
   ]
  },
  {
   "cell_type": "code",
   "execution_count": null,
   "metadata": {
    "ExecuteTime": {
     "end_time": "2017-12-08T17:09:37.584368Z",
     "start_time": "2017-12-08T17:09:37.421Z"
    },
    "collapsed": true
   },
   "outputs": [],
   "source": [
    "font = {'size'   : 20}\n",
    "matplotlib.rc('font', **font) \n",
    "model_results.LR_ERROR.hist(bins=50)\n",
    "print(model_results.LR_ERROR.mean())"
   ]
  },
  {
   "cell_type": "code",
   "execution_count": null,
   "metadata": {
    "ExecuteTime": {
     "end_time": "2017-12-08T17:09:37.585047Z",
     "start_time": "2017-12-08T17:09:37.424Z"
    },
    "collapsed": true
   },
   "outputs": [],
   "source": [
    "matplotlib.rc('font', **font) \n",
    "model_results.ESPN_ERROR.hist(bins=50)\n",
    "print(model_results.ESPN_ERROR.mean())"
   ]
  },
  {
   "cell_type": "code",
   "execution_count": null,
   "metadata": {
    "ExecuteTime": {
     "end_time": "2017-12-08T17:09:37.585731Z",
     "start_time": "2017-12-08T17:09:37.427Z"
    },
    "collapsed": true,
    "scrolled": false
   },
   "outputs": [],
   "source": [
    "# view results\n",
    "\n",
    "examine = ['full_name','position','team','target_defense','target_week','years_pro','fantasy_points_histmean',\n",
    "           'fantasy_points_mean','yh_salary','proj_pts','target','LR_PREDICT','LR_ERROR','ESPN_ERROR']\n",
    "\n",
    "model_results[model_results.target_week==13][examine].sort_values('ESPN_ERROR', ascending=True).head()"
   ]
  },
  {
   "cell_type": "code",
   "execution_count": null,
   "metadata": {
    "ExecuteTime": {
     "end_time": "2017-12-08T17:09:37.586460Z",
     "start_time": "2017-12-08T17:09:37.430Z"
    },
    "collapsed": true
   },
   "outputs": [],
   "source": [
    "model_results[model_results.target_week==10][examine].sort_values('LR_ERROR', ascending=False).tail()"
   ]
  },
  {
   "cell_type": "code",
   "execution_count": null,
   "metadata": {
    "collapsed": true
   },
   "outputs": [],
   "source": []
  },
  {
   "cell_type": "code",
   "execution_count": null,
   "metadata": {
    "collapsed": true
   },
   "outputs": [],
   "source": []
  },
  {
   "cell_type": "code",
   "execution_count": null,
   "metadata": {
    "collapsed": true
   },
   "outputs": [],
   "source": []
  },
  {
   "cell_type": "code",
   "execution_count": null,
   "metadata": {
    "collapsed": true
   },
   "outputs": [],
   "source": []
  }
 ],
 "metadata": {
  "kernelspec": {
   "display_name": "Python [conda env:metis]",
   "language": "python",
   "name": "conda-env-metis-py"
  },
  "language_info": {
   "codemirror_mode": {
    "name": "ipython",
    "version": 3
   },
   "file_extension": ".py",
   "mimetype": "text/x-python",
   "name": "python",
   "nbconvert_exporter": "python",
   "pygments_lexer": "ipython3",
   "version": "3.5.4"
  }
 },
 "nbformat": 4,
 "nbformat_minor": 2
}
