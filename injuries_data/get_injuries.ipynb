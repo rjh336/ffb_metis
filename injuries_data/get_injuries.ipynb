{
 "cells": [
  {
   "cell_type": "code",
   "execution_count": 2,
   "metadata": {
    "ExecuteTime": {
     "end_time": "2017-12-06T16:01:36.166975Z",
     "start_time": "2017-12-06T16:01:36.161365Z"
    },
    "collapsed": true
   },
   "outputs": [],
   "source": [
    "import re\n",
    "import requests\n",
    "import pandas as pd\n",
    "from lxml import html"
   ]
  },
  {
   "cell_type": "code",
   "execution_count": 203,
   "metadata": {
    "ExecuteTime": {
     "end_time": "2017-12-03T04:06:24.559769Z",
     "start_time": "2017-12-03T04:06:24.554838Z"
    },
    "collapsed": true
   },
   "outputs": [],
   "source": [
    "CURR_WEEK = 14\n",
    "root_url = \"http://www.nfl.com/injuries?week={}\"\n",
    "urls = []\n",
    "for week in range(1, CURR_WEEK):\n",
    "    urls.append((week, root_url.format(str(week))))"
   ]
  },
  {
   "cell_type": "code",
   "execution_count": 3,
   "metadata": {
    "ExecuteTime": {
     "end_time": "2017-12-06T16:01:38.995722Z",
     "start_time": "2017-12-06T16:01:38.950719Z"
    },
    "collapsed": true
   },
   "outputs": [],
   "source": [
    "def parse_page(url):\n",
    "    page = requests.get(url)\n",
    "    tree = html.fromstring(page.content).xpath('//ul[@id=\"injuries-players-list\"]/li')\n",
    "    js_to_parse = []\n",
    "    for elem in tree:\n",
    "        attribs = elem.classes._attributes\n",
    "        class_name = 'schedules-list-matchup'\n",
    "        if class_name in attribs['class']:\n",
    "            js_text = elem.xpath('//div[@class=\"player-expanded\"]/script/text()')\n",
    "            js_to_parse.append(\"\".join(js_text))\n",
    "    rawtext = \"\".join(js_to_parse)\n",
    "    return rawtext\n",
    "\n",
    "def extract_data(text, week):\n",
    "    regex = '{player: [0-9A-Za-z\\s\"\\-,:]*[\\s]*}'\n",
    "    m = re.findall(regex, text)\n",
    "    dict_text = []\n",
    "    for item in m:\n",
    "        row = re.sub('([A-Za-z]*):', '\"\\g<1>\":', item)\n",
    "        dict_text.append(row)\n",
    "    dict_data = []\n",
    "    for row in dict_text:\n",
    "        dict_data.append(eval(row))\n",
    "    df = pd.DataFrame(dict_data).drop_duplicates(subset=['esbId'])\n",
    "    df['week'] = week\n",
    "    return df"
   ]
  },
  {
   "cell_type": "code",
   "execution_count": 6,
   "metadata": {
    "ExecuteTime": {
     "end_time": "2017-12-06T16:02:00.463864Z",
     "start_time": "2017-12-06T16:02:00.460973Z"
    },
    "collapsed": true
   },
   "outputs": [],
   "source": [
    "urls = [(13, \"http://www.nfl.com/injuries?week=13\")]"
   ]
  },
  {
   "cell_type": "code",
   "execution_count": 7,
   "metadata": {
    "ExecuteTime": {
     "end_time": "2017-12-06T16:02:01.690706Z",
     "start_time": "2017-12-06T16:02:01.212210Z"
    }
   },
   "outputs": [],
   "source": [
    "injuries = []\n",
    "for week, url in urls:\n",
    "    raw = parse_page(url)\n",
    "    df = extract_data(raw, week)\n",
    "    injuries.append(df)"
   ]
  },
  {
   "cell_type": "code",
   "execution_count": 8,
   "metadata": {
    "ExecuteTime": {
     "end_time": "2017-12-06T16:02:02.797260Z",
     "start_time": "2017-12-06T16:02:02.789346Z"
    },
    "collapsed": true
   },
   "outputs": [],
   "source": [
    "injuries_weekly = pd.concat(injuries)"
   ]
  },
  {
   "cell_type": "code",
   "execution_count": 9,
   "metadata": {
    "ExecuteTime": {
     "end_time": "2017-12-06T16:02:08.438099Z",
     "start_time": "2017-12-06T16:02:08.432177Z"
    },
    "collapsed": true
   },
   "outputs": [],
   "source": [
    "injuries_weekly.to_csv('injuries_weekly_w13.csv')"
   ]
  },
  {
   "cell_type": "code",
   "execution_count": 207,
   "metadata": {
    "ExecuteTime": {
     "end_time": "2017-12-03T04:07:09.072576Z",
     "start_time": "2017-12-03T04:07:09.032332Z"
    }
   },
   "outputs": [
    {
     "name": "stdout",
     "output_type": "stream",
     "text": [
      "<class 'pandas.core.frame.DataFrame'>\n",
      "Int64Index: 3241 entries, 0 to 321\n",
      "Data columns (total 9 columns):\n",
      "esbId             3241 non-null object\n",
      "firstName         3241 non-null object\n",
      "gameStatus        3241 non-null object\n",
      "injury            3241 non-null object\n",
      "lastName          3241 non-null object\n",
      "player            3241 non-null object\n",
      "position          3241 non-null object\n",
      "practiceStatus    3241 non-null object\n",
      "week              3241 non-null int64\n",
      "dtypes: int64(1), object(8)\n",
      "memory usage: 151.9+ KB\n"
     ]
    }
   ],
   "source": [
    "injuries_weekly.info()"
   ]
  },
  {
   "cell_type": "code",
   "execution_count": 208,
   "metadata": {
    "ExecuteTime": {
     "end_time": "2017-12-03T04:07:25.305671Z",
     "start_time": "2017-12-03T04:07:25.290880Z"
    }
   },
   "outputs": [
    {
     "data": {
      "text/plain": [
       "12    322\n",
       "4     307\n",
       "5     289\n",
       "7     284\n",
       "3     282\n",
       "11    276\n",
       "6     274\n",
       "10    270\n",
       "9     268\n",
       "8     263\n",
       "2     239\n",
       "1     167\n",
       "Name: week, dtype: int64"
      ]
     },
     "execution_count": 208,
     "metadata": {},
     "output_type": "execute_result"
    }
   ],
   "source": [
    "injuries_weekly.week.value_counts(dropna=False)"
   ]
  },
  {
   "cell_type": "code",
   "execution_count": 209,
   "metadata": {
    "ExecuteTime": {
     "end_time": "2017-12-03T04:07:40.607011Z",
     "start_time": "2017-12-03T04:07:40.593537Z"
    }
   },
   "outputs": [
    {
     "data": {
      "text/plain": [
       "--              1557\n",
       "Questionable     966\n",
       "Out              603\n",
       "Doubtful         115\n",
       "Name: gameStatus, dtype: int64"
      ]
     },
     "execution_count": 209,
     "metadata": {},
     "output_type": "execute_result"
    }
   ],
   "source": [
    "injuries_weekly.gameStatus.value_counts(dropna=False)"
   ]
  },
  {
   "cell_type": "code",
   "execution_count": 210,
   "metadata": {
    "ExecuteTime": {
     "end_time": "2017-12-03T04:07:41.444187Z",
     "start_time": "2017-12-03T04:07:41.432716Z"
    }
   },
   "outputs": [
    {
     "data": {
      "text/plain": [
       "LB    509\n",
       "WR    389\n",
       "CB    360\n",
       "S     281\n",
       "T     278\n",
       "DE    269\n",
       "RB    252\n",
       "DT    244\n",
       "G     209\n",
       "TE    175\n",
       "C     128\n",
       "QB    110\n",
       "K      24\n",
       "LS      9\n",
       "P       4\n",
       "Name: position, dtype: int64"
      ]
     },
     "execution_count": 210,
     "metadata": {},
     "output_type": "execute_result"
    }
   ],
   "source": [
    "injuries_weekly.position.value_counts(dropna=False)"
   ]
  },
  {
   "cell_type": "code",
   "execution_count": 211,
   "metadata": {
    "ExecuteTime": {
     "end_time": "2017-12-03T04:07:45.111575Z",
     "start_time": "2017-12-03T04:07:45.100065Z"
    }
   },
   "outputs": [
    {
     "data": {
      "text/plain": [
       "Full Participation in Practice       1585\n",
       "Did Not Participate In Practice       907\n",
       "Limited Participation in Practice     749\n",
       "Name: practiceStatus, dtype: int64"
      ]
     },
     "execution_count": 211,
     "metadata": {},
     "output_type": "execute_result"
    }
   ],
   "source": [
    "injuries_weekly.practiceStatus.value_counts(dropna=False)"
   ]
  },
  {
   "cell_type": "code",
   "execution_count": 212,
   "metadata": {
    "ExecuteTime": {
     "end_time": "2017-12-03T04:07:45.766191Z",
     "start_time": "2017-12-03T04:07:45.752417Z"
    }
   },
   "outputs": [
    {
     "data": {
      "text/plain": [
       "--                    1557\n",
       "Knee                   321\n",
       "Ankle                  254\n",
       "Hamstring              213\n",
       "Shoulder               115\n",
       "Concussion             109\n",
       "Back                    81\n",
       "Groin                   80\n",
       "Foot                    64\n",
       "Calf                    52\n",
       "Neck                    44\n",
       "Quadricep               36\n",
       "Illness                 34\n",
       "Hip                     30\n",
       "Thigh                   27\n",
       "Ribs                    23\n",
       "Hand                    23\n",
       "right Shoulder          21\n",
       "Chest                   19\n",
       "Elbow                   12\n",
       "Toe                     12\n",
       "Achilles                12\n",
       "Abdomen                 10\n",
       "Thumb                   10\n",
       "Wrist                    9\n",
       "Rib                      9\n",
       "Shin                     9\n",
       "Core Muscle              8\n",
       "Tricep                   5\n",
       "Finger                   5\n",
       "Eye                      5\n",
       "right Groin              5\n",
       "Biceps                   4\n",
       "Stinger                  3\n",
       "Lower Leg                2\n",
       "Triceps                  2\n",
       "right Knee               2\n",
       "Oblique                  2\n",
       "Fibula                   2\n",
       "Forearm                  1\n",
       "Pectoral                 1\n",
       "left Shoulder            1\n",
       "left Ankle               1\n",
       "Heel                     1\n",
       "Mouth                    1\n",
       "Not Injury Related       1\n",
       "Trapezius                1\n",
       "Right Collarbone         1\n",
       "Lumbar                   1\n",
       "Name: injury, dtype: int64"
      ]
     },
     "execution_count": 212,
     "metadata": {},
     "output_type": "execute_result"
    }
   ],
   "source": [
    "injuries_weekly.injury.value_counts(dropna=False)"
   ]
  },
  {
   "cell_type": "code",
   "execution_count": null,
   "metadata": {
    "collapsed": true
   },
   "outputs": [],
   "source": []
  },
  {
   "cell_type": "markdown",
   "metadata": {},
   "source": [
    "## esbid match"
   ]
  },
  {
   "cell_type": "code",
   "execution_count": 32,
   "metadata": {
    "ExecuteTime": {
     "end_time": "2017-12-03T15:57:52.460442Z",
     "start_time": "2017-12-03T15:57:52.441625Z"
    },
    "collapsed": true
   },
   "outputs": [],
   "source": [
    "profiles = pd.read_csv('profile_urls.csv').drop('Unnamed: 0',axis=1)"
   ]
  },
  {
   "cell_type": "code",
   "execution_count": 4,
   "metadata": {
    "ExecuteTime": {
     "end_time": "2017-12-03T15:40:12.118799Z",
     "start_time": "2017-12-03T15:40:12.108568Z"
    },
    "collapsed": true,
    "scrolled": false
   },
   "outputs": [],
   "source": [
    "profile_urls = profiles.profile_url.drop_duplicates().tolist()"
   ]
  },
  {
   "cell_type": "code",
   "execution_count": 186,
   "metadata": {
    "ExecuteTime": {
     "end_time": "2017-12-03T03:42:26.980106Z",
     "start_time": "2017-12-03T03:36:58.217111Z"
    },
    "collapsed": true
   },
   "outputs": [],
   "source": [
    "esbids_urls = []\n",
    "for url in profile_urls:\n",
    "    page = requests.get(url)\n",
    "    comments = html.fromstring(page.content).xpath('//html//comment()')\n",
    "    comments_list = [x.text for x in comments]\n",
    "    comments_text = \"\".join(comments_list)\n",
    "    regex = 'ESB ID: (.*?)\\n'\n",
    "    m = re.findall(regex, comments_text)\n",
    "    esbid = m[0].strip()\n",
    "    esbids_urls.append({\"esbId\":esbid, \"profile_url\":url})"
   ]
  },
  {
   "cell_type": "code",
   "execution_count": 190,
   "metadata": {
    "ExecuteTime": {
     "end_time": "2017-12-03T03:56:51.689035Z",
     "start_time": "2017-12-03T03:56:51.684600Z"
    },
    "collapsed": true
   },
   "outputs": [],
   "source": [
    "esbids_df = pd.DataFrame(esbids_urls)"
   ]
  },
  {
   "cell_type": "code",
   "execution_count": 191,
   "metadata": {
    "ExecuteTime": {
     "end_time": "2017-12-03T03:57:18.534648Z",
     "start_time": "2017-12-03T03:57:18.528748Z"
    },
    "collapsed": true
   },
   "outputs": [],
   "source": [
    "esbids_df.to_csv('esbids_urls.csv')"
   ]
  },
  {
   "cell_type": "code",
   "execution_count": 215,
   "metadata": {
    "ExecuteTime": {
     "end_time": "2017-12-03T04:10:30.462326Z",
     "start_time": "2017-12-03T04:10:30.444327Z"
    }
   },
   "outputs": [
    {
     "name": "stdout",
     "output_type": "stream",
     "text": [
      "<class 'pandas.core.frame.DataFrame'>\n",
      "RangeIndex: 436 entries, 0 to 435\n",
      "Data columns (total 2 columns):\n",
      "esbId          436 non-null object\n",
      "profile_url    436 non-null object\n",
      "dtypes: object(2)\n",
      "memory usage: 3.4+ KB\n"
     ]
    }
   ],
   "source": [
    "esbids_df.info()"
   ]
  }
 ],
 "metadata": {
  "kernelspec": {
   "display_name": "Python [conda env:metis]",
   "language": "python",
   "name": "conda-env-metis-py"
  },
  "language_info": {
   "codemirror_mode": {
    "name": "ipython",
    "version": 3
   },
   "file_extension": ".py",
   "mimetype": "text/x-python",
   "name": "python",
   "nbconvert_exporter": "python",
   "pygments_lexer": "ipython3",
   "version": "3.5.4"
  }
 },
 "nbformat": 4,
 "nbformat_minor": 2
}
