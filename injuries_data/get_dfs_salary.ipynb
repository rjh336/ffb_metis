{
 "cells": [
  {
   "cell_type": "code",
   "execution_count": 1,
   "metadata": {
    "ExecuteTime": {
     "end_time": "2017-12-08T04:32:35.080061Z",
     "start_time": "2017-12-08T04:32:34.607583Z"
    },
    "collapsed": true
   },
   "outputs": [],
   "source": [
    "import re\n",
    "import requests\n",
    "import pandas as pd\n",
    "from bs4 import BeautifulSoup"
   ]
  },
  {
   "cell_type": "code",
   "execution_count": 2,
   "metadata": {
    "ExecuteTime": {
     "end_time": "2017-12-08T04:32:35.093183Z",
     "start_time": "2017-12-08T04:32:35.081649Z"
    },
    "collapsed": true
   },
   "outputs": [],
   "source": [
    "CURR_WEEK = 14\n",
    "YEARS = [2013,2014,2015]\n",
    "PATH = \"../data/FanDuel/\"\n",
    "root_url = \"http://rotoguru1.com/cgi-bin/fyday.pl?week={}&year={}&game={}&scsv=1\"\n",
    "urls_by_service = {}\n",
    "services = ['fd'] # dk, yh\n",
    "for year in YEARS:\n",
    "    for service in services:\n",
    "        urls = []\n",
    "        for week in range(1, CURR_WEEK):\n",
    "            urls.append(root_url.format(str(week), str(year),service))\n",
    "        urls_by_service[service] = urls"
   ]
  },
  {
   "cell_type": "code",
   "execution_count": 5,
   "metadata": {
    "ExecuteTime": {
     "end_time": "2017-12-08T04:33:32.672282Z",
     "start_time": "2017-12-08T04:33:20.255882Z"
    }
   },
   "outputs": [
    {
     "name": "stderr",
     "output_type": "stream",
     "text": [
      "/home/rjh336/anaconda2/envs/metis/lib/python3.5/site-packages/bs4/__init__.py:181: UserWarning: No parser was explicitly specified, so I'm using the best available HTML parser for this system (\"lxml\"). This usually isn't a problem, but if you run this code on another system, or in a different virtual environment, it may use a different parser and behave differently.\n",
      "\n",
      "The code that caused this warning is on line 193 of the file /home/rjh336/anaconda2/envs/metis/lib/python3.5/runpy.py. To get rid of this warning, change code that looks like this:\n",
      "\n",
      " BeautifulSoup(YOUR_MARKUP})\n",
      "\n",
      "to this:\n",
      "\n",
      " BeautifulSoup(YOUR_MARKUP, \"lxml\")\n",
      "\n",
      "  markup_type=markup_type))\n"
     ]
    }
   ],
   "source": [
    "for year in YEARS:\n",
    "    for service in services:\n",
    "        with open(PATH+service+'_salaries_'+str(year)+'.csv', 'a') as f:\n",
    "            header = \"Week,Year,GID,FirstName,LastName,Pos,Team,h/a,Oppt,\"+service+\"_points,\"+service+\"_salary\\n\"\n",
    "            f.write(header)\n",
    "            for url in urls_by_service[service]:\n",
    "                page = requests.get(url)\n",
    "                soup = BeautifulSoup(page.text)\n",
    "                pre_tag_text = soup.find('pre').text\n",
    "                csv_text = re.sub(';', ',', pre_tag_text)\n",
    "                csv = csv_text.split('\\n')[1:]\n",
    "                f.write(\"\\n\".join(csv))\n",
    "            f.close()"
   ]
  },
  {
   "cell_type": "code",
   "execution_count": null,
   "metadata": {
    "collapsed": true
   },
   "outputs": [],
   "source": []
  }
 ],
 "metadata": {
  "kernelspec": {
   "display_name": "Python [conda env:metis]",
   "language": "python",
   "name": "conda-env-metis-py"
  },
  "language_info": {
   "codemirror_mode": {
    "name": "ipython",
    "version": 3
   },
   "file_extension": ".py",
   "mimetype": "text/x-python",
   "name": "python",
   "nbconvert_exporter": "python",
   "pygments_lexer": "ipython3",
   "version": "3.5.4"
  }
 },
 "nbformat": 4,
 "nbformat_minor": 2
}
