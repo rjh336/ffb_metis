{
 "cells": [
  {
   "cell_type": "code",
   "execution_count": 142,
   "metadata": {
    "ExecuteTime": {
     "end_time": "2017-12-08T02:34:04.862460Z",
     "start_time": "2017-12-08T02:34:04.859213Z"
    },
    "collapsed": true
   },
   "outputs": [],
   "source": [
    "from lxml import html\n",
    "import requests\n",
    "import csv"
   ]
  },
  {
   "cell_type": "code",
   "execution_count": 143,
   "metadata": {
    "ExecuteTime": {
     "end_time": "2017-12-08T02:34:05.368103Z",
     "start_time": "2017-12-08T02:34:05.217195Z"
    },
    "collapsed": true
   },
   "outputs": [],
   "source": [
    "def scrape_page(url, year, week):\n",
    "    resp = requests.get(url)\n",
    "    if resp.status_code == 200:\n",
    "        try:\n",
    "            pagecontent = resp.content\n",
    "            soup = html.fromstring(pagecontent)\n",
    "            tables = soup.xpath('//table[@class=\"stats\"]')\n",
    "            DVOA_table = match_table(tables)\n",
    "            rows = DVOA_table.getchildren()\n",
    "            header = rows[0].getchildren()\n",
    "            header_row = [\"\".join(parse_td_header(td)) for td in header]\n",
    "            rows_data = [[\"\".join(parse_td(td)) for td in tr] for tr in rows[1:]]\n",
    "            with open(\"../data/FO_data/DVOA/\"+str(year)+\"_\"+str(week)+\".csv\", \"w\") as f:\n",
    "                wr = csv.writer(f)\n",
    "                wr.writerow(header_row)\n",
    "                wr.writerows(rows_data)\n",
    "        except:\n",
    "            print(\"PAGE ERROR:\",url)\n",
    "    else:\n",
    "        print(\"STATUS:\",url)\n",
    "\n",
    "def match_table(tables):\n",
    "    table_attribs = {'border': '2', 'cellpadding': '3', 'cellspacing': '0', 'class': 'stats'}\n",
    "    for t in tables:\n",
    "        cmp_table = dict(t.attrib)\n",
    "        if cmp_table == table_attribs:\n",
    "            return t\n",
    "    return None\n",
    "\n",
    "def parse_td_header(td):\n",
    "    regular_td = td.xpath(\"./b/text()\")\n",
    "    DAVE_td = td.xpath(\"./font/b/text()\")\n",
    "    if len(regular_td) > len(DAVE_td):\n",
    "        return regular_td\n",
    "    else:\n",
    "        return DAVE_td\n",
    "\n",
    "def parse_td(td):\n",
    "    regular_td = td.xpath(\"./text()\")\n",
    "    DAVE_td = td.xpath(\"./font/text()\")\n",
    "    if len(regular_td) > len(DAVE_td):\n",
    "        return regular_td\n",
    "    else:\n",
    "        return DAVE_td"
   ]
  },
  {
   "cell_type": "code",
   "execution_count": 144,
   "metadata": {
    "ExecuteTime": {
     "end_time": "2017-12-08T02:34:06.035743Z",
     "start_time": "2017-12-08T02:34:06.030950Z"
    },
    "collapsed": true
   },
   "outputs": [],
   "source": [
    "YEARS = [2013,2014,2015]"
   ]
  },
  {
   "cell_type": "code",
   "execution_count": 145,
   "metadata": {
    "ExecuteTime": {
     "end_time": "2017-12-08T02:35:45.367889Z",
     "start_time": "2017-12-08T02:34:06.350712Z"
    }
   },
   "outputs": [
    {
     "name": "stdout",
     "output_type": "stream",
     "text": [
      "PAGE ERROR: http://www.footballoutsiders.com/dvoa-ratings/2013/week-17-dvoa-ratings\n",
      "PAGE ERROR: http://www.footballoutsiders.com/dvoa-ratings/2014/week-17-dvoa-ratings\n",
      "PAGE ERROR: http://www.footballoutsiders.com/dvoa-ratings/2015/week-17-dvoa-ratings\n"
     ]
    }
   ],
   "source": [
    "root_url = 'http://www.footballoutsiders.com/dvoa-ratings/{}/week-{}-dvoa-ratings'\n",
    "for year in YEARS:\n",
    "    for week in range(1,18):\n",
    "        url = root_url.format(year, week)\n",
    "        scrape_page(url, year, week)"
   ]
  },
  {
   "cell_type": "code",
   "execution_count": null,
   "metadata": {
    "collapsed": true
   },
   "outputs": [],
   "source": []
  }
 ],
 "metadata": {
  "kernelspec": {
   "display_name": "Python [conda env:metis]",
   "language": "python",
   "name": "conda-env-metis-py"
  },
  "language_info": {
   "codemirror_mode": {
    "name": "ipython",
    "version": 3
   },
   "file_extension": ".py",
   "mimetype": "text/x-python",
   "name": "python",
   "nbconvert_exporter": "python",
   "pygments_lexer": "ipython3",
   "version": "3.5.4"
  }
 },
 "nbformat": 4,
 "nbformat_minor": 2
}
