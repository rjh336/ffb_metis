{
 "cells": [
  {
   "cell_type": "code",
   "execution_count": 33,
   "metadata": {
    "ExecuteTime": {
     "end_time": "2017-12-09T22:45:43.888760Z",
     "start_time": "2017-12-09T22:45:43.568076Z"
    },
    "collapsed": true
   },
   "outputs": [],
   "source": [
    "from lxml import html\n",
    "import pandas as pd\n",
    "import requests\n",
    "import pickle\n",
    "import csv\n",
    "import re\n",
    "import os"
   ]
  },
  {
   "cell_type": "code",
   "execution_count": 23,
   "metadata": {
    "ExecuteTime": {
     "end_time": "2017-12-09T22:35:40.631445Z",
     "start_time": "2017-12-09T22:35:40.628128Z"
    },
    "collapsed": true
   },
   "outputs": [],
   "source": [
    "with open('../data/missing_positions_urls.pkl', 'rb') as f:\n",
    "    missing_positions_urls = pickle.load(f)"
   ]
  },
  {
   "cell_type": "code",
   "execution_count": 25,
   "metadata": {
    "ExecuteTime": {
     "end_time": "2017-12-09T22:36:26.733162Z",
     "start_time": "2017-12-09T22:36:26.716533Z"
    },
    "collapsed": true
   },
   "outputs": [],
   "source": [
    "def scrape_page(url):\n",
    "    resp = requests.get(url)\n",
    "    if resp.status_code == 200:\n",
    "        pagecontent = resp.content\n",
    "        soup  = html.fromstring(pagecontent)\n",
    "        player_position = soup.xpath('//div[@id=\"player-bio\"]/div[2]/p/span[2]/text()')          \n",
    "        if len(player_position) == 0:\n",
    "            return ''\n",
    "        else:\n",
    "            return str(re.sub('[^A-Za-z]','',player_position[0]))\n",
    "    else:\n",
    "        print(\"STATUS ERROR:\",url)\n",
    "        return ''"
   ]
  },
  {
   "cell_type": "code",
   "execution_count": 30,
   "metadata": {
    "ExecuteTime": {
     "end_time": "2017-12-09T22:45:19.146020Z",
     "start_time": "2017-12-09T22:37:56.457003Z"
    }
   },
   "outputs": [],
   "source": [
    "missing_positions_dict = {}\n",
    "for url in missing_positions_urls:\n",
    "    position = scrape_page(url)\n",
    "    missing_positions_dict[url] = position"
   ]
  },
  {
   "cell_type": "code",
   "execution_count": 31,
   "metadata": {
    "ExecuteTime": {
     "end_time": "2017-12-09T22:45:19.153123Z",
     "start_time": "2017-12-09T22:45:19.147526Z"
    }
   },
   "outputs": [],
   "source": [
    "with open('../data/missing_positions_dict.pkl', 'wb') as f:\n",
    "    pickle.dump(missing_positions_dict, f)"
   ]
  },
  {
   "cell_type": "code",
   "execution_count": 40,
   "metadata": {
    "ExecuteTime": {
     "end_time": "2017-12-09T22:49:06.119208Z",
     "start_time": "2017-12-09T22:49:05.393813Z"
    }
   },
   "outputs": [],
   "source": [
    "path = '../data/'\n",
    "files = os.listdir(path)\n",
    "player_stats_files = [path+f for f in files if \"player\" in f]\n",
    "\n",
    "df_dict = {}\n",
    "for fn in player_stats_files:\n",
    "    df_dict[fn] = pd.read_csv(fn, index_col=False)"
   ]
  },
  {
   "cell_type": "code",
   "execution_count": 50,
   "metadata": {
    "ExecuteTime": {
     "end_time": "2017-12-09T22:55:04.474627Z",
     "start_time": "2017-12-09T22:55:04.462386Z"
    }
   },
   "outputs": [],
   "source": [
    "missing_vals = pd.Series(missing_positions_dict).reset_index()\n",
    "missing_vals.columns = ['profile_url','position_fill']\n",
    "missing_vals = missing_vals[missing_vals.position_fill != ''] "
   ]
  },
  {
   "cell_type": "code",
   "execution_count": 69,
   "metadata": {
    "ExecuteTime": {
     "end_time": "2017-12-09T23:10:40.365175Z",
     "start_time": "2017-12-09T23:10:40.360058Z"
    },
    "collapsed": true
   },
   "outputs": [],
   "source": [
    "def fill_missing_positions(df, miss_vals):\n",
    "    df2 = df.merge(miss_vals, how='left', on='profile_url')\n",
    "    df2.position.fillna(df2.position_fill, inplace=True)\n",
    "    return df2"
   ]
  },
  {
   "cell_type": "code",
   "execution_count": 70,
   "metadata": {
    "ExecuteTime": {
     "end_time": "2017-12-09T23:12:08.894836Z",
     "start_time": "2017-12-09T23:12:05.181701Z"
    },
    "collapsed": true
   },
   "outputs": [],
   "source": [
    "for fn, df in df_dict.items():\n",
    "    replace = fill_missing_positions(df, missing_vals)\n",
    "    replace.to_csv(fn)"
   ]
  },
  {
   "cell_type": "code",
   "execution_count": null,
   "metadata": {
    "collapsed": true
   },
   "outputs": [],
   "source": []
  }
 ],
 "metadata": {
  "kernelspec": {
   "display_name": "Python [conda env:metis]",
   "language": "python",
   "name": "conda-env-metis-py"
  },
  "language_info": {
   "codemirror_mode": {
    "name": "ipython",
    "version": 3
   },
   "file_extension": ".py",
   "mimetype": "text/x-python",
   "name": "python",
   "nbconvert_exporter": "python",
   "pygments_lexer": "ipython3",
   "version": "3.5.4"
  }
 },
 "nbformat": 4,
 "nbformat_minor": 2
}
